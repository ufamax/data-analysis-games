{
  "nbformat": 4,
  "nbformat_minor": 0,
  "metadata": {
    "celltoolbar": "Raw Cell Format",
    "kernelspec": {
      "display_name": "Python 3",
      "language": "python",
      "name": "python3"
    },
    "language_info": {
      "codemirror_mode": {
        "name": "ipython",
        "version": 3
      },
      "file_extension": ".py",
      "mimetype": "text/x-python",
      "name": "python",
      "nbconvert_exporter": "python",
      "pygments_lexer": "ipython3",
      "version": "3.7.8"
    },
    "toc": {
      "base_numbering": 1,
      "nav_menu": {
        "height": "193px",
        "width": "420px"
      },
      "number_sections": true,
      "sideBar": true,
      "skip_h1_title": true,
      "title_cell": "Table of Contents",
      "title_sidebar": "Contents",
      "toc_cell": false,
      "toc_position": {},
      "toc_section_display": true,
      "toc_window_display": false
    },
    "colab": {
      "name": "data-analyst-project.ipynb",
      "provenance": [],
      "collapsed_sections": []
    }
  },
  "cells": [
    {
      "cell_type": "markdown",
      "metadata": {
        "id": "LoeZIExOhd_O"
      },
      "source": [
        "# ПРОЕКТ"
      ]
    },
    {
      "cell_type": "markdown",
      "metadata": {
        "id": "hMsFjvQjhd_P"
      },
      "source": [
        "## Общая информация"
      ]
    },
    {
      "cell_type": "markdown",
      "metadata": {
        "id": "yjeeA8YLhd_R"
      },
      "source": [
        "<div style=\"background-color: RoyalBlue;\">\n",
        "   \n",
        "Из открытых источников нам доступны исторические данные о продажах игр, оценки пользователей и экспертов, жанры и платформы (например, Xbox или PlayStation). \n",
        "\n",
        "    Описание данных games.csv\n",
        "\n",
        "    Name — название игры\n",
        "    Platform — платформа\n",
        "    Year_of_Release — год выпуска\n",
        "    Genre — жанр игры\n",
        "    NA_sales — продажи в Северной Америке (миллионы долларов)\n",
        "    EU_sales — продажи в Европе (миллионы долларов)\n",
        "    JP_sales — продажи в Японии (миллионы долларов)\n",
        "    Other_sales — продажи в других странах (миллионы долларов)\n",
        "    Critic_Score — оценка критиков (от 0 до 100)\n",
        "    User_Score — оценка пользователей (от 0 до 10)\n",
        "    Rating — рейтинг от организации ESRB (англ. Entertainment Software Rating Board). Эта ассоциация определяет рейтинг компьютерных игр и присваивает им подходящую возрастную категорию.\n",
        "\n",
        "Данные за 2016 год могут быть неполными.\n",
        "</div>"
      ]
    },
    {
      "cell_type": "markdown",
      "metadata": {
        "id": "8m8grAcofsRO"
      },
      "source": [
        "**ЗАДАЧА:**"
      ]
    },
    {
      "cell_type": "markdown",
      "metadata": {
        "id": "O8JiQJwBhd_T"
      },
      "source": [
        "       \n",
        "    Выявить определяющие успешность игры закономерности. Это позволит сделать ставку на потенциально популярный продукт и спланировать рекламные кампании.\n"
      ]
    },
    {
      "cell_type": "code",
      "metadata": {
        "colab": {
          "base_uri": "https://localhost:8080/",
          "height": 206
        },
        "id": "vM6FQq0Ghd_k",
        "outputId": "dc8c8baf-9a0b-4042-c135-c4ee5ce95a2e"
      },
      "source": [
        "# Загрузим файл с данными и ознакомимся с данными, выведем первые 5 строк\n",
        "\n",
        "import pandas as pd\n",
        "import numpy as np\n",
        "import matplotlib.pyplot as plt\n",
        "from scipy import stats as st\n",
        "import seaborn as sns\n",
        "import warnings\n",
        "%matplotlib inline\n",
        "\n",
        "#!wget http://m.ric.media/praktikum/games.csv\n",
        "\n",
        "df = pd.read_csv('http://m.ric.media/praktikum/games.csv')\n",
        "df.head()"
      ],
      "execution_count": null,
      "outputs": [
        {
          "output_type": "execute_result",
          "data": {
            "text/html": [
              "<div>\n",
              "<style scoped>\n",
              "    .dataframe tbody tr th:only-of-type {\n",
              "        vertical-align: middle;\n",
              "    }\n",
              "\n",
              "    .dataframe tbody tr th {\n",
              "        vertical-align: top;\n",
              "    }\n",
              "\n",
              "    .dataframe thead th {\n",
              "        text-align: right;\n",
              "    }\n",
              "</style>\n",
              "<table border=\"1\" class=\"dataframe\">\n",
              "  <thead>\n",
              "    <tr style=\"text-align: right;\">\n",
              "      <th></th>\n",
              "      <th>Name</th>\n",
              "      <th>Platform</th>\n",
              "      <th>Year_of_Release</th>\n",
              "      <th>Genre</th>\n",
              "      <th>NA_sales</th>\n",
              "      <th>EU_sales</th>\n",
              "      <th>JP_sales</th>\n",
              "      <th>Other_sales</th>\n",
              "      <th>Critic_Score</th>\n",
              "      <th>User_Score</th>\n",
              "      <th>Rating</th>\n",
              "    </tr>\n",
              "  </thead>\n",
              "  <tbody>\n",
              "    <tr>\n",
              "      <th>0</th>\n",
              "      <td>Wii Sports</td>\n",
              "      <td>Wii</td>\n",
              "      <td>2006.0</td>\n",
              "      <td>Sports</td>\n",
              "      <td>41.36</td>\n",
              "      <td>28.96</td>\n",
              "      <td>3.77</td>\n",
              "      <td>8.45</td>\n",
              "      <td>76.0</td>\n",
              "      <td>8</td>\n",
              "      <td>E</td>\n",
              "    </tr>\n",
              "    <tr>\n",
              "      <th>1</th>\n",
              "      <td>Super Mario Bros.</td>\n",
              "      <td>NES</td>\n",
              "      <td>1985.0</td>\n",
              "      <td>Platform</td>\n",
              "      <td>29.08</td>\n",
              "      <td>3.58</td>\n",
              "      <td>6.81</td>\n",
              "      <td>0.77</td>\n",
              "      <td>NaN</td>\n",
              "      <td>NaN</td>\n",
              "      <td>NaN</td>\n",
              "    </tr>\n",
              "    <tr>\n",
              "      <th>2</th>\n",
              "      <td>Mario Kart Wii</td>\n",
              "      <td>Wii</td>\n",
              "      <td>2008.0</td>\n",
              "      <td>Racing</td>\n",
              "      <td>15.68</td>\n",
              "      <td>12.76</td>\n",
              "      <td>3.79</td>\n",
              "      <td>3.29</td>\n",
              "      <td>82.0</td>\n",
              "      <td>8.3</td>\n",
              "      <td>E</td>\n",
              "    </tr>\n",
              "    <tr>\n",
              "      <th>3</th>\n",
              "      <td>Wii Sports Resort</td>\n",
              "      <td>Wii</td>\n",
              "      <td>2009.0</td>\n",
              "      <td>Sports</td>\n",
              "      <td>15.61</td>\n",
              "      <td>10.93</td>\n",
              "      <td>3.28</td>\n",
              "      <td>2.95</td>\n",
              "      <td>80.0</td>\n",
              "      <td>8</td>\n",
              "      <td>E</td>\n",
              "    </tr>\n",
              "    <tr>\n",
              "      <th>4</th>\n",
              "      <td>Pokemon Red/Pokemon Blue</td>\n",
              "      <td>GB</td>\n",
              "      <td>1996.0</td>\n",
              "      <td>Role-Playing</td>\n",
              "      <td>11.27</td>\n",
              "      <td>8.89</td>\n",
              "      <td>10.22</td>\n",
              "      <td>1.00</td>\n",
              "      <td>NaN</td>\n",
              "      <td>NaN</td>\n",
              "      <td>NaN</td>\n",
              "    </tr>\n",
              "  </tbody>\n",
              "</table>\n",
              "</div>"
            ],
            "text/plain": [
              "                       Name Platform  ...  User_Score Rating\n",
              "0                Wii Sports      Wii  ...           8      E\n",
              "1         Super Mario Bros.      NES  ...         NaN    NaN\n",
              "2            Mario Kart Wii      Wii  ...         8.3      E\n",
              "3         Wii Sports Resort      Wii  ...           8      E\n",
              "4  Pokemon Red/Pokemon Blue       GB  ...         NaN    NaN\n",
              "\n",
              "[5 rows x 11 columns]"
            ]
          },
          "metadata": {},
          "execution_count": 39
        }
      ]
    },
    {
      "cell_type": "code",
      "metadata": {
        "colab": {
          "base_uri": "https://localhost:8080/"
        },
        "id": "GxNSn56Vhd_o",
        "outputId": "735d6dee-647d-4443-e5df-5b48cff9e570"
      },
      "source": [
        "#посмотрим на структуру датафрейма \n",
        "\n",
        "df.info()"
      ],
      "execution_count": null,
      "outputs": [
        {
          "output_type": "stream",
          "text": [
            "<class 'pandas.core.frame.DataFrame'>\n",
            "RangeIndex: 16715 entries, 0 to 16714\n",
            "Data columns (total 11 columns):\n",
            " #   Column           Non-Null Count  Dtype  \n",
            "---  ------           --------------  -----  \n",
            " 0   Name             16713 non-null  object \n",
            " 1   Platform         16715 non-null  object \n",
            " 2   Year_of_Release  16446 non-null  float64\n",
            " 3   Genre            16713 non-null  object \n",
            " 4   NA_sales         16715 non-null  float64\n",
            " 5   EU_sales         16715 non-null  float64\n",
            " 6   JP_sales         16715 non-null  float64\n",
            " 7   Other_sales      16715 non-null  float64\n",
            " 8   Critic_Score     8137 non-null   float64\n",
            " 9   User_Score       10014 non-null  object \n",
            " 10  Rating           9949 non-null   object \n",
            "dtypes: float64(6), object(5)\n",
            "memory usage: 1.4+ MB\n"
          ],
          "name": "stdout"
        }
      ]
    },
    {
      "cell_type": "markdown",
      "metadata": {
        "id": "cswZiGDehd_q"
      },
      "source": [
        "ВЫВОД: Не хватает значений в столбцах Name, Year_of_Release, Genre, Critic_Score, User_Score, Rating\n",
        "Вероятно есть пропуски."
      ]
    },
    {
      "cell_type": "markdown",
      "metadata": {
        "id": "XPatizYuhd_s"
      },
      "source": [
        "<div style=\"background-color: RoyalBlue;\">\n",
        "Пропуски могут быть случайными и неслучайными. В нашем случае в таких категориальных данных как \n",
        "    Year_of_Release - пропуски могут быть случайными из-за отсутствия данных по старой игре, дата релиза неизвестна, удалить строки нельзя, т.к. мы получим неверные данные по суммам продаж, поэтому как и в других случаях со случайными пропусками имеет смысл заменить их на нули.\n",
        "    Name - случайный пропуск, возможно из-за человеческой ошибки, заменим на Unknown.\n",
        "    Genre - поступим также как с Name по тем же причинам.\n",
        "    Critic_Score - количественная переменная, возможно пропуск связан с отсутствием значения для этой игры.\n",
        "    User_Score - представлена нам как категориальная переменная, нужно преобразовать в тип float, по ходу действия нужно найти все NaN Обозначенные как tbn и заменить на NaN, и уже потом преобразовать в тип float.\n",
        "    (NaN это отсутсвие значения в количесвенной переменной).\n",
        "    Rating - это категориальная переменная, ситуация с пропусками та же что и в столбцах Name и Genre \n",
        "</div>"
      ]
    },
    {
      "cell_type": "markdown",
      "metadata": {
        "id": "Ls9LB3lOhd_t"
      },
      "source": [
        "## Подготовим данные"
      ]
    },
    {
      "cell_type": "markdown",
      "metadata": {
        "id": "d0J7ine_hd_u"
      },
      "source": [
        "### Приведем названия столбцов к нижнему регистру для удобства при написании в коде, это позволит избежать опечаток при работе со столбцами таблицы"
      ]
    },
    {
      "cell_type": "code",
      "metadata": {
        "colab": {
          "base_uri": "https://localhost:8080/"
        },
        "id": "OBEOCLrFhd_u",
        "outputId": "d6fd0971-cdf6-4623-8c6c-5fbe64917f72"
      },
      "source": [
        "# Приведем названия столбцов к нижнему регистру\n",
        "\n",
        "df.columns = df.columns.str.lower()\n",
        "df.info()"
      ],
      "execution_count": null,
      "outputs": [
        {
          "output_type": "stream",
          "text": [
            "<class 'pandas.core.frame.DataFrame'>\n",
            "RangeIndex: 16715 entries, 0 to 16714\n",
            "Data columns (total 11 columns):\n",
            " #   Column           Non-Null Count  Dtype  \n",
            "---  ------           --------------  -----  \n",
            " 0   name             16713 non-null  object \n",
            " 1   platform         16715 non-null  object \n",
            " 2   year_of_release  16446 non-null  float64\n",
            " 3   genre            16713 non-null  object \n",
            " 4   na_sales         16715 non-null  float64\n",
            " 5   eu_sales         16715 non-null  float64\n",
            " 6   jp_sales         16715 non-null  float64\n",
            " 7   other_sales      16715 non-null  float64\n",
            " 8   critic_score     8137 non-null   float64\n",
            " 9   user_score       10014 non-null  object \n",
            " 10  rating           9949 non-null   object \n",
            "dtypes: float64(6), object(5)\n",
            "memory usage: 1.4+ MB\n"
          ],
          "name": "stdout"
        }
      ]
    },
    {
      "cell_type": "markdown",
      "metadata": {
        "id": "Z7qXYX7yhd_v"
      },
      "source": [
        "обработаем пропуски и приведем к нужному типу данных столбцы"
      ]
    },
    {
      "cell_type": "code",
      "metadata": {
        "colab": {
          "base_uri": "https://localhost:8080/"
        },
        "id": "vs9eu7uKhd_w",
        "outputId": "a0fb1562-bb70-4fee-d217-4e4d016fd95c"
      },
      "source": [
        "# сначала обработаем пропуски в столбцах с пропусками значений ( в них значения меньше 16715 )\n",
        "# ошибки в категориальных переменных заменим на '0' (Ноль) и Unknown (Неизвестные)\n",
        "\n",
        "# имя просто на неизвестные\n",
        "# год релиза тоже категориальная переменная и замена на ноль не повлияет на анализ в выборках\n",
        "# жанр и рейтинг тоже категориальные переменные\n",
        "\n",
        "df['name'] = df['name'].fillna('Unknown') \n",
        "df['year_of_release'] = df['year_of_release'].fillna(0) \n",
        "df['genre'] = df['genre'].fillna('Unknown')\n",
        "df['rating'] = df['rating'].fillna('Unknown')\n",
        "\n",
        "# при попытке привести столбец user_score к типу float64\n",
        "#df['user_score'] = df['user_score'].astype('float64')\n",
        "# получаем ошибку \n",
        "# ValueError: could not convert string to float: 'tbd' \n",
        "# это значение аналогичное NaN для численных переменных и Unknown для категориальных переменных\n",
        "\n",
        "# сначала почистим строковык значения от 'tbd' и заменим их на 'NaN' \n",
        "# после конвертации типа столбца NaN нам пригодятся для корректных расчетов значений в этом столбце (NaN - это не число)\n",
        "\n",
        "df['user_score'] = df['user_score'].replace('tbd', 'NaN')\n",
        "\n",
        "# затем преобразуем тип user_score во float\n",
        "\n",
        "df['user_score'] = df['user_score'].astype('float')\n",
        "\n",
        "# год релиза преобразуем в integer\n",
        "\n",
        "df['year_of_release'] = df['year_of_release'].astype('int')\n",
        "\n",
        "# проверим структуру\n",
        "\n",
        "df.info()\n"
      ],
      "execution_count": null,
      "outputs": [
        {
          "output_type": "stream",
          "text": [
            "<class 'pandas.core.frame.DataFrame'>\n",
            "RangeIndex: 16715 entries, 0 to 16714\n",
            "Data columns (total 11 columns):\n",
            " #   Column           Non-Null Count  Dtype  \n",
            "---  ------           --------------  -----  \n",
            " 0   name             16715 non-null  object \n",
            " 1   platform         16715 non-null  object \n",
            " 2   year_of_release  16715 non-null  int64  \n",
            " 3   genre            16715 non-null  object \n",
            " 4   na_sales         16715 non-null  float64\n",
            " 5   eu_sales         16715 non-null  float64\n",
            " 6   jp_sales         16715 non-null  float64\n",
            " 7   other_sales      16715 non-null  float64\n",
            " 8   critic_score     8137 non-null   float64\n",
            " 9   user_score       7590 non-null   float64\n",
            " 10  rating           16715 non-null  object \n",
            "dtypes: float64(6), int64(1), object(4)\n",
            "memory usage: 1.4+ MB\n"
          ],
          "name": "stdout"
        }
      ]
    },
    {
      "cell_type": "markdown",
      "metadata": {
        "id": "tI70hIQkhd_x"
      },
      "source": [
        "проверим на дубликаты "
      ]
    },
    {
      "cell_type": "code",
      "metadata": {
        "colab": {
          "base_uri": "https://localhost:8080/"
        },
        "id": "u73BoN1Nhd_x",
        "outputId": "fa71db67-3b5d-4708-b988-c15b3dc26d0a"
      },
      "source": [
        "# проверим на дубликаты сначала без учета регистра\n",
        "df.duplicated().sum()"
      ],
      "execution_count": null,
      "outputs": [
        {
          "output_type": "execute_result",
          "data": {
            "text/plain": [
              "0"
            ]
          },
          "metadata": {},
          "execution_count": 43
        }
      ]
    },
    {
      "cell_type": "markdown",
      "metadata": {
        "id": "U9HNIUkHhd_y"
      },
      "source": [
        "ИТОГ: дубликатов нет\n"
      ]
    },
    {
      "cell_type": "code",
      "metadata": {
        "colab": {
          "base_uri": "https://localhost:8080/"
        },
        "id": "9DFjz2wThd_y",
        "outputId": "87b13ba5-8689-41e8-c7a5-68828a84b7e6"
      },
      "source": [
        "# проверим на дубликаты с учетом регистра, \n",
        "# предварительно все строковые столбцы передем в нижний регистр\n",
        "\n",
        "df_lower = df.copy(deep=True)\n",
        "df_lower['name'] = df_lower['name'].str.lower()\n",
        "df_lower['platform'] = df_lower['platform'].str.lower()\n",
        "df_lower['genre'] = df_lower['genre'].str.lower()\n",
        "df_lower['rating'] = df_lower['rating'].str.lower()\n",
        "df_lower.duplicated().sum()"
      ],
      "execution_count": null,
      "outputs": [
        {
          "output_type": "execute_result",
          "data": {
            "text/plain": [
              "0"
            ]
          },
          "metadata": {},
          "execution_count": 44
        }
      ]
    },
    {
      "cell_type": "markdown",
      "metadata": {
        "id": "FbQmA_fHhd_z"
      },
      "source": [
        "ИТОГ: дубликатов нет"
      ]
    },
    {
      "cell_type": "markdown",
      "metadata": {
        "id": "qWb19dfnhd_0"
      },
      "source": [
        "посчитаем суммарные продажи регионов в отдельный столбец"
      ]
    },
    {
      "cell_type": "code",
      "metadata": {
        "colab": {
          "base_uri": "https://localhost:8080/"
        },
        "id": "1XQ5W1ZXhd_0",
        "outputId": "63d5355d-1af7-4914-f6ab-b1ada579ca6f"
      },
      "source": [
        "# \n",
        "df['total_sales'] = df['na_sales'] + df['eu_sales'] + df['jp_sales'] + df['other_sales']\n",
        "df['total_sales'].head()"
      ],
      "execution_count": null,
      "outputs": [
        {
          "output_type": "execute_result",
          "data": {
            "text/plain": [
              "0    82.54\n",
              "1    40.24\n",
              "2    35.52\n",
              "3    32.77\n",
              "4    31.38\n",
              "Name: total_sales, dtype: float64"
            ]
          },
          "metadata": {},
          "execution_count": 45
        }
      ]
    },
    {
      "cell_type": "markdown",
      "metadata": {
        "id": "anYo31Hghd_1"
      },
      "source": [
        "ИТОГ:\n",
        "    На этапе предобработки обнаружили пропуски в данных и неверные типы данных. Исправили.\n",
        "    Создали столбец по глобальным продажам. "
      ]
    },
    {
      "cell_type": "markdown",
      "metadata": {
        "id": "_PxUK7N9hd_2"
      },
      "source": [
        "## Проведем исследовательский анализ данных"
      ]
    },
    {
      "cell_type": "markdown",
      "metadata": {
        "id": "tlJy1fKVhd_3"
      },
      "source": [
        "### сколько игр выпускалось в разные годы"
      ]
    },
    {
      "cell_type": "code",
      "metadata": {
        "colab": {
          "base_uri": "https://localhost:8080/"
        },
        "id": "OU6ZVKkphd_3",
        "outputId": "1a6b1b25-8646-477b-dc3e-7679b0af8534"
      },
      "source": [
        "# \n",
        "\n",
        "df.groupby('year_of_release')['name'].count()"
      ],
      "execution_count": null,
      "outputs": [
        {
          "output_type": "execute_result",
          "data": {
            "text/plain": [
              "year_of_release\n",
              "0        269\n",
              "1980       9\n",
              "1981      46\n",
              "1982      36\n",
              "1983      17\n",
              "1984      14\n",
              "1985      14\n",
              "1986      21\n",
              "1987      16\n",
              "1988      15\n",
              "1989      17\n",
              "1990      16\n",
              "1991      41\n",
              "1992      43\n",
              "1993      62\n",
              "1994     121\n",
              "1995     219\n",
              "1996     263\n",
              "1997     289\n",
              "1998     379\n",
              "1999     338\n",
              "2000     350\n",
              "2001     482\n",
              "2002     829\n",
              "2003     775\n",
              "2004     762\n",
              "2005     939\n",
              "2006    1006\n",
              "2007    1197\n",
              "2008    1427\n",
              "2009    1426\n",
              "2010    1255\n",
              "2011    1136\n",
              "2012     653\n",
              "2013     544\n",
              "2014     581\n",
              "2015     606\n",
              "2016     502\n",
              "Name: name, dtype: int64"
            ]
          },
          "metadata": {},
          "execution_count": 46
        }
      ]
    },
    {
      "cell_type": "markdown",
      "metadata": {
        "id": "Mo6wtfS_hd_4"
      },
      "source": [
        "ВЫВОД: \n",
        "по данным видно что в разы больше игр стало выходить с 1994 года. произошел скачек в производительности и доступности игр и приставок. Больший объем игр видим после 1994 года. Возможно с 1994 года данные более презентативные.\n",
        "Максимальные значения в интервале с 2006 по 2011 годы. "
      ]
    },
    {
      "cell_type": "markdown",
      "metadata": {
        "id": "QpLBwOl2hd_5"
      },
      "source": [
        "<div style=\"background-color: RoyalBlue;\">\n",
        "Максимальные значения наблюдаются с 2006 по 2011 год. Возможно скачек связан с какими то внешними факторами, например, экономический рост и вырос спрос на игры, либо привлечение в сферу игр большей аудитории, например больше игр стало производиться, в том числе для взрослого населения, и портрет игрока стал шире. \n",
        "    С 2012 года до 2016 наблюдается спад. Причиной может быть как экономический спад и соответственно нет такого спроса как раньше, так и остывание самого рынка игр и попытка производителей вкладываться в один качественный продукт вместо нескольких, что тоже отражается в количестве выпускаемых игр. И напоследок очень важный фактор в том что со временем при развитии электроники и мощностей, программная разработка становится все дороже для производителей, соответственно ставки высоки и количество серьезных и \"тяжелых\" игр выпускаемых производителем меньше.\n",
        "</div>"
      ]
    },
    {
      "cell_type": "markdown",
      "metadata": {
        "id": "Op1V96sJhd_6"
      },
      "source": [
        "### как менялись продажи по платформам"
      ]
    },
    {
      "cell_type": "code",
      "metadata": {
        "id": "L1FINcZbhd_6",
        "colab": {
          "base_uri": "https://localhost:8080/",
          "height": 332
        },
        "outputId": "964b08b8-6ac7-4e42-f8f4-a7e9de228ebd"
      },
      "source": [
        "# посмотрим сводную таблицу по годам и платформам\n",
        "# возьмем ключевые года где существенно менялось сумма продаж \n",
        "platforms_by_years = (\n",
        "    df.query('year_of_release in (1980, 1993, 1994, 2005, 2006, 2011, 2012, 2016)')\n",
        "        .pivot_table(index='year_of_release', columns='platform', values='total_sales', aggfunc='sum')\n",
        ")\n",
        "platforms_by_years"
      ],
      "execution_count": null,
      "outputs": [
        {
          "output_type": "execute_result",
          "data": {
            "text/html": [
              "<div>\n",
              "<style scoped>\n",
              "    .dataframe tbody tr th:only-of-type {\n",
              "        vertical-align: middle;\n",
              "    }\n",
              "\n",
              "    .dataframe tbody tr th {\n",
              "        vertical-align: top;\n",
              "    }\n",
              "\n",
              "    .dataframe thead th {\n",
              "        text-align: right;\n",
              "    }\n",
              "</style>\n",
              "<table border=\"1\" class=\"dataframe\">\n",
              "  <thead>\n",
              "    <tr style=\"text-align: right;\">\n",
              "      <th>platform</th>\n",
              "      <th>2600</th>\n",
              "      <th>3DO</th>\n",
              "      <th>3DS</th>\n",
              "      <th>DS</th>\n",
              "      <th>GB</th>\n",
              "      <th>GBA</th>\n",
              "      <th>GC</th>\n",
              "      <th>GEN</th>\n",
              "      <th>NES</th>\n",
              "      <th>NG</th>\n",
              "      <th>PC</th>\n",
              "      <th>PS</th>\n",
              "      <th>PS2</th>\n",
              "      <th>PS3</th>\n",
              "      <th>PS4</th>\n",
              "      <th>PSP</th>\n",
              "      <th>PSV</th>\n",
              "      <th>SAT</th>\n",
              "      <th>SCD</th>\n",
              "      <th>SNES</th>\n",
              "      <th>Wii</th>\n",
              "      <th>WiiU</th>\n",
              "      <th>X360</th>\n",
              "      <th>XB</th>\n",
              "      <th>XOne</th>\n",
              "    </tr>\n",
              "    <tr>\n",
              "      <th>year_of_release</th>\n",
              "      <th></th>\n",
              "      <th></th>\n",
              "      <th></th>\n",
              "      <th></th>\n",
              "      <th></th>\n",
              "      <th></th>\n",
              "      <th></th>\n",
              "      <th></th>\n",
              "      <th></th>\n",
              "      <th></th>\n",
              "      <th></th>\n",
              "      <th></th>\n",
              "      <th></th>\n",
              "      <th></th>\n",
              "      <th></th>\n",
              "      <th></th>\n",
              "      <th></th>\n",
              "      <th></th>\n",
              "      <th></th>\n",
              "      <th></th>\n",
              "      <th></th>\n",
              "      <th></th>\n",
              "      <th></th>\n",
              "      <th></th>\n",
              "      <th></th>\n",
              "    </tr>\n",
              "  </thead>\n",
              "  <tbody>\n",
              "    <tr>\n",
              "      <th>1980</th>\n",
              "      <td>11.38</td>\n",
              "      <td>NaN</td>\n",
              "      <td>NaN</td>\n",
              "      <td>NaN</td>\n",
              "      <td>NaN</td>\n",
              "      <td>NaN</td>\n",
              "      <td>NaN</td>\n",
              "      <td>NaN</td>\n",
              "      <td>NaN</td>\n",
              "      <td>NaN</td>\n",
              "      <td>NaN</td>\n",
              "      <td>NaN</td>\n",
              "      <td>NaN</td>\n",
              "      <td>NaN</td>\n",
              "      <td>NaN</td>\n",
              "      <td>NaN</td>\n",
              "      <td>NaN</td>\n",
              "      <td>NaN</td>\n",
              "      <td>NaN</td>\n",
              "      <td>NaN</td>\n",
              "      <td>NaN</td>\n",
              "      <td>NaN</td>\n",
              "      <td>NaN</td>\n",
              "      <td>NaN</td>\n",
              "      <td>NaN</td>\n",
              "    </tr>\n",
              "    <tr>\n",
              "      <th>1993</th>\n",
              "      <td>NaN</td>\n",
              "      <td>NaN</td>\n",
              "      <td>NaN</td>\n",
              "      <td>NaN</td>\n",
              "      <td>NaN</td>\n",
              "      <td>NaN</td>\n",
              "      <td>NaN</td>\n",
              "      <td>3.07</td>\n",
              "      <td>3.61</td>\n",
              "      <td>0.21</td>\n",
              "      <td>NaN</td>\n",
              "      <td>NaN</td>\n",
              "      <td>NaN</td>\n",
              "      <td>NaN</td>\n",
              "      <td>NaN</td>\n",
              "      <td>NaN</td>\n",
              "      <td>NaN</td>\n",
              "      <td>NaN</td>\n",
              "      <td>1.50</td>\n",
              "      <td>40.02</td>\n",
              "      <td>NaN</td>\n",
              "      <td>NaN</td>\n",
              "      <td>NaN</td>\n",
              "      <td>NaN</td>\n",
              "      <td>NaN</td>\n",
              "    </tr>\n",
              "    <tr>\n",
              "      <th>1994</th>\n",
              "      <td>NaN</td>\n",
              "      <td>0.02</td>\n",
              "      <td>NaN</td>\n",
              "      <td>NaN</td>\n",
              "      <td>12.18</td>\n",
              "      <td>NaN</td>\n",
              "      <td>NaN</td>\n",
              "      <td>8.13</td>\n",
              "      <td>0.11</td>\n",
              "      <td>0.80</td>\n",
              "      <td>12.87</td>\n",
              "      <td>6.03</td>\n",
              "      <td>NaN</td>\n",
              "      <td>NaN</td>\n",
              "      <td>NaN</td>\n",
              "      <td>NaN</td>\n",
              "      <td>NaN</td>\n",
              "      <td>3.65</td>\n",
              "      <td>0.36</td>\n",
              "      <td>35.08</td>\n",
              "      <td>NaN</td>\n",
              "      <td>NaN</td>\n",
              "      <td>NaN</td>\n",
              "      <td>NaN</td>\n",
              "      <td>NaN</td>\n",
              "    </tr>\n",
              "    <tr>\n",
              "      <th>2005</th>\n",
              "      <td>NaN</td>\n",
              "      <td>NaN</td>\n",
              "      <td>NaN</td>\n",
              "      <td>130.14</td>\n",
              "      <td>NaN</td>\n",
              "      <td>33.86</td>\n",
              "      <td>27.62</td>\n",
              "      <td>NaN</td>\n",
              "      <td>NaN</td>\n",
              "      <td>NaN</td>\n",
              "      <td>4.37</td>\n",
              "      <td>NaN</td>\n",
              "      <td>160.66</td>\n",
              "      <td>NaN</td>\n",
              "      <td>NaN</td>\n",
              "      <td>43.84</td>\n",
              "      <td>NaN</td>\n",
              "      <td>NaN</td>\n",
              "      <td>NaN</td>\n",
              "      <td>NaN</td>\n",
              "      <td>NaN</td>\n",
              "      <td>NaN</td>\n",
              "      <td>8.25</td>\n",
              "      <td>49.08</td>\n",
              "      <td>NaN</td>\n",
              "    </tr>\n",
              "    <tr>\n",
              "      <th>2006</th>\n",
              "      <td>NaN</td>\n",
              "      <td>NaN</td>\n",
              "      <td>NaN</td>\n",
              "      <td>119.81</td>\n",
              "      <td>NaN</td>\n",
              "      <td>5.28</td>\n",
              "      <td>11.26</td>\n",
              "      <td>NaN</td>\n",
              "      <td>NaN</td>\n",
              "      <td>NaN</td>\n",
              "      <td>2.85</td>\n",
              "      <td>NaN</td>\n",
              "      <td>103.42</td>\n",
              "      <td>20.96</td>\n",
              "      <td>NaN</td>\n",
              "      <td>55.32</td>\n",
              "      <td>NaN</td>\n",
              "      <td>NaN</td>\n",
              "      <td>NaN</td>\n",
              "      <td>NaN</td>\n",
              "      <td>137.15</td>\n",
              "      <td>NaN</td>\n",
              "      <td>51.62</td>\n",
              "      <td>10.04</td>\n",
              "      <td>NaN</td>\n",
              "    </tr>\n",
              "    <tr>\n",
              "      <th>2011</th>\n",
              "      <td>NaN</td>\n",
              "      <td>NaN</td>\n",
              "      <td>63.20</td>\n",
              "      <td>26.18</td>\n",
              "      <td>NaN</td>\n",
              "      <td>NaN</td>\n",
              "      <td>NaN</td>\n",
              "      <td>NaN</td>\n",
              "      <td>NaN</td>\n",
              "      <td>NaN</td>\n",
              "      <td>35.03</td>\n",
              "      <td>NaN</td>\n",
              "      <td>0.45</td>\n",
              "      <td>156.78</td>\n",
              "      <td>NaN</td>\n",
              "      <td>17.82</td>\n",
              "      <td>4.63</td>\n",
              "      <td>NaN</td>\n",
              "      <td>NaN</td>\n",
              "      <td>NaN</td>\n",
              "      <td>59.65</td>\n",
              "      <td>NaN</td>\n",
              "      <td>143.84</td>\n",
              "      <td>NaN</td>\n",
              "      <td>NaN</td>\n",
              "    </tr>\n",
              "    <tr>\n",
              "      <th>2012</th>\n",
              "      <td>NaN</td>\n",
              "      <td>NaN</td>\n",
              "      <td>51.36</td>\n",
              "      <td>11.01</td>\n",
              "      <td>NaN</td>\n",
              "      <td>NaN</td>\n",
              "      <td>NaN</td>\n",
              "      <td>NaN</td>\n",
              "      <td>NaN</td>\n",
              "      <td>NaN</td>\n",
              "      <td>23.22</td>\n",
              "      <td>NaN</td>\n",
              "      <td>NaN</td>\n",
              "      <td>107.36</td>\n",
              "      <td>NaN</td>\n",
              "      <td>7.69</td>\n",
              "      <td>16.19</td>\n",
              "      <td>NaN</td>\n",
              "      <td>NaN</td>\n",
              "      <td>NaN</td>\n",
              "      <td>21.71</td>\n",
              "      <td>17.56</td>\n",
              "      <td>99.74</td>\n",
              "      <td>NaN</td>\n",
              "      <td>NaN</td>\n",
              "    </tr>\n",
              "    <tr>\n",
              "      <th>2016</th>\n",
              "      <td>NaN</td>\n",
              "      <td>NaN</td>\n",
              "      <td>15.14</td>\n",
              "      <td>NaN</td>\n",
              "      <td>NaN</td>\n",
              "      <td>NaN</td>\n",
              "      <td>NaN</td>\n",
              "      <td>NaN</td>\n",
              "      <td>NaN</td>\n",
              "      <td>NaN</td>\n",
              "      <td>5.25</td>\n",
              "      <td>NaN</td>\n",
              "      <td>NaN</td>\n",
              "      <td>3.60</td>\n",
              "      <td>69.25</td>\n",
              "      <td>NaN</td>\n",
              "      <td>4.25</td>\n",
              "      <td>NaN</td>\n",
              "      <td>NaN</td>\n",
              "      <td>NaN</td>\n",
              "      <td>0.18</td>\n",
              "      <td>4.60</td>\n",
              "      <td>1.52</td>\n",
              "      <td>NaN</td>\n",
              "      <td>26.15</td>\n",
              "    </tr>\n",
              "  </tbody>\n",
              "</table>\n",
              "</div>"
            ],
            "text/plain": [
              "platform          2600   3DO    3DS      DS  ...   WiiU    X360     XB   XOne\n",
              "year_of_release                              ...                             \n",
              "1980             11.38   NaN    NaN     NaN  ...    NaN     NaN    NaN    NaN\n",
              "1993               NaN   NaN    NaN     NaN  ...    NaN     NaN    NaN    NaN\n",
              "1994               NaN  0.02    NaN     NaN  ...    NaN     NaN    NaN    NaN\n",
              "2005               NaN   NaN    NaN  130.14  ...    NaN    8.25  49.08    NaN\n",
              "2006               NaN   NaN    NaN  119.81  ...    NaN   51.62  10.04    NaN\n",
              "2011               NaN   NaN  63.20   26.18  ...    NaN  143.84    NaN    NaN\n",
              "2012               NaN   NaN  51.36   11.01  ...  17.56   99.74    NaN    NaN\n",
              "2016               NaN   NaN  15.14     NaN  ...   4.60    1.52    NaN  26.15\n",
              "\n",
              "[8 rows x 25 columns]"
            ]
          },
          "metadata": {},
          "execution_count": 47
        }
      ]
    },
    {
      "cell_type": "code",
      "metadata": {
        "id": "aSJ7hkvNhd_7",
        "colab": {
          "base_uri": "https://localhost:8080/",
          "height": 902
        },
        "outputId": "cc7f6f5b-21b9-403f-fda0-5e4805582dc8"
      },
      "source": [
        "# построим графики продаж по нашему срезу данных и по платформам DS, Wii и X360\n",
        "\n",
        "plt.title('Распределение продаж DS по годам')\n",
        "platforms_by_years['DS'].plot(x='year_of_release', kind='bar', figsize=(4, 4))\n",
        "plt.show()\n",
        "plt.title('Распределение продаж Wii по годам')\n",
        "platforms_by_years['Wii'].plot(x='year_of_release', kind='bar', figsize=(4, 4))\n",
        "plt.show()\n",
        "plt.title('Распределение продаж X360 по годам')\n",
        "platforms_by_years['X360'].plot(x='year_of_release', kind='bar', figsize=(4, 4))\n",
        "plt.show()"
      ],
      "execution_count": null,
      "outputs": [
        {
          "output_type": "display_data",
          "data": {
            "image/png": "[encoded data removed]",
            "text/plain": [
              "<Figure size 288x288 with 1 Axes>"
            ]
          },
          "metadata": {
            "needs_background": "light"
          }
        },
        {
          "output_type": "display_data",
          "data": {
            "image/png": "[encoded data removed]",
            "text/plain": [
              "<Figure size 288x288 with 1 Axes>"
            ]
          },
          "metadata": {
            "needs_background": "light"
          }
        },
        {
          "output_type": "display_data",
          "data": {
            "image/png": "[encoded data removed]",
            "text/plain": [
              "<Figure size 288x288 with 1 Axes>"
            ]
          },
          "metadata": {
            "needs_background": "light"
          }
        }
      ]
    },
    {
      "cell_type": "markdown",
      "metadata": {
        "id": "THwGjg41hd_7"
      },
      "source": [
        "ВЫВОД: Как видим после 1994 года старые платформы исчезают и приходят новые, с бОльшим количеством продаж за год. \n",
        "Второй ключевой год это 2005, появлются новые игры с большими бюджетами.\n",
        "Определенно расцвет в игровой индустрии был с 2005 по 2011 годы, это примечательно по крупным продажам:\n",
        "DS в 2005 году, Wii в 2006, X360 в 2011 годах."
      ]
    },
    {
      "cell_type": "code",
      "metadata": {
        "id": "tqddjrrLhd_9",
        "colab": {
          "base_uri": "https://localhost:8080/",
          "height": 959
        },
        "outputId": "1361be06-e1a3-46fa-b12b-b7d2a1e5e4b0"
      },
      "source": [
        "# отсечем данные до 1994 года\n",
        "\n",
        "df_filtered = df.query('year_of_release >= 1994')\n",
        "\n",
        "# Выведем суммарные продажи по платформам\n",
        "\n",
        "platform_sales = df_filtered.pivot_table(index='platform', values='total_sales', aggfunc='sum').reset_index()\n",
        "\n",
        "# переименуем столбцы и отсортируем по продажам\n",
        "#platform_sales.columns = ['platform', 'total_sales']\n",
        "platform_sales = platform_sales.sort_values(by='total_sales')\n",
        "platform_sales"
      ],
      "execution_count": null,
      "outputs": [
        {
          "output_type": "execute_result",
          "data": {
            "text/html": [
              "<div>\n",
              "<style scoped>\n",
              "    .dataframe tbody tr th:only-of-type {\n",
              "        vertical-align: middle;\n",
              "    }\n",
              "\n",
              "    .dataframe tbody tr th {\n",
              "        vertical-align: top;\n",
              "    }\n",
              "\n",
              "    .dataframe thead th {\n",
              "        text-align: right;\n",
              "    }\n",
              "</style>\n",
              "<table border=\"1\" class=\"dataframe\">\n",
              "  <thead>\n",
              "    <tr style=\"text-align: right;\">\n",
              "      <th></th>\n",
              "      <th>platform</th>\n",
              "      <th>total_sales</th>\n",
              "    </tr>\n",
              "  </thead>\n",
              "  <tbody>\n",
              "    <tr>\n",
              "      <th>12</th>\n",
              "      <td>PCFX</td>\n",
              "      <td>0.03</td>\n",
              "    </tr>\n",
              "    <tr>\n",
              "      <th>0</th>\n",
              "      <td>3DO</td>\n",
              "      <td>0.10</td>\n",
              "    </tr>\n",
              "    <tr>\n",
              "      <th>9</th>\n",
              "      <td>NES</td>\n",
              "      <td>0.11</td>\n",
              "    </tr>\n",
              "    <tr>\n",
              "      <th>22</th>\n",
              "      <td>TG16</td>\n",
              "      <td>0.16</td>\n",
              "    </tr>\n",
              "    <tr>\n",
              "      <th>20</th>\n",
              "      <td>SCD</td>\n",
              "      <td>0.36</td>\n",
              "    </tr>\n",
              "    <tr>\n",
              "      <th>10</th>\n",
              "      <td>NG</td>\n",
              "      <td>1.23</td>\n",
              "    </tr>\n",
              "    <tr>\n",
              "      <th>23</th>\n",
              "      <td>WS</td>\n",
              "      <td>1.42</td>\n",
              "    </tr>\n",
              "    <tr>\n",
              "      <th>7</th>\n",
              "      <td>GEN</td>\n",
              "      <td>8.13</td>\n",
              "    </tr>\n",
              "    <tr>\n",
              "      <th>2</th>\n",
              "      <td>DC</td>\n",
              "      <td>15.95</td>\n",
              "    </tr>\n",
              "    <tr>\n",
              "      <th>19</th>\n",
              "      <td>SAT</td>\n",
              "      <td>33.59</td>\n",
              "    </tr>\n",
              "    <tr>\n",
              "      <th>18</th>\n",
              "      <td>PSV</td>\n",
              "      <td>53.81</td>\n",
              "    </tr>\n",
              "    <tr>\n",
              "      <th>25</th>\n",
              "      <td>WiiU</td>\n",
              "      <td>82.19</td>\n",
              "    </tr>\n",
              "    <tr>\n",
              "      <th>21</th>\n",
              "      <td>SNES</td>\n",
              "      <td>84.67</td>\n",
              "    </tr>\n",
              "    <tr>\n",
              "      <th>4</th>\n",
              "      <td>GB</td>\n",
              "      <td>152.08</td>\n",
              "    </tr>\n",
              "    <tr>\n",
              "      <th>28</th>\n",
              "      <td>XOne</td>\n",
              "      <td>159.32</td>\n",
              "    </tr>\n",
              "    <tr>\n",
              "      <th>6</th>\n",
              "      <td>GC</td>\n",
              "      <td>196.73</td>\n",
              "    </tr>\n",
              "    <tr>\n",
              "      <th>8</th>\n",
              "      <td>N64</td>\n",
              "      <td>218.01</td>\n",
              "    </tr>\n",
              "    <tr>\n",
              "      <th>27</th>\n",
              "      <td>XB</td>\n",
              "      <td>251.57</td>\n",
              "    </tr>\n",
              "    <tr>\n",
              "      <th>11</th>\n",
              "      <td>PC</td>\n",
              "      <td>252.66</td>\n",
              "    </tr>\n",
              "    <tr>\n",
              "      <th>1</th>\n",
              "      <td>3DS</td>\n",
              "      <td>257.81</td>\n",
              "    </tr>\n",
              "    <tr>\n",
              "      <th>17</th>\n",
              "      <td>PSP</td>\n",
              "      <td>289.53</td>\n",
              "    </tr>\n",
              "    <tr>\n",
              "      <th>5</th>\n",
              "      <td>GBA</td>\n",
              "      <td>312.88</td>\n",
              "    </tr>\n",
              "    <tr>\n",
              "      <th>16</th>\n",
              "      <td>PS4</td>\n",
              "      <td>314.14</td>\n",
              "    </tr>\n",
              "    <tr>\n",
              "      <th>13</th>\n",
              "      <td>PS</td>\n",
              "      <td>727.58</td>\n",
              "    </tr>\n",
              "    <tr>\n",
              "      <th>3</th>\n",
              "      <td>DS</td>\n",
              "      <td>802.76</td>\n",
              "    </tr>\n",
              "    <tr>\n",
              "      <th>24</th>\n",
              "      <td>Wii</td>\n",
              "      <td>891.18</td>\n",
              "    </tr>\n",
              "    <tr>\n",
              "      <th>15</th>\n",
              "      <td>PS3</td>\n",
              "      <td>931.34</td>\n",
              "    </tr>\n",
              "    <tr>\n",
              "      <th>26</th>\n",
              "      <td>X360</td>\n",
              "      <td>961.24</td>\n",
              "    </tr>\n",
              "    <tr>\n",
              "      <th>14</th>\n",
              "      <td>PS2</td>\n",
              "      <td>1233.56</td>\n",
              "    </tr>\n",
              "  </tbody>\n",
              "</table>\n",
              "</div>"
            ],
            "text/plain": [
              "   platform  total_sales\n",
              "12     PCFX         0.03\n",
              "0       3DO         0.10\n",
              "9       NES         0.11\n",
              "22     TG16         0.16\n",
              "20      SCD         0.36\n",
              "10       NG         1.23\n",
              "23       WS         1.42\n",
              "7       GEN         8.13\n",
              "2        DC        15.95\n",
              "19      SAT        33.59\n",
              "18      PSV        53.81\n",
              "25     WiiU        82.19\n",
              "21     SNES        84.67\n",
              "4        GB       152.08\n",
              "28     XOne       159.32\n",
              "6        GC       196.73\n",
              "8       N64       218.01\n",
              "27       XB       251.57\n",
              "11       PC       252.66\n",
              "1       3DS       257.81\n",
              "17      PSP       289.53\n",
              "5       GBA       312.88\n",
              "16      PS4       314.14\n",
              "13       PS       727.58\n",
              "3        DS       802.76\n",
              "24      Wii       891.18\n",
              "15      PS3       931.34\n",
              "26     X360       961.24\n",
              "14      PS2      1233.56"
            ]
          },
          "metadata": {},
          "execution_count": 49
        }
      ]
    },
    {
      "cell_type": "markdown",
      "metadata": {
        "id": "BSpXtZzfhd__"
      },
      "source": [
        "ВЫВОД: Наши лидеры в топ продаж. Топ лидеров продают на суммы более чем в два раза больше остальных."
      ]
    },
    {
      "cell_type": "markdown",
      "metadata": {
        "id": "fGaM2g5uhd__"
      },
      "source": [
        "### найдем платформы с наибольшими суммарными продажами и построим распределение по годам"
      ]
    },
    {
      "cell_type": "code",
      "metadata": {
        "id": "q8c-2KOWheAA",
        "colab": {
          "base_uri": "https://localhost:8080/"
        },
        "outputId": "72b562b0-bec5-4408-c171-81095b0f4699"
      },
      "source": [
        "# найдем платформы с продажами более 500 млн\n",
        "\n",
        "big_platform_list = platform_sales.query('total_sales > 500')['platform']\n",
        "big_platform_list"
      ],
      "execution_count": null,
      "outputs": [
        {
          "output_type": "execute_result",
          "data": {
            "text/plain": [
              "13      PS\n",
              "3       DS\n",
              "24     Wii\n",
              "15     PS3\n",
              "26    X360\n",
              "14     PS2\n",
              "Name: platform, dtype: object"
            ]
          },
          "metadata": {},
          "execution_count": 50
        }
      ]
    },
    {
      "cell_type": "code",
      "metadata": {
        "id": "lhD8wZxyheAB",
        "colab": {
          "base_uri": "https://localhost:8080/",
          "height": 424
        },
        "outputId": "fc51e33e-461a-48cd-923d-e60b5adb234a"
      },
      "source": [
        "# выберем из датасета только платформы с наибольшими продажами\n",
        "\n",
        "big_platform_sales = df_filtered.query('platform in @big_platform_list') #.pivot_table(index='year_of_release', columns='platform', values='total_sales', aggfunc='sum')\n",
        "big_platform_sales = big_platform_sales.sort_values(by='total_sales')\n",
        "#big_platform_sales\n",
        "\n",
        "# сводная таблица по суммарным продажам по платформе и годам среди ТОПов\n",
        "\n",
        "big_platform_pivot = big_platform_sales.pivot_table(index=['platform','year_of_release'], values='total_sales', aggfunc='sum').reset_index()\n",
        "big_platform_pivot"
      ],
      "execution_count": null,
      "outputs": [
        {
          "output_type": "execute_result",
          "data": {
            "text/html": [
              "<div>\n",
              "<style scoped>\n",
              "    .dataframe tbody tr th:only-of-type {\n",
              "        vertical-align: middle;\n",
              "    }\n",
              "\n",
              "    .dataframe tbody tr th {\n",
              "        vertical-align: top;\n",
              "    }\n",
              "\n",
              "    .dataframe thead th {\n",
              "        text-align: right;\n",
              "    }\n",
              "</style>\n",
              "<table border=\"1\" class=\"dataframe\">\n",
              "  <thead>\n",
              "    <tr style=\"text-align: right;\">\n",
              "      <th></th>\n",
              "      <th>platform</th>\n",
              "      <th>year_of_release</th>\n",
              "      <th>total_sales</th>\n",
              "    </tr>\n",
              "  </thead>\n",
              "  <tbody>\n",
              "    <tr>\n",
              "      <th>0</th>\n",
              "      <td>DS</td>\n",
              "      <td>2004</td>\n",
              "      <td>17.27</td>\n",
              "    </tr>\n",
              "    <tr>\n",
              "      <th>1</th>\n",
              "      <td>DS</td>\n",
              "      <td>2005</td>\n",
              "      <td>130.14</td>\n",
              "    </tr>\n",
              "    <tr>\n",
              "      <th>2</th>\n",
              "      <td>DS</td>\n",
              "      <td>2006</td>\n",
              "      <td>119.81</td>\n",
              "    </tr>\n",
              "    <tr>\n",
              "      <th>3</th>\n",
              "      <td>DS</td>\n",
              "      <td>2007</td>\n",
              "      <td>146.94</td>\n",
              "    </tr>\n",
              "    <tr>\n",
              "      <th>4</th>\n",
              "      <td>DS</td>\n",
              "      <td>2008</td>\n",
              "      <td>145.31</td>\n",
              "    </tr>\n",
              "    <tr>\n",
              "      <th>...</th>\n",
              "      <td>...</td>\n",
              "      <td>...</td>\n",
              "      <td>...</td>\n",
              "    </tr>\n",
              "    <tr>\n",
              "      <th>61</th>\n",
              "      <td>X360</td>\n",
              "      <td>2012</td>\n",
              "      <td>99.74</td>\n",
              "    </tr>\n",
              "    <tr>\n",
              "      <th>62</th>\n",
              "      <td>X360</td>\n",
              "      <td>2013</td>\n",
              "      <td>88.58</td>\n",
              "    </tr>\n",
              "    <tr>\n",
              "      <th>63</th>\n",
              "      <td>X360</td>\n",
              "      <td>2014</td>\n",
              "      <td>34.74</td>\n",
              "    </tr>\n",
              "    <tr>\n",
              "      <th>64</th>\n",
              "      <td>X360</td>\n",
              "      <td>2015</td>\n",
              "      <td>11.96</td>\n",
              "    </tr>\n",
              "    <tr>\n",
              "      <th>65</th>\n",
              "      <td>X360</td>\n",
              "      <td>2016</td>\n",
              "      <td>1.52</td>\n",
              "    </tr>\n",
              "  </tbody>\n",
              "</table>\n",
              "<p>66 rows × 3 columns</p>\n",
              "</div>"
            ],
            "text/plain": [
              "   platform  year_of_release  total_sales\n",
              "0        DS             2004        17.27\n",
              "1        DS             2005       130.14\n",
              "2        DS             2006       119.81\n",
              "3        DS             2007       146.94\n",
              "4        DS             2008       145.31\n",
              "..      ...              ...          ...\n",
              "61     X360             2012        99.74\n",
              "62     X360             2013        88.58\n",
              "63     X360             2014        34.74\n",
              "64     X360             2015        11.96\n",
              "65     X360             2016         1.52\n",
              "\n",
              "[66 rows x 3 columns]"
            ]
          },
          "metadata": {},
          "execution_count": 51
        }
      ]
    },
    {
      "cell_type": "code",
      "metadata": {
        "id": "Ra56PNeCheAD",
        "colab": {
          "base_uri": "https://localhost:8080/",
          "height": 1000
        },
        "outputId": "3ed03f7a-e1f2-4ae5-a267-e1252c51e0bb"
      },
      "source": [
        "# выберем платформы с наибольшими суммарными продажами и построим распределение по годам\n",
        "# и построим для них распределение по годам\n",
        "#import matplotlib.pyplot as plt\n",
        "\n",
        "for platform_name,platform_data in big_platform_pivot.groupby('platform'):\n",
        "    platform_data.plot(x = 'year_of_release', y='total_sales', kind='bar', xlim = (1994, 2016), title = 'Данные продаж по платформе {}'.format(platform_name), grid = True)\n",
        "          \n"
      ],
      "execution_count": null,
      "outputs": [
        {
          "output_type": "display_data",
          "data": {
            "image/png": "[encoded data removed]",
            "text/plain": [
              "<Figure size 432x288 with 1 Axes>"
            ]
          },
          "metadata": {
            "needs_background": "light"
          }
        },
        {
          "output_type": "display_data",
          "data": {
            "image/png": "[encoded data removed]",
            "text/plain": [
              "<Figure size 432x288 with 1 Axes>"
            ]
          },
          "metadata": {
            "needs_background": "light"
          }
        },
        {
          "output_type": "display_data",
          "data": {
            "image/png": "[encoded data removed]",
            "text/plain": [
              "<Figure size 432x288 with 1 Axes>"
            ]
          },
          "metadata": {
            "needs_background": "light"
          }
        },
        {
          "output_type": "display_data",
          "data": {
            "image/png": "[encoded data removed]",
            "text/plain": [
              "<Figure size 432x288 with 1 Axes>"
            ]
          },
          "metadata": {
            "needs_background": "light"
          }
        },
        {
          "output_type": "display_data",
          "data": {
            "image/png": "[encoded data removed]",
            "text/plain": [
              "<Figure size 432x288 with 1 Axes>"
            ]
          },
          "metadata": {
            "needs_background": "light"
          }
        },
        {
          "output_type": "display_data",
          "data": {
            "image/png": "[encoded data removed]",
            "text/plain": [
              "<Figure size 432x288 with 1 Axes>"
            ]
          },
          "metadata": {
            "needs_background": "light"
          }
        }
      ]
    },
    {
      "cell_type": "markdown",
      "metadata": {
        "id": "uNZWKbBXheAE"
      },
      "source": [
        "Поскольку большие продажи были в период с 2005 по 2011 то за \"старые\" возьмем те что были популярны до 2005. Исходя из графиков среди наших \"ТОПов\" это PS и PS2. Проверим их продажи на сегодня, год 2016. Исходя из графиков они нулевые. Последняя игра PS2 продана в 2011 году.\n"
      ]
    },
    {
      "cell_type": "markdown",
      "metadata": {
        "id": "L2gPtnlsheAE"
      },
      "source": [
        "### за какой характерный период появляются новые и исчезают старые платформы?"
      ]
    },
    {
      "cell_type": "code",
      "metadata": {
        "id": "b520Ah7WheAE",
        "colab": {
          "base_uri": "https://localhost:8080/"
        },
        "outputId": "77e186ff-f527-4398-fe60-a1915d2e3ba2"
      },
      "source": [
        "# попробуем найти платформы которые последнее время не выпускают игры, а до этого выпускали.\n",
        "# данные о годе релиза игры у нас есть в поле year_of_release\n",
        "# пороговое значение возьмем за 2 года, этого достаточно чтобы отсеить большинство умирающих платформ\n",
        "# возьмем два отрезка времени: первый: с 1994 по 2014 год и второй: с 2015 по 2016\n",
        "# соотв. назовем platforms_before и platforms_after\n",
        "\n",
        "platforms_before = df.query('(year_of_release>=1994) and (year_of_release<=2014)')['platform'].unique()\n",
        "print('Платформ в период с 1994 по 2014 год: ', len(platforms_before))\n",
        "print(platforms_before)\n",
        "\n",
        "platforms_after = df.query('(year_of_release>=2015) and (year_of_release<=2016)')['platform'].unique()\n",
        "print('Платформ в период с 2015 по 2016 год: ', len(platforms_after))\n",
        "print(platforms_after)\n",
        "\n"
      ],
      "execution_count": null,
      "outputs": [
        {
          "output_type": "stream",
          "text": [
            "Платформ в период с 1994 по 2014 год:  29\n",
            "['Wii' 'GB' 'DS' 'X360' 'PS3' 'PS2' 'GBA' '3DS' 'PS4' 'N64' 'PS' 'SNES'\n",
            " 'XB' 'PC' 'PSP' 'WiiU' 'GC' 'XOne' 'DC' 'PSV' 'SAT' 'GEN' 'WS' 'NG' 'SCD'\n",
            " 'TG16' 'NES' '3DO' 'PCFX']\n",
            "Платформ в период с 2015 по 2016 год:  10\n",
            "['PS4' 'XOne' '3DS' 'WiiU' 'PS3' 'X360' 'PC' 'Wii' 'PSV' 'PSP']\n"
          ],
          "name": "stdout"
        }
      ]
    },
    {
      "cell_type": "markdown",
      "metadata": {
        "id": "0S6trN1jheAF"
      },
      "source": [
        "Получили разницу в 6 платформ в эти периоды. Какие-то платформы перестали выпускать игры, либо сделали перерыв в производстве. Хотя для большинства платформ 2 года отсутствия новых игр это конец жизненного цикла."
      ]
    },
    {
      "cell_type": "code",
      "metadata": {
        "id": "ucpoQm25heAG",
        "colab": {
          "base_uri": "https://localhost:8080/"
        },
        "outputId": "4fa55537-fe72-48bc-ad96-0010c9057c74"
      },
      "source": [
        "# найдем эти устаревающие платформы, которые перестали выпускать новые игры.\n",
        "\n",
        "old_platform_list = list(set(platforms_before)-set(platforms_after))\n",
        "old_platform_list"
      ],
      "execution_count": null,
      "outputs": [
        {
          "output_type": "execute_result",
          "data": {
            "text/plain": [
              "['NG',\n",
              " 'TG16',\n",
              " 'NES',\n",
              " 'PS',\n",
              " 'PCFX',\n",
              " 'XB',\n",
              " 'GC',\n",
              " 'PS2',\n",
              " 'SNES',\n",
              " 'SAT',\n",
              " 'SCD',\n",
              " 'GB',\n",
              " 'DS',\n",
              " 'DC',\n",
              " 'N64',\n",
              " 'GEN',\n",
              " 'WS',\n",
              " '3DO',\n",
              " 'GBA']"
            ]
          },
          "metadata": {},
          "execution_count": 54
        }
      ]
    },
    {
      "cell_type": "code",
      "metadata": {
        "id": "j5_81V6jheAH",
        "colab": {
          "base_uri": "https://localhost:8080/",
          "height": 283
        },
        "outputId": "5d14c2cd-d4b6-42cb-d83a-e378b77c1536"
      },
      "source": [
        "# подготовим датасет из наших ТОПов, но исключим устаревшие и уже не выпускащие игры\n",
        "\n",
        "big_platform_sales_without_old = df_filtered.query('(platform in @big_platform_list) and (platform not in @old_platform_list)') #.pivot_table(index='year_of_release', columns='platform', values='total_sales', aggfunc='sum')\n",
        "#big_platform_sales_without_old = big_platform_sales_without_old.sort_values(by='total_sales')\n",
        "\n",
        "# найдем распределение среднего времени жизни платформ\n",
        "\n",
        "platform_lifetime = big_platform_sales_without_old.pivot_table(index='platform', values='year_of_release', aggfunc=['min','max']).reset_index()\n",
        "platform_lifetime.columns = ['platform','pmin','pmax']\n",
        "platform_lifetime['lifetime'] = platform_lifetime['pmax'] - platform_lifetime['pmin']\n",
        "\n",
        "# отфильтруем те что с нулями и отрицательные\n",
        "\n",
        "platform_lifetime = platform_lifetime.query('pmin>0 and pmax>0 and lifetime>0')\n",
        "\n",
        "#platform_lifetime['lifetime'].median()\n",
        "#platform_lifetime['lifetime'].mean()\n",
        "\n",
        "# построим частотную гистограмму\n",
        "platform_lifetime['lifetime'].hist(bins=30)"
      ],
      "execution_count": null,
      "outputs": [
        {
          "output_type": "execute_result",
          "data": {
            "text/plain": [
              "<matplotlib.axes._subplots.AxesSubplot at 0x7ff8bea48dd0>"
            ]
          },
          "metadata": {},
          "execution_count": 55
        },
        {
          "output_type": "display_data",
          "data": {
            "image/png": "[encoded data removed]",
            "text/plain": [
              "<Figure size 432x288 with 1 Axes>"
            ]
          },
          "metadata": {
            "needs_background": "light"
          }
        }
      ]
    },
    {
      "cell_type": "markdown",
      "metadata": {
        "id": "RIF3_MuYheAH"
      },
      "source": [
        "Вывод: \n",
        "Нас интересуют закономерности успешных платформ. Поэтому исходя из анализа самых успешных по продажам платформ, приходим к выводу, что средняя продолжительность жизни успешной платформы может быть или 10, или 11 лет. Причем 10 летки встречается вдвое чаще чем 11 летки.\n",
        "Все наши ТОПы, исключая те которые уже не продаются, попадают в интервал 11 лет: с 2005 по 2016 год."
      ]
    },
    {
      "cell_type": "code",
      "metadata": {
        "id": "Dsorv2KMheAI",
        "colab": {
          "base_uri": "https://localhost:8080/",
          "height": 206
        },
        "outputId": "388d8d23-7af9-444b-dba8-f94196d267ce"
      },
      "source": [
        "# отсечем данные до 2005 года (2016 - 11лет = 2005 год включительно)\n",
        "\n",
        "df = df.query('year_of_release >= 2005')\n",
        "df.head()"
      ],
      "execution_count": null,
      "outputs": [
        {
          "output_type": "execute_result",
          "data": {
            "text/html": [
              "<div>\n",
              "<style scoped>\n",
              "    .dataframe tbody tr th:only-of-type {\n",
              "        vertical-align: middle;\n",
              "    }\n",
              "\n",
              "    .dataframe tbody tr th {\n",
              "        vertical-align: top;\n",
              "    }\n",
              "\n",
              "    .dataframe thead th {\n",
              "        text-align: right;\n",
              "    }\n",
              "</style>\n",
              "<table border=\"1\" class=\"dataframe\">\n",
              "  <thead>\n",
              "    <tr style=\"text-align: right;\">\n",
              "      <th></th>\n",
              "      <th>name</th>\n",
              "      <th>platform</th>\n",
              "      <th>year_of_release</th>\n",
              "      <th>genre</th>\n",
              "      <th>na_sales</th>\n",
              "      <th>eu_sales</th>\n",
              "      <th>jp_sales</th>\n",
              "      <th>other_sales</th>\n",
              "      <th>critic_score</th>\n",
              "      <th>user_score</th>\n",
              "      <th>rating</th>\n",
              "      <th>total_sales</th>\n",
              "    </tr>\n",
              "  </thead>\n",
              "  <tbody>\n",
              "    <tr>\n",
              "      <th>0</th>\n",
              "      <td>Wii Sports</td>\n",
              "      <td>Wii</td>\n",
              "      <td>2006</td>\n",
              "      <td>Sports</td>\n",
              "      <td>41.36</td>\n",
              "      <td>28.96</td>\n",
              "      <td>3.77</td>\n",
              "      <td>8.45</td>\n",
              "      <td>76.0</td>\n",
              "      <td>8.0</td>\n",
              "      <td>E</td>\n",
              "      <td>82.54</td>\n",
              "    </tr>\n",
              "    <tr>\n",
              "      <th>2</th>\n",
              "      <td>Mario Kart Wii</td>\n",
              "      <td>Wii</td>\n",
              "      <td>2008</td>\n",
              "      <td>Racing</td>\n",
              "      <td>15.68</td>\n",
              "      <td>12.76</td>\n",
              "      <td>3.79</td>\n",
              "      <td>3.29</td>\n",
              "      <td>82.0</td>\n",
              "      <td>8.3</td>\n",
              "      <td>E</td>\n",
              "      <td>35.52</td>\n",
              "    </tr>\n",
              "    <tr>\n",
              "      <th>3</th>\n",
              "      <td>Wii Sports Resort</td>\n",
              "      <td>Wii</td>\n",
              "      <td>2009</td>\n",
              "      <td>Sports</td>\n",
              "      <td>15.61</td>\n",
              "      <td>10.93</td>\n",
              "      <td>3.28</td>\n",
              "      <td>2.95</td>\n",
              "      <td>80.0</td>\n",
              "      <td>8.0</td>\n",
              "      <td>E</td>\n",
              "      <td>32.77</td>\n",
              "    </tr>\n",
              "    <tr>\n",
              "      <th>6</th>\n",
              "      <td>New Super Mario Bros.</td>\n",
              "      <td>DS</td>\n",
              "      <td>2006</td>\n",
              "      <td>Platform</td>\n",
              "      <td>11.28</td>\n",
              "      <td>9.14</td>\n",
              "      <td>6.50</td>\n",
              "      <td>2.88</td>\n",
              "      <td>89.0</td>\n",
              "      <td>8.5</td>\n",
              "      <td>E</td>\n",
              "      <td>29.80</td>\n",
              "    </tr>\n",
              "    <tr>\n",
              "      <th>7</th>\n",
              "      <td>Wii Play</td>\n",
              "      <td>Wii</td>\n",
              "      <td>2006</td>\n",
              "      <td>Misc</td>\n",
              "      <td>13.96</td>\n",
              "      <td>9.18</td>\n",
              "      <td>2.93</td>\n",
              "      <td>2.84</td>\n",
              "      <td>58.0</td>\n",
              "      <td>6.6</td>\n",
              "      <td>E</td>\n",
              "      <td>28.91</td>\n",
              "    </tr>\n",
              "  </tbody>\n",
              "</table>\n",
              "</div>"
            ],
            "text/plain": [
              "                    name platform  ...  rating total_sales\n",
              "0             Wii Sports      Wii  ...       E       82.54\n",
              "2         Mario Kart Wii      Wii  ...       E       35.52\n",
              "3      Wii Sports Resort      Wii  ...       E       32.77\n",
              "6  New Super Mario Bros.       DS  ...       E       29.80\n",
              "7               Wii Play      Wii  ...       E       28.91\n",
              "\n",
              "[5 rows x 12 columns]"
            ]
          },
          "metadata": {},
          "execution_count": 56
        }
      ]
    },
    {
      "cell_type": "markdown",
      "metadata": {
        "id": "q5341yKYheAJ"
      },
      "source": [
        "### Определим данные за какой период нужно взять, чтобы исключить значимое искажение распределения по платформам в 2016 году"
      ]
    },
    {
      "cell_type": "code",
      "metadata": {
        "id": "ciSkrutBheAJ",
        "colab": {
          "base_uri": "https://localhost:8080/"
        },
        "outputId": "69a58837-c1e6-43ba-df05-c72b171ef505"
      },
      "source": [
        "# поскольку цикл успешной платформы 9-11 лет, то исходя из нормального распределения \n",
        "# предположим, что половина этого времени популярность растет, а другая половина идет на спад.\n",
        "# поделим этот цикл пополам и возьмем 5 лет.\n",
        "# получим те у которых популярность или растет или на исходе, но не весь цикл\n",
        "# этого среза достаточно чтобы оценить динамику платформы по графику или цифрам\n",
        "\n",
        "# сформируем сводную таблицу: суммарные продажи по годам и платформам\n",
        "\n",
        "top_platform_data = df.query('year_of_release>=2012').pivot_table(index=['year_of_release','platform'], values='total_sales', aggfunc=['sum','count']).reset_index()\n",
        "top_platform_data.columns = ['year_of_release','platform','total_sales','games']\n",
        "\n",
        "# возьмем количество уникальных имен платформ \n",
        "\n",
        "#len(top_platform_data['platform'].unique()) #11\n",
        "\n",
        "\n",
        "# сохраним список ТОП платформ по продажам за последний период\n",
        "top_platform = top_platform_data['platform'].unique()\n",
        "top_platform #11\n"
      ],
      "execution_count": null,
      "outputs": [
        {
          "output_type": "execute_result",
          "data": {
            "text/plain": [
              "array(['3DS', 'DS', 'PC', 'PS3', 'PSP', 'PSV', 'Wii', 'WiiU', 'X360',\n",
              "       'PS4', 'XOne'], dtype=object)"
            ]
          },
          "metadata": {},
          "execution_count": 57
        }
      ]
    },
    {
      "cell_type": "markdown",
      "metadata": {
        "id": "NoGE51AbheAK"
      },
      "source": [
        "### Какие платформы лидируют по продажам, растут или падают? Выберем несколько потенциально прибыльных платформ"
      ]
    },
    {
      "cell_type": "code",
      "metadata": {
        "id": "ayo0vBpbheAK",
        "colab": {
          "base_uri": "https://localhost:8080/",
          "height": 1000
        },
        "outputId": "3599a236-a31b-4228-caee-0536a35a5c90"
      },
      "source": [
        "# выведем их графики продаж по годам\n",
        "\n",
        "for pl in top_platform:\n",
        "    top_platform_data[top_platform_data['platform']==pl].plot(x = 'year_of_release', y='total_sales', xlim = (2011, 2016), title = pl, grid = True)\n"
      ],
      "execution_count": null,
      "outputs": [
        {
          "output_type": "display_data",
          "data": {
            "image/png": "[encoded data removed]",
            "text/plain": [
              "<Figure size 432x288 with 1 Axes>"
            ]
          },
          "metadata": {
            "needs_background": "light"
          }
        },
        {
          "output_type": "display_data",
          "data": {
            "image/png": "[encoded data removed]",
            "text/plain": [
              "<Figure size 432x288 with 1 Axes>"
            ]
          },
          "metadata": {
            "needs_background": "light"
          }
        },
        {
          "output_type": "display_data",
          "data": {
            "image/png": "[encoded data removed]",
            "text/plain": [
              "<Figure size 432x288 with 1 Axes>"
            ]
          },
          "metadata": {
            "needs_background": "light"
          }
        },
        {
          "output_type": "display_data",
          "data": {
            "image/png": "[encoded data removed]",
            "text/plain": [
              "<Figure size 432x288 with 1 Axes>"
            ]
          },
          "metadata": {
            "needs_background": "light"
          }
        },
        {
          "output_type": "display_data",
          "data": {
            "image/png": "[encoded data removed]",
            "text/plain": [
              "<Figure size 432x288 with 1 Axes>"
            ]
          },
          "metadata": {
            "needs_background": "light"
          }
        },
        {
          "output_type": "display_data",
          "data": {
            "image/png": "[encoded data removed]",
            "text/plain": [
              "<Figure size 432x288 with 1 Axes>"
            ]
          },
          "metadata": {
            "needs_background": "light"
          }
        },
        {
          "output_type": "display_data",
          "data": {
            "image/png": "[encoded data removed]",
            "text/plain": [
              "<Figure size 432x288 with 1 Axes>"
            ]
          },
          "metadata": {
            "needs_background": "light"
          }
        },
        {
          "output_type": "display_data",
          "data": {
            "image/png": "[encoded data removed]",
            "text/plain": [
              "<Figure size 432x288 with 1 Axes>"
            ]
          },
          "metadata": {
            "needs_background": "light"
          }
        },
        {
          "output_type": "display_data",
          "data": {
            "image/png": "[encoded data removed]",
            "text/plain": [
              "<Figure size 432x288 with 1 Axes>"
            ]
          },
          "metadata": {
            "needs_background": "light"
          }
        },
        {
          "output_type": "display_data",
          "data": {
            "image/png": "[encoded data removed]",
            "text/plain": [
              "<Figure size 432x288 with 1 Axes>"
            ]
          },
          "metadata": {
            "needs_background": "light"
          }
        },
        {
          "output_type": "display_data",
          "data": {
            "image/png": "[encoded data removed]",
            "text/plain": [
              "<Figure size 432x288 with 1 Axes>"
            ]
          },
          "metadata": {
            "needs_background": "light"
          }
        }
      ]
    },
    {
      "cell_type": "code",
      "metadata": {
        "id": "J5OtzvYAheAL",
        "colab": {
          "base_uri": "https://localhost:8080/",
          "height": 394
        },
        "outputId": "95001a15-dce2-4766-b317-277775c6bcdc"
      },
      "source": [
        "# посмотрим в цифрах изменения трендов продаж по платформам\n",
        "df.query('year_of_release>=2012 and platform in @top_platform').pivot_table(index='platform', columns='year_of_release', values='total_sales', aggfunc='sum').reset_index()"
      ],
      "execution_count": null,
      "outputs": [
        {
          "output_type": "execute_result",
          "data": {
            "text/html": [
              "<div>\n",
              "<style scoped>\n",
              "    .dataframe tbody tr th:only-of-type {\n",
              "        vertical-align: middle;\n",
              "    }\n",
              "\n",
              "    .dataframe tbody tr th {\n",
              "        vertical-align: top;\n",
              "    }\n",
              "\n",
              "    .dataframe thead th {\n",
              "        text-align: right;\n",
              "    }\n",
              "</style>\n",
              "<table border=\"1\" class=\"dataframe\">\n",
              "  <thead>\n",
              "    <tr style=\"text-align: right;\">\n",
              "      <th>year_of_release</th>\n",
              "      <th>platform</th>\n",
              "      <th>2012</th>\n",
              "      <th>2013</th>\n",
              "      <th>2014</th>\n",
              "      <th>2015</th>\n",
              "      <th>2016</th>\n",
              "    </tr>\n",
              "  </thead>\n",
              "  <tbody>\n",
              "    <tr>\n",
              "      <th>0</th>\n",
              "      <td>3DS</td>\n",
              "      <td>51.36</td>\n",
              "      <td>56.57</td>\n",
              "      <td>43.76</td>\n",
              "      <td>27.78</td>\n",
              "      <td>15.14</td>\n",
              "    </tr>\n",
              "    <tr>\n",
              "      <th>1</th>\n",
              "      <td>DS</td>\n",
              "      <td>11.01</td>\n",
              "      <td>1.54</td>\n",
              "      <td>NaN</td>\n",
              "      <td>NaN</td>\n",
              "      <td>NaN</td>\n",
              "    </tr>\n",
              "    <tr>\n",
              "      <th>2</th>\n",
              "      <td>PC</td>\n",
              "      <td>23.22</td>\n",
              "      <td>12.38</td>\n",
              "      <td>13.28</td>\n",
              "      <td>8.52</td>\n",
              "      <td>5.25</td>\n",
              "    </tr>\n",
              "    <tr>\n",
              "      <th>3</th>\n",
              "      <td>PS3</td>\n",
              "      <td>107.36</td>\n",
              "      <td>113.25</td>\n",
              "      <td>47.76</td>\n",
              "      <td>16.82</td>\n",
              "      <td>3.60</td>\n",
              "    </tr>\n",
              "    <tr>\n",
              "      <th>4</th>\n",
              "      <td>PS4</td>\n",
              "      <td>NaN</td>\n",
              "      <td>25.99</td>\n",
              "      <td>100.00</td>\n",
              "      <td>118.90</td>\n",
              "      <td>69.25</td>\n",
              "    </tr>\n",
              "    <tr>\n",
              "      <th>5</th>\n",
              "      <td>PSP</td>\n",
              "      <td>7.69</td>\n",
              "      <td>3.14</td>\n",
              "      <td>0.24</td>\n",
              "      <td>0.12</td>\n",
              "      <td>NaN</td>\n",
              "    </tr>\n",
              "    <tr>\n",
              "      <th>6</th>\n",
              "      <td>PSV</td>\n",
              "      <td>16.19</td>\n",
              "      <td>10.59</td>\n",
              "      <td>11.90</td>\n",
              "      <td>6.25</td>\n",
              "      <td>4.25</td>\n",
              "    </tr>\n",
              "    <tr>\n",
              "      <th>7</th>\n",
              "      <td>Wii</td>\n",
              "      <td>21.71</td>\n",
              "      <td>8.59</td>\n",
              "      <td>3.75</td>\n",
              "      <td>1.14</td>\n",
              "      <td>0.18</td>\n",
              "    </tr>\n",
              "    <tr>\n",
              "      <th>8</th>\n",
              "      <td>WiiU</td>\n",
              "      <td>17.56</td>\n",
              "      <td>21.65</td>\n",
              "      <td>22.03</td>\n",
              "      <td>16.35</td>\n",
              "      <td>4.60</td>\n",
              "    </tr>\n",
              "    <tr>\n",
              "      <th>9</th>\n",
              "      <td>X360</td>\n",
              "      <td>99.74</td>\n",
              "      <td>88.58</td>\n",
              "      <td>34.74</td>\n",
              "      <td>11.96</td>\n",
              "      <td>1.52</td>\n",
              "    </tr>\n",
              "    <tr>\n",
              "      <th>10</th>\n",
              "      <td>XOne</td>\n",
              "      <td>NaN</td>\n",
              "      <td>18.96</td>\n",
              "      <td>54.07</td>\n",
              "      <td>60.14</td>\n",
              "      <td>26.15</td>\n",
              "    </tr>\n",
              "  </tbody>\n",
              "</table>\n",
              "</div>"
            ],
            "text/plain": [
              "year_of_release platform    2012    2013    2014    2015   2016\n",
              "0                    3DS   51.36   56.57   43.76   27.78  15.14\n",
              "1                     DS   11.01    1.54     NaN     NaN    NaN\n",
              "2                     PC   23.22   12.38   13.28    8.52   5.25\n",
              "3                    PS3  107.36  113.25   47.76   16.82   3.60\n",
              "4                    PS4     NaN   25.99  100.00  118.90  69.25\n",
              "5                    PSP    7.69    3.14    0.24    0.12    NaN\n",
              "6                    PSV   16.19   10.59   11.90    6.25   4.25\n",
              "7                    Wii   21.71    8.59    3.75    1.14   0.18\n",
              "8                   WiiU   17.56   21.65   22.03   16.35   4.60\n",
              "9                   X360   99.74   88.58   34.74   11.96   1.52\n",
              "10                  XOne     NaN   18.96   54.07   60.14  26.15"
            ]
          },
          "metadata": {},
          "execution_count": 59
        }
      ]
    },
    {
      "cell_type": "markdown",
      "metadata": {
        "id": "qs4Rr2x1heAL"
      },
      "source": [
        "Вывод: Из 11 платформ,\n",
        "DS и PSP прекратили продажи.\n",
        "\n",
        "3DS, PC, PS3, PSV, Wii, WiiU, X360, PS4, XOne - еще не завершили свой тренд снижения.\n",
        "\n",
        "XOne, PS4 начали продажи в 2013 и продажи еще высоки.\n",
        "\n",
        "PC имеет тренд с остановками снижения и продажи стартовали высоко.\n",
        "\n",
        "WiiU - продажи еще высоки, как и у PC\n",
        "\n",
        "3DS старт продаж высоко и график линейный, спад без ускорения, можно оставить.\n",
        "\n",
        "Выберем PS4, XOne, 3DS, PC, WiiU как потенциально прибыльные"
      ]
    },
    {
      "cell_type": "markdown",
      "metadata": {
        "id": "m79O5cD_heAM"
      },
      "source": [
        "### Построим график «ящик с усами» по глобальным продажам каждой игры и разбивкой по платформам"
      ]
    },
    {
      "cell_type": "markdown",
      "metadata": {
        "id": "3KmWKbb5heAN"
      },
      "source": [
        "Проанализируем игры, посмотрим средние сборы за игру и математическое ожидание для глобальных продаж игр и с разбивкой по платформам. Увидим велика ли разница в продажах и как они отличаются на разных платформах."
      ]
    },
    {
      "cell_type": "code",
      "metadata": {
        "id": "fYPW34ICheAN",
        "colab": {
          "base_uri": "https://localhost:8080/"
        },
        "outputId": "1a8bf0b5-7464-46e5-8fb1-fde12c3fc321"
      },
      "source": [
        "# сколько всего у нас игр\n",
        "\n",
        "len(df.query('year_of_release>=2012').groupby('name')['name'])"
      ],
      "execution_count": null,
      "outputs": [
        {
          "output_type": "execute_result",
          "data": {
            "text/plain": [
              "1671"
            ]
          },
          "metadata": {},
          "execution_count": 60
        }
      ]
    },
    {
      "cell_type": "code",
      "metadata": {
        "id": "uR6KyLc7heAN",
        "colab": {
          "base_uri": "https://localhost:8080/",
          "height": 282
        },
        "outputId": "624305df-e5da-4362-b946-f7d99c555e00"
      },
      "source": [
        "games_sales_all = df.query('year_of_release>=2012').pivot_table(index='name', values='total_sales', aggfunc='sum').reset_index()\n",
        "#games_sales_all\n",
        "plt.ylim(0,4)\n",
        "games_sales_all.boxplot()\n",
        "plt.title('Диаграмма размаха всех продаж компьютерных игр')\n",
        "plt.show()"
      ],
      "execution_count": null,
      "outputs": [
        {
          "output_type": "display_data",
          "data": {
            "image/png": "[encoded data removed]",
            "text/plain": [
              "<Figure size 432x288 with 1 Axes>"
            ]
          },
          "metadata": {
            "needs_background": "light"
          }
        }
      ]
    },
    {
      "cell_type": "code",
      "metadata": {
        "id": "7feTPpLWheAO",
        "colab": {
          "base_uri": "https://localhost:8080/"
        },
        "outputId": "d3611807-39df-4041-f603-0ea6ddc07d3f"
      },
      "source": [
        "# представим данные таблицей\n",
        "\n",
        "games_sales_all['total_sales'].describe()"
      ],
      "execution_count": null,
      "outputs": [
        {
          "output_type": "execute_result",
          "data": {
            "text/plain": [
              "count    1671.000000\n",
              "mean        0.865667\n",
              "std         2.652672\n",
              "min         0.010000\n",
              "25%         0.030000\n",
              "50%         0.130000\n",
              "75%         0.560000\n",
              "max        56.580000\n",
              "Name: total_sales, dtype: float64"
            ]
          },
          "metadata": {},
          "execution_count": 62
        }
      ]
    },
    {
      "cell_type": "markdown",
      "metadata": {
        "id": "jKGx9QGHheAO"
      },
      "source": [
        "Смотрим значения между Q1 и Q3 и медиану 50%. \n",
        "И так: Основной доход между от 0.03 до 0.56 млн. Обычно доход 0.13 млн. с каждой игры.\n",
        "Максимальный зафиксированный доход с игры был 56.58 млн. долларов."
      ]
    },
    {
      "cell_type": "markdown",
      "metadata": {
        "id": "PZEfIiDvheAP"
      },
      "source": [
        "Теперь рассмотрим данные по каждой платформе"
      ]
    },
    {
      "cell_type": "code",
      "metadata": {
        "id": "OQ_p41VEheAP",
        "colab": {
          "base_uri": "https://localhost:8080/"
        },
        "outputId": "72ebf3cb-4c6a-4806-944b-6b497354d9f1"
      },
      "source": [
        "# откорректируем список выбранных платформ\n",
        "top_platform = ['PS4', 'XOne', '3DS', 'PC', 'WiiU']\n",
        "top_platform\n"
      ],
      "execution_count": null,
      "outputs": [
        {
          "output_type": "execute_result",
          "data": {
            "text/plain": [
              "['PS4', 'XOne', '3DS', 'PC', 'WiiU']"
            ]
          },
          "metadata": {},
          "execution_count": 63
        }
      ]
    },
    {
      "cell_type": "code",
      "metadata": {
        "id": "YGSQepFcheAQ",
        "colab": {
          "base_uri": "https://localhost:8080/",
          "height": 269
        },
        "outputId": "981cc5c6-a964-4ff8-f583-5dd4573fd93e"
      },
      "source": [
        "# сформируем таблицу ТОП игр \n",
        "games_sales = df.query('platform in @top_platform').pivot_table(index='name', columns='platform', values='total_sales', aggfunc='sum').reset_index()\n",
        "\n",
        "# временно подавим предупреждения \n",
        "warnings.filterwarnings(\"ignore\")\n",
        "\n",
        "# Построим график «ящик с усами» по глобальным продажам каждой игры и разбивкой по платформам\n",
        "plt.ylim(-0.1,2)\n",
        "games_sales.boxplot()\n",
        "plt.show()\n",
        "\n",
        "# вернем предупреждения \n",
        "#warnings.filterwarnings(\"default\")\n"
      ],
      "execution_count": null,
      "outputs": [
        {
          "output_type": "display_data",
          "data": {
            "image/png": "[encoded data removed]",
            "text/plain": [
              "<Figure size 432x288 with 1 Axes>"
            ]
          },
          "metadata": {
            "needs_background": "light"
          }
        }
      ]
    },
    {
      "cell_type": "code",
      "metadata": {
        "id": "G7ojy2G4heAR",
        "colab": {
          "base_uri": "https://localhost:8080/",
          "height": 332
        },
        "outputId": "11578e70-abf7-44a0-c5f7-b9655e4d1877"
      },
      "source": [
        "# представим таблицей описание разброса глобальных продаж по каждой игре и с разбивкой по платформам\n",
        "# также добавим строку с глобальными продажами в таблицу\n",
        "ds1 = []\n",
        "total_sales_columns = []\n",
        "\n",
        "games_sales_stat = pd.DataFrame(games_sales.describe().index) \n",
        "total_sales_columns.append('total_sales')\n",
        "\n",
        "for i in range(1,len(games_sales.columns)):\n",
        "    games_sales_stat[games_sales.columns[i]]=games_sales[games_sales.columns[i]].describe().values\n",
        "    ds1 = df.query('platform in @top_platform').pivot_table(index='platform', values ='total_sales', aggfunc='sum')\n",
        "    total_sales_columns.append(ds1.loc[games_sales.columns[i],'total_sales']) \n",
        "games_sales_stat.loc['total_sales'] = total_sales_columns\n",
        "\n",
        "\n",
        "games_sales_stat.reset_index(drop = True)"
      ],
      "execution_count": null,
      "outputs": [
        {
          "output_type": "execute_result",
          "data": {
            "text/html": [
              "<div>\n",
              "<style scoped>\n",
              "    .dataframe tbody tr th:only-of-type {\n",
              "        vertical-align: middle;\n",
              "    }\n",
              "\n",
              "    .dataframe tbody tr th {\n",
              "        vertical-align: top;\n",
              "    }\n",
              "\n",
              "    .dataframe thead th {\n",
              "        text-align: right;\n",
              "    }\n",
              "</style>\n",
              "<table border=\"1\" class=\"dataframe\">\n",
              "  <thead>\n",
              "    <tr style=\"text-align: right;\">\n",
              "      <th></th>\n",
              "      <th>0</th>\n",
              "      <th>3DS</th>\n",
              "      <th>PC</th>\n",
              "      <th>PS4</th>\n",
              "      <th>WiiU</th>\n",
              "      <th>XOne</th>\n",
              "    </tr>\n",
              "  </thead>\n",
              "  <tbody>\n",
              "    <tr>\n",
              "      <th>0</th>\n",
              "      <td>count</td>\n",
              "      <td>512.000000</td>\n",
              "      <td>812.000000</td>\n",
              "      <td>392.000000</td>\n",
              "      <td>147.000000</td>\n",
              "      <td>247.000000</td>\n",
              "    </tr>\n",
              "    <tr>\n",
              "      <th>1</th>\n",
              "      <td>mean</td>\n",
              "      <td>0.503535</td>\n",
              "      <td>0.206638</td>\n",
              "      <td>0.801378</td>\n",
              "      <td>0.559116</td>\n",
              "      <td>0.645020</td>\n",
              "    </tr>\n",
              "    <tr>\n",
              "      <th>2</th>\n",
              "      <td>std</td>\n",
              "      <td>1.441271</td>\n",
              "      <td>0.534592</td>\n",
              "      <td>1.609456</td>\n",
              "      <td>1.058836</td>\n",
              "      <td>1.036139</td>\n",
              "    </tr>\n",
              "    <tr>\n",
              "      <th>3</th>\n",
              "      <td>min</td>\n",
              "      <td>0.010000</td>\n",
              "      <td>0.010000</td>\n",
              "      <td>0.010000</td>\n",
              "      <td>0.010000</td>\n",
              "      <td>0.010000</td>\n",
              "    </tr>\n",
              "    <tr>\n",
              "      <th>4</th>\n",
              "      <td>25%</td>\n",
              "      <td>0.050000</td>\n",
              "      <td>0.020000</td>\n",
              "      <td>0.060000</td>\n",
              "      <td>0.080000</td>\n",
              "      <td>0.060000</td>\n",
              "    </tr>\n",
              "    <tr>\n",
              "      <th>5</th>\n",
              "      <td>50%</td>\n",
              "      <td>0.120000</td>\n",
              "      <td>0.050000</td>\n",
              "      <td>0.200000</td>\n",
              "      <td>0.220000</td>\n",
              "      <td>0.220000</td>\n",
              "    </tr>\n",
              "    <tr>\n",
              "      <th>6</th>\n",
              "      <td>75%</td>\n",
              "      <td>0.332500</td>\n",
              "      <td>0.160000</td>\n",
              "      <td>0.730000</td>\n",
              "      <td>0.525000</td>\n",
              "      <td>0.685000</td>\n",
              "    </tr>\n",
              "    <tr>\n",
              "      <th>7</th>\n",
              "      <td>max</td>\n",
              "      <td>14.600000</td>\n",
              "      <td>8.010000</td>\n",
              "      <td>14.630000</td>\n",
              "      <td>7.090000</td>\n",
              "      <td>7.390000</td>\n",
              "    </tr>\n",
              "    <tr>\n",
              "      <th>8</th>\n",
              "      <td>total_sales</td>\n",
              "      <td>257.810000</td>\n",
              "      <td>167.790000</td>\n",
              "      <td>314.140000</td>\n",
              "      <td>82.190000</td>\n",
              "      <td>159.320000</td>\n",
              "    </tr>\n",
              "  </tbody>\n",
              "</table>\n",
              "</div>"
            ],
            "text/plain": [
              "             0         3DS          PC         PS4        WiiU        XOne\n",
              "0        count  512.000000  812.000000  392.000000  147.000000  247.000000\n",
              "1         mean    0.503535    0.206638    0.801378    0.559116    0.645020\n",
              "2          std    1.441271    0.534592    1.609456    1.058836    1.036139\n",
              "3          min    0.010000    0.010000    0.010000    0.010000    0.010000\n",
              "4          25%    0.050000    0.020000    0.060000    0.080000    0.060000\n",
              "5          50%    0.120000    0.050000    0.200000    0.220000    0.220000\n",
              "6          75%    0.332500    0.160000    0.730000    0.525000    0.685000\n",
              "7          max   14.600000    8.010000   14.630000    7.090000    7.390000\n",
              "8  total_sales  257.810000  167.790000  314.140000   82.190000  159.320000"
            ]
          },
          "metadata": {},
          "execution_count": 65
        }
      ]
    },
    {
      "cell_type": "markdown",
      "metadata": {
        "id": "vO5mY1geheAR"
      },
      "source": [
        "ВЫВОДЫ ПО ПЛАТФОРМАМ. \n",
        "\n",
        "    Лидер по количеству игр платформа - PC у них 812 игр, при этом общие продажи средние по рынку, а средние сборы за каждую игру минимальны. Возможно потому что платформа PC открытая, поэтому много игр и высока конкуренция, следовательно низкая средняя цена игр. \n",
        "\n",
        "    Самые успешная платформа на рынке - PS4. У неё максимальные сборы за все время, а сборы по самой популярной игре составили 14.63 млн долларов, средние сборы за каждую игру на этой площадке также самые высокие. Похоже становится очевидным фактор успеха, поскольку платформа PS4 закрытая и принадлежит одной компании, фактически среда дистрибуции одной компании, конкуренции нет. Поскольку платформа закрытая, возможно есть игры которые производятся только для нее, что даст высокие продажи именно на платформе в случае хита. Стандартное отклонение(1.6) больше чем у других, это говорит о том что хитов или провалов по играм у PS4 больше чем у других плтформ.\n",
        "\n",
        "    XOne и WiiU показывают схожие результаты, с равным ожиданием по сборам каждой игры в 0.22 млн $ примерно одинаковым разбросом сборов по играм и почти одинаковым результатом по самой успешной игре - 7,39 и 7,09 млн $ соответственно. Отличает их лиш количество игр. У WiiU игр более чем на 40 %  меньше чем у XOne, и, соответствнно выручка более чем на 45% ниже. Хорошие и стабильные показатели свойственны закрытым платформам.\n",
        "\n",
        "    3DS имеет средние ожидания по каждой игре 0.12 млн дол, при этом самая успешная игра собрала 14.6 млн дол. Также закрытая платформа, но совершенно из другого сегмента, это платформа для мобильных игр и карманного устройства. Разброс стандартного отклонения высок как у PS4, значит хиты и провали бывают чаще чем у PC.\n",
        "\n",
        "Общий вывод: закрытость платформы это фактор повысить продажи, за счет эксклюзивов и возможных хитов. Но риски провалов тоже есть(стандартное отклонение как видим выше). При больших объемах продаж средняя будет стремится к медиане(ожиданиям) по продажам и будет выше в 4 раза чем у попавшей в наш ТОП открытой платформы(PC).\n",
        "Да есть над чем задуматься маркетологам."
      ]
    },
    {
      "cell_type": "markdown",
      "metadata": {
        "id": "a1rZPPNhheAT"
      },
      "source": [
        "###  как влияют на продажи внутри одной популярной платформы отзывы пользователей и критиков"
      ]
    },
    {
      "cell_type": "markdown",
      "metadata": {
        "id": "P_zUEtgqheAT"
      },
      "source": [
        "Посмотрим как влияют на продажи внутри одной популярной платформы отзывы пользователей и критиков. Построем диаграмму \n",
        "рассеяния и посчитаем корреляцию между отзывами и продажами. \n",
        "Соотнесем данные по продажами игр на выбранных платформах."
      ]
    },
    {
      "cell_type": "code",
      "metadata": {
        "id": "6nlEeayNheAT",
        "colab": {
          "base_uri": "https://localhost:8080/",
          "height": 206
        },
        "outputId": "4561e41c-0a9b-4823-8453-ae09e127ba33"
      },
      "source": [
        "# выведем наши данные \n",
        "df.head()"
      ],
      "execution_count": null,
      "outputs": [
        {
          "output_type": "execute_result",
          "data": {
            "text/html": [
              "<div>\n",
              "<style scoped>\n",
              "    .dataframe tbody tr th:only-of-type {\n",
              "        vertical-align: middle;\n",
              "    }\n",
              "\n",
              "    .dataframe tbody tr th {\n",
              "        vertical-align: top;\n",
              "    }\n",
              "\n",
              "    .dataframe thead th {\n",
              "        text-align: right;\n",
              "    }\n",
              "</style>\n",
              "<table border=\"1\" class=\"dataframe\">\n",
              "  <thead>\n",
              "    <tr style=\"text-align: right;\">\n",
              "      <th></th>\n",
              "      <th>name</th>\n",
              "      <th>platform</th>\n",
              "      <th>year_of_release</th>\n",
              "      <th>genre</th>\n",
              "      <th>na_sales</th>\n",
              "      <th>eu_sales</th>\n",
              "      <th>jp_sales</th>\n",
              "      <th>other_sales</th>\n",
              "      <th>critic_score</th>\n",
              "      <th>user_score</th>\n",
              "      <th>rating</th>\n",
              "      <th>total_sales</th>\n",
              "    </tr>\n",
              "  </thead>\n",
              "  <tbody>\n",
              "    <tr>\n",
              "      <th>0</th>\n",
              "      <td>Wii Sports</td>\n",
              "      <td>Wii</td>\n",
              "      <td>2006</td>\n",
              "      <td>Sports</td>\n",
              "      <td>41.36</td>\n",
              "      <td>28.96</td>\n",
              "      <td>3.77</td>\n",
              "      <td>8.45</td>\n",
              "      <td>76.0</td>\n",
              "      <td>8.0</td>\n",
              "      <td>E</td>\n",
              "      <td>82.54</td>\n",
              "    </tr>\n",
              "    <tr>\n",
              "      <th>2</th>\n",
              "      <td>Mario Kart Wii</td>\n",
              "      <td>Wii</td>\n",
              "      <td>2008</td>\n",
              "      <td>Racing</td>\n",
              "      <td>15.68</td>\n",
              "      <td>12.76</td>\n",
              "      <td>3.79</td>\n",
              "      <td>3.29</td>\n",
              "      <td>82.0</td>\n",
              "      <td>8.3</td>\n",
              "      <td>E</td>\n",
              "      <td>35.52</td>\n",
              "    </tr>\n",
              "    <tr>\n",
              "      <th>3</th>\n",
              "      <td>Wii Sports Resort</td>\n",
              "      <td>Wii</td>\n",
              "      <td>2009</td>\n",
              "      <td>Sports</td>\n",
              "      <td>15.61</td>\n",
              "      <td>10.93</td>\n",
              "      <td>3.28</td>\n",
              "      <td>2.95</td>\n",
              "      <td>80.0</td>\n",
              "      <td>8.0</td>\n",
              "      <td>E</td>\n",
              "      <td>32.77</td>\n",
              "    </tr>\n",
              "    <tr>\n",
              "      <th>6</th>\n",
              "      <td>New Super Mario Bros.</td>\n",
              "      <td>DS</td>\n",
              "      <td>2006</td>\n",
              "      <td>Platform</td>\n",
              "      <td>11.28</td>\n",
              "      <td>9.14</td>\n",
              "      <td>6.50</td>\n",
              "      <td>2.88</td>\n",
              "      <td>89.0</td>\n",
              "      <td>8.5</td>\n",
              "      <td>E</td>\n",
              "      <td>29.80</td>\n",
              "    </tr>\n",
              "    <tr>\n",
              "      <th>7</th>\n",
              "      <td>Wii Play</td>\n",
              "      <td>Wii</td>\n",
              "      <td>2006</td>\n",
              "      <td>Misc</td>\n",
              "      <td>13.96</td>\n",
              "      <td>9.18</td>\n",
              "      <td>2.93</td>\n",
              "      <td>2.84</td>\n",
              "      <td>58.0</td>\n",
              "      <td>6.6</td>\n",
              "      <td>E</td>\n",
              "      <td>28.91</td>\n",
              "    </tr>\n",
              "  </tbody>\n",
              "</table>\n",
              "</div>"
            ],
            "text/plain": [
              "                    name platform  ...  rating total_sales\n",
              "0             Wii Sports      Wii  ...       E       82.54\n",
              "2         Mario Kart Wii      Wii  ...       E       35.52\n",
              "3      Wii Sports Resort      Wii  ...       E       32.77\n",
              "6  New Super Mario Bros.       DS  ...       E       29.80\n",
              "7               Wii Play      Wii  ...       E       28.91\n",
              "\n",
              "[5 rows x 12 columns]"
            ]
          },
          "metadata": {},
          "execution_count": 66
        }
      ]
    },
    {
      "cell_type": "code",
      "metadata": {
        "id": "6boDXZF0heAU",
        "colab": {
          "base_uri": "https://localhost:8080/",
          "height": 424
        },
        "outputId": "38a080f8-cc5a-418c-8370-11996d93e9c0"
      },
      "source": [
        "# подготовим таблицу по оценкам пользователей и по сборам по всем играм\n",
        "# корреляцию будем считать по всем \"сырым\" данным \n",
        "\n",
        "#us_score_sales_dep = df.pivot_table(index ='user_score', values = 'total_sales' , aggfunc = 'sum').reset_index()\n",
        "us_score_sales_dep = df[['user_score','total_sales']]\n",
        "us_score_sales_dep\n",
        "\n",
        "#us_score_sales_dep.isna().sum()\n",
        "#us_score_sales_dep = us_score_sales_dep.dropna()\n",
        "#us_score_sales_dep"
      ],
      "execution_count": null,
      "outputs": [
        {
          "output_type": "execute_result",
          "data": {
            "text/html": [
              "<div>\n",
              "<style scoped>\n",
              "    .dataframe tbody tr th:only-of-type {\n",
              "        vertical-align: middle;\n",
              "    }\n",
              "\n",
              "    .dataframe tbody tr th {\n",
              "        vertical-align: top;\n",
              "    }\n",
              "\n",
              "    .dataframe thead th {\n",
              "        text-align: right;\n",
              "    }\n",
              "</style>\n",
              "<table border=\"1\" class=\"dataframe\">\n",
              "  <thead>\n",
              "    <tr style=\"text-align: right;\">\n",
              "      <th></th>\n",
              "      <th>user_score</th>\n",
              "      <th>total_sales</th>\n",
              "    </tr>\n",
              "  </thead>\n",
              "  <tbody>\n",
              "    <tr>\n",
              "      <th>0</th>\n",
              "      <td>8.0</td>\n",
              "      <td>82.54</td>\n",
              "    </tr>\n",
              "    <tr>\n",
              "      <th>2</th>\n",
              "      <td>8.3</td>\n",
              "      <td>35.52</td>\n",
              "    </tr>\n",
              "    <tr>\n",
              "      <th>3</th>\n",
              "      <td>8.0</td>\n",
              "      <td>32.77</td>\n",
              "    </tr>\n",
              "    <tr>\n",
              "      <th>6</th>\n",
              "      <td>8.5</td>\n",
              "      <td>29.80</td>\n",
              "    </tr>\n",
              "    <tr>\n",
              "      <th>7</th>\n",
              "      <td>6.6</td>\n",
              "      <td>28.91</td>\n",
              "    </tr>\n",
              "    <tr>\n",
              "      <th>...</th>\n",
              "      <td>...</td>\n",
              "      <td>...</td>\n",
              "    </tr>\n",
              "    <tr>\n",
              "      <th>16709</th>\n",
              "      <td>NaN</td>\n",
              "      <td>0.00</td>\n",
              "    </tr>\n",
              "    <tr>\n",
              "      <th>16710</th>\n",
              "      <td>NaN</td>\n",
              "      <td>0.01</td>\n",
              "    </tr>\n",
              "    <tr>\n",
              "      <th>16711</th>\n",
              "      <td>NaN</td>\n",
              "      <td>0.01</td>\n",
              "    </tr>\n",
              "    <tr>\n",
              "      <th>16712</th>\n",
              "      <td>NaN</td>\n",
              "      <td>0.01</td>\n",
              "    </tr>\n",
              "    <tr>\n",
              "      <th>16714</th>\n",
              "      <td>NaN</td>\n",
              "      <td>0.01</td>\n",
              "    </tr>\n",
              "  </tbody>\n",
              "</table>\n",
              "<p>11272 rows × 2 columns</p>\n",
              "</div>"
            ],
            "text/plain": [
              "       user_score  total_sales\n",
              "0             8.0        82.54\n",
              "2             8.3        35.52\n",
              "3             8.0        32.77\n",
              "6             8.5        29.80\n",
              "7             6.6        28.91\n",
              "...           ...          ...\n",
              "16709         NaN         0.00\n",
              "16710         NaN         0.01\n",
              "16711         NaN         0.01\n",
              "16712         NaN         0.01\n",
              "16714         NaN         0.01\n",
              "\n",
              "[11272 rows x 2 columns]"
            ]
          },
          "metadata": {},
          "execution_count": 67
        }
      ]
    },
    {
      "cell_type": "code",
      "metadata": {
        "id": "MEigt8s1heAU",
        "colab": {
          "base_uri": "https://localhost:8080/"
        },
        "outputId": "d4afbe26-dedb-45e1-90f7-53f61949f956"
      },
      "source": [
        "# посмотрим величину корреляции оценок пользователей и продаж по всем играм\n",
        "\n",
        "us_score_sales_dep['user_score'].corr(us_score_sales_dep['total_sales'])\n"
      ],
      "execution_count": null,
      "outputs": [
        {
          "output_type": "execute_result",
          "data": {
            "text/plain": [
              "0.07847859823897509"
            ]
          },
          "metadata": {},
          "execution_count": 68
        }
      ]
    },
    {
      "cell_type": "markdown",
      "metadata": {
        "id": "BKo8KEvhheAV"
      },
      "source": [
        "Корреляция (0.07) с оценками пользователей положительная и ближе к 0, т.е. параметры практически не взаимосвязаны. \n",
        "Вывод: Покупатели как правило не смотрят отзывы других покупателей этой игры."
      ]
    },
    {
      "cell_type": "code",
      "metadata": {
        "id": "sRpUdoSWheAV",
        "colab": {
          "base_uri": "https://localhost:8080/",
          "height": 424
        },
        "outputId": "a4747c54-fd34-446d-be50-f378a3d0eadc"
      },
      "source": [
        "# подготовим таблицу по оценкам критиков и по сборам по всем играм\n",
        "# корреляцию будем считать по всем \"сырым\" данным \n",
        "\n",
        "#crit_score_sales_dep = df.pivot_table(index ='critic_score', values = 'total_sales' , aggfunc = 'sum').reset_index()\n",
        "crit_score_sales_dep = df[['critic_score','total_sales']]\n",
        "crit_score_sales_dep\n",
        "\n",
        "#crit_score_sales_dep.isna().sum()\n",
        "#crit_score_sales_dep = crit_score_sales_dep.dropna()\n",
        "#crit_score_sales_dep"
      ],
      "execution_count": null,
      "outputs": [
        {
          "output_type": "execute_result",
          "data": {
            "text/html": [
              "<div>\n",
              "<style scoped>\n",
              "    .dataframe tbody tr th:only-of-type {\n",
              "        vertical-align: middle;\n",
              "    }\n",
              "\n",
              "    .dataframe tbody tr th {\n",
              "        vertical-align: top;\n",
              "    }\n",
              "\n",
              "    .dataframe thead th {\n",
              "        text-align: right;\n",
              "    }\n",
              "</style>\n",
              "<table border=\"1\" class=\"dataframe\">\n",
              "  <thead>\n",
              "    <tr style=\"text-align: right;\">\n",
              "      <th></th>\n",
              "      <th>critic_score</th>\n",
              "      <th>total_sales</th>\n",
              "    </tr>\n",
              "  </thead>\n",
              "  <tbody>\n",
              "    <tr>\n",
              "      <th>0</th>\n",
              "      <td>76.0</td>\n",
              "      <td>82.54</td>\n",
              "    </tr>\n",
              "    <tr>\n",
              "      <th>2</th>\n",
              "      <td>82.0</td>\n",
              "      <td>35.52</td>\n",
              "    </tr>\n",
              "    <tr>\n",
              "      <th>3</th>\n",
              "      <td>80.0</td>\n",
              "      <td>32.77</td>\n",
              "    </tr>\n",
              "    <tr>\n",
              "      <th>6</th>\n",
              "      <td>89.0</td>\n",
              "      <td>29.80</td>\n",
              "    </tr>\n",
              "    <tr>\n",
              "      <th>7</th>\n",
              "      <td>58.0</td>\n",
              "      <td>28.91</td>\n",
              "    </tr>\n",
              "    <tr>\n",
              "      <th>...</th>\n",
              "      <td>...</td>\n",
              "      <td>...</td>\n",
              "    </tr>\n",
              "    <tr>\n",
              "      <th>16709</th>\n",
              "      <td>NaN</td>\n",
              "      <td>0.00</td>\n",
              "    </tr>\n",
              "    <tr>\n",
              "      <th>16710</th>\n",
              "      <td>NaN</td>\n",
              "      <td>0.01</td>\n",
              "    </tr>\n",
              "    <tr>\n",
              "      <th>16711</th>\n",
              "      <td>NaN</td>\n",
              "      <td>0.01</td>\n",
              "    </tr>\n",
              "    <tr>\n",
              "      <th>16712</th>\n",
              "      <td>NaN</td>\n",
              "      <td>0.01</td>\n",
              "    </tr>\n",
              "    <tr>\n",
              "      <th>16714</th>\n",
              "      <td>NaN</td>\n",
              "      <td>0.01</td>\n",
              "    </tr>\n",
              "  </tbody>\n",
              "</table>\n",
              "<p>11272 rows × 2 columns</p>\n",
              "</div>"
            ],
            "text/plain": [
              "       critic_score  total_sales\n",
              "0              76.0        82.54\n",
              "2              82.0        35.52\n",
              "3              80.0        32.77\n",
              "6              89.0        29.80\n",
              "7              58.0        28.91\n",
              "...             ...          ...\n",
              "16709           NaN         0.00\n",
              "16710           NaN         0.01\n",
              "16711           NaN         0.01\n",
              "16712           NaN         0.01\n",
              "16714           NaN         0.01\n",
              "\n",
              "[11272 rows x 2 columns]"
            ]
          },
          "metadata": {},
          "execution_count": 69
        }
      ]
    },
    {
      "cell_type": "code",
      "metadata": {
        "id": "TvtBJLQnheAW",
        "colab": {
          "base_uri": "https://localhost:8080/"
        },
        "outputId": "e35bb1c1-64ec-40c9-d1f3-b9615955bc43"
      },
      "source": [
        "# посмотрим величину корреляции оценок критиков и продаж\n",
        "\n",
        "crit_score_sales_dep['critic_score'].corr(crit_score_sales_dep['total_sales'])"
      ],
      "execution_count": null,
      "outputs": [
        {
          "output_type": "execute_result",
          "data": {
            "text/plain": [
              "0.23351292111050292"
            ]
          },
          "metadata": {},
          "execution_count": 70
        }
      ]
    },
    {
      "cell_type": "markdown",
      "metadata": {
        "id": "g2nR_ki7heAX"
      },
      "source": [
        "Корреляция (0.23) с оценками критиков также положительная, но тоже близка к 0, т.е. очень мала.\n",
        "Оценки критиков не очень влияют на продажи. \n",
        "Но отметим что это картина по всему рынку игр и по всем платформам.\n",
        "Возможно есть дешевые игры, которые пользователи покупают и проверяют их качество на себе, либо есть множество классических игр, которые очень субъективны относительно вкусов людей."
      ]
    },
    {
      "cell_type": "markdown",
      "metadata": {
        "id": "2CKIppxSheAY"
      },
      "source": [
        "Мы нашли корреляцию по продажам в целом. Проверим как распределяются эти значения в разных платформах. Покупатели также ориентируются больше на оценку критиков или больше доверяют своим товарищам по игре?"
      ]
    },
    {
      "cell_type": "code",
      "metadata": {
        "id": "IitWsHViheAY",
        "colab": {
          "base_uri": "https://localhost:8080/"
        },
        "outputId": "4962d605-66ef-4d1e-f727-673e6c4f9f7e"
      },
      "source": [
        "for i in range(len(top_platform)):\n",
        "    pl = top_platform[i]\n",
        "    print(pl)\n",
        "    #print(df.query('platform in @pl').pivot_table(index ='user_score', values = 'total_sales' , aggfunc = 'sum').reset_index().corr())\n",
        "    #print(df.query('platform in @pl').pivot_table(index ='critic_score', values = 'total_sales' , aggfunc = 'sum').reset_index().corr())\n",
        "    print(df.query('platform in @pl')[['user_score','total_sales']].corr())\n",
        "    print(df.query('platform in @pl')[['critic_score','total_sales']].corr())\n",
        "    print()\n"
      ],
      "execution_count": null,
      "outputs": [
        {
          "output_type": "stream",
          "text": [
            "PS4\n",
            "             user_score  total_sales\n",
            "user_score     1.000000    -0.031957\n",
            "total_sales   -0.031957     1.000000\n",
            "              critic_score  total_sales\n",
            "critic_score      1.000000     0.406568\n",
            "total_sales       0.406568     1.000000\n",
            "\n",
            "XOne\n",
            "             user_score  total_sales\n",
            "user_score     1.000000    -0.068925\n",
            "total_sales   -0.068925     1.000000\n",
            "              critic_score  total_sales\n",
            "critic_score      1.000000     0.416998\n",
            "total_sales       0.416998     1.000000\n",
            "\n",
            "3DS\n",
            "             user_score  total_sales\n",
            "user_score     1.000000     0.222078\n",
            "total_sales    0.222078     1.000000\n",
            "              critic_score  total_sales\n",
            "critic_score       1.00000      0.34874\n",
            "total_sales        0.34874      1.00000\n",
            "\n",
            "PC\n",
            "             user_score  total_sales\n",
            "user_score     1.000000    -0.027477\n",
            "total_sales   -0.027477     1.000000\n",
            "              critic_score  total_sales\n",
            "critic_score      1.000000     0.276814\n",
            "total_sales       0.276814     1.000000\n",
            "\n",
            "WiiU\n",
            "             user_score  total_sales\n",
            "user_score     1.000000     0.400219\n",
            "total_sales    0.400219     1.000000\n",
            "              critic_score  total_sales\n",
            "critic_score       1.00000      0.34838\n",
            "total_sales        0.34838      1.00000\n",
            "\n"
          ],
          "name": "stdout"
        }
      ]
    },
    {
      "cell_type": "markdown",
      "metadata": {
        "id": "XnBGdg3kheAa"
      },
      "source": [
        "Составим сводную таблицу по платформам и корреляции"
      ]
    },
    {
      "cell_type": "code",
      "metadata": {
        "id": "yl67rAU0heAa",
        "colab": {
          "base_uri": "https://localhost:8080/",
          "height": 206
        },
        "outputId": "7d6040e5-a8a6-43d4-9fa3-8f3e4aa4dd26"
      },
      "source": [
        "data = []\n",
        "for i in range(len(top_platform)):\n",
        "    pl = top_platform[i]\n",
        "    data.append(\n",
        "        [ \n",
        "            #df.query('platform in @pl').pivot_table(index ='user_score', values = 'total_sales' , aggfunc = 'sum').reset_index().corr().loc['user_score','total_sales'],\n",
        "            #df.query('platform in @pl').pivot_table(index ='critic_score', values = 'total_sales' , aggfunc = 'sum').reset_index().corr().loc['critic_score','total_sales'] \n",
        "            df.query('platform in @pl')[['user_score','total_sales']].corr().loc['user_score','total_sales'],\n",
        "            df.query('platform in @pl')[['critic_score','total_sales']].corr().loc['critic_score','total_sales'] \n",
        "        ])\n",
        "\n",
        "score_depend = pd.DataFrame(data = data, columns = ['user_score', 'critic_score'] )    \n",
        "score_depend['platform'] = top_platform\n",
        "\n",
        "score_depend"
      ],
      "execution_count": null,
      "outputs": [
        {
          "output_type": "execute_result",
          "data": {
            "text/html": [
              "<div>\n",
              "<style scoped>\n",
              "    .dataframe tbody tr th:only-of-type {\n",
              "        vertical-align: middle;\n",
              "    }\n",
              "\n",
              "    .dataframe tbody tr th {\n",
              "        vertical-align: top;\n",
              "    }\n",
              "\n",
              "    .dataframe thead th {\n",
              "        text-align: right;\n",
              "    }\n",
              "</style>\n",
              "<table border=\"1\" class=\"dataframe\">\n",
              "  <thead>\n",
              "    <tr style=\"text-align: right;\">\n",
              "      <th></th>\n",
              "      <th>user_score</th>\n",
              "      <th>critic_score</th>\n",
              "      <th>platform</th>\n",
              "    </tr>\n",
              "  </thead>\n",
              "  <tbody>\n",
              "    <tr>\n",
              "      <th>0</th>\n",
              "      <td>-0.031957</td>\n",
              "      <td>0.406568</td>\n",
              "      <td>PS4</td>\n",
              "    </tr>\n",
              "    <tr>\n",
              "      <th>1</th>\n",
              "      <td>-0.068925</td>\n",
              "      <td>0.416998</td>\n",
              "      <td>XOne</td>\n",
              "    </tr>\n",
              "    <tr>\n",
              "      <th>2</th>\n",
              "      <td>0.222078</td>\n",
              "      <td>0.348740</td>\n",
              "      <td>3DS</td>\n",
              "    </tr>\n",
              "    <tr>\n",
              "      <th>3</th>\n",
              "      <td>-0.027477</td>\n",
              "      <td>0.276814</td>\n",
              "      <td>PC</td>\n",
              "    </tr>\n",
              "    <tr>\n",
              "      <th>4</th>\n",
              "      <td>0.400219</td>\n",
              "      <td>0.348380</td>\n",
              "      <td>WiiU</td>\n",
              "    </tr>\n",
              "  </tbody>\n",
              "</table>\n",
              "</div>"
            ],
            "text/plain": [
              "   user_score  critic_score platform\n",
              "0   -0.031957      0.406568      PS4\n",
              "1   -0.068925      0.416998     XOne\n",
              "2    0.222078      0.348740      3DS\n",
              "3   -0.027477      0.276814       PC\n",
              "4    0.400219      0.348380     WiiU"
            ]
          },
          "metadata": {},
          "execution_count": 72
        }
      ]
    },
    {
      "cell_type": "markdown",
      "metadata": {
        "id": "b2wN7orgheAc"
      },
      "source": [
        "Построим диаграмму рассеяния, чтобы посмотреть на разброс данный в более наглядной форме."
      ]
    },
    {
      "cell_type": "code",
      "metadata": {
        "id": "C7QTKrwWheAc",
        "colab": {
          "base_uri": "https://localhost:8080/",
          "height": 1000
        },
        "outputId": "b77f99b0-db77-4e76-f1e1-0d1017a33040"
      },
      "source": [
        "for i in range(len(top_platform)):\n",
        "    pl = top_platform[i]\n",
        "    #df.query('platform in @pl').pivot_table(index ='user_score', values = 'total_sales' , aggfunc = 'sum').reset_index().plot(x='user_score', y='total_sales', kind='scatter', title=pl)\n",
        "    #df.query('platform in @pl').pivot_table(index ='critic_score', values = 'total_sales' , aggfunc = 'sum').reset_index().plot(x='critic_score', y='total_sales', kind='scatter', title=pl)\n",
        "    df.query('platform in @pl')[['user_score','total_sales']].plot(x='user_score', y='total_sales', kind='scatter', title=pl)\n",
        "    df.query('platform in @pl')[['critic_score','total_sales']].plot(x='critic_score', y='total_sales', kind='scatter', title=pl)\n",
        "\n"
      ],
      "execution_count": null,
      "outputs": [
        {
          "output_type": "display_data",
          "data": {
            "image/png": "[encoded data removed]",
            "text/plain": [
              "<Figure size 432x288 with 1 Axes>"
            ]
          },
          "metadata": {
            "needs_background": "light"
          }
        },
        {
          "output_type": "display_data",
          "data": {
            "image/png": "[encoded data removed]",
            "text/plain": [
              "<Figure size 432x288 with 1 Axes>"
            ]
          },
          "metadata": {
            "needs_background": "light"
          }
        },
        {
          "output_type": "display_data",
          "data": {
            "image/png": "[encoded data removed]",
            "text/plain": [
              "<Figure size 432x288 with 1 Axes>"
            ]
          },
          "metadata": {
            "needs_background": "light"
          }
        },
        {
          "output_type": "display_data",
          "data": {
            "image/png": "[encoded data removed]",
            "text/plain": [
              "<Figure size 432x288 with 1 Axes>"
            ]
          },
          "metadata": {
            "needs_background": "light"
          }
        },
        {
          "output_type": "display_data",
          "data": {
            "image/png": "[encoded data removed]",
            "text/plain": [
              "<Figure size 432x288 with 1 Axes>"
            ]
          },
          "metadata": {
            "needs_background": "light"
          }
        },
        {
          "output_type": "display_data",
          "data": {
            "image/png": "[encoded data removed]",
            "text/plain": [
              "<Figure size 432x288 with 1 Axes>"
            ]
          },
          "metadata": {
            "needs_background": "light"
          }
        },
        {
          "output_type": "display_data",
          "data": {
            "image/png": "[encoded data removed]",
            "text/plain": [
              "<Figure size 432x288 with 1 Axes>"
            ]
          },
          "metadata": {
            "needs_background": "light"
          }
        },
        {
          "output_type": "display_data",
          "data": {
            "image/png": "[encoded data removed]",
            "text/plain": [
              "<Figure size 432x288 with 1 Axes>"
            ]
          },
          "metadata": {
            "needs_background": "light"
          }
        },
        {
          "output_type": "display_data",
          "data": {
            "image/png": "[encoded data removed]",
            "text/plain": [
              "<Figure size 432x288 with 1 Axes>"
            ]
          },
          "metadata": {
            "needs_background": "light"
          }
        },
        {
          "output_type": "display_data",
          "data": {
            "image/png": "[encoded data removed]",
            "text/plain": [
              "<Figure size 432x288 with 1 Axes>"
            ]
          },
          "metadata": {
            "needs_background": "light"
          }
        }
      ]
    },
    {
      "cell_type": "markdown",
      "metadata": {
        "id": "uODfhZeWheAd"
      },
      "source": [
        "Сформулируем выводы:\n",
        "Во всех платформах в той или иной степени наблюдается корреляция между оценкой критиков и суммой от продаж игр.    \n",
        "Самая сильная зависимость от критиков наблюдается на платформах XOne (0.41) и PS4 (0.40), слабее всех эта зависимость у PC (0.27).\n",
        "Пользователи WiiU больше доверяют оценке игроков, кореляция составляет 0.40 против 0.34 с оценкой критиков.\n",
        "Продажи на платформах PS4, XOne и PC совсем не зависят от оценок пользователей (корреляция соотв. 0.03, 0.06 и 0.02), покупатели в этих платформах опираються на оценку критиков (соотв. значения 0.40, 0.41 и 0.27).\n",
        "Интересный факт: корреляция рейтинга пользователей с продажами на латформах PS4, XOne и PC отрацетельная и незначительная. Вероятно негативные отзывы только подогревают интерес и другие покупатели действуют наоборот, т.е. покупают.\n",
        "На платформе 3DS корреляция с польователями и критиками незначительная 0.22 и 0.34 и на диаграмме рассеивания выражена равномерно, что возможно, обусловлено самой платформой(мобильная и более упрощенная графика игр) и страновым фактором рынка Японии, на котором она занимает 46% рынка. Хотя на 3DS есть и бесцелеры, которые имеют высокие рейтинги и высокие продажи.\n"
      ]
    },
    {
      "cell_type": "markdown",
      "metadata": {
        "id": "kUH__P1NheAe"
      },
      "source": [
        "### Рассмотрим жанры. Выделим самые прибыльные."
      ]
    },
    {
      "cell_type": "markdown",
      "metadata": {
        "id": "sF-E6uaIheAe"
      },
      "source": [
        "Посмотрим на общее распределение игр по жанрам. Что можно сказать о самых прибыльных жанрах? Выделяются ли жанры с высокими и низкими продажами?"
      ]
    },
    {
      "cell_type": "code",
      "metadata": {
        "id": "XXIkH53BheAf",
        "colab": {
          "base_uri": "https://localhost:8080/",
          "height": 426
        },
        "outputId": "7a8ff172-cfaa-4aa0-efa5-22352b231a32"
      },
      "source": [
        "# создадим сводную таблицу по жанрам, посчитаем количество игр в каждом жанре, общие сборы\n",
        "\n",
        "genre_pivot = df.pivot_table(index ='genre', values = 'total_sales' , aggfunc = ['count', 'sum']).reset_index()\n",
        "genre_pivot.columns = ['genre', 'count', 'total_sales']\n",
        "genre_pivot.sort_values(by = 'total_sales', ascending = False)\n"
      ],
      "execution_count": null,
      "outputs": [
        {
          "output_type": "execute_result",
          "data": {
            "text/html": [
              "<div>\n",
              "<style scoped>\n",
              "    .dataframe tbody tr th:only-of-type {\n",
              "        vertical-align: middle;\n",
              "    }\n",
              "\n",
              "    .dataframe tbody tr th {\n",
              "        vertical-align: top;\n",
              "    }\n",
              "\n",
              "    .dataframe thead th {\n",
              "        text-align: right;\n",
              "    }\n",
              "</style>\n",
              "<table border=\"1\" class=\"dataframe\">\n",
              "  <thead>\n",
              "    <tr style=\"text-align: right;\">\n",
              "      <th></th>\n",
              "      <th>genre</th>\n",
              "      <th>count</th>\n",
              "      <th>total_sales</th>\n",
              "    </tr>\n",
              "  </thead>\n",
              "  <tbody>\n",
              "    <tr>\n",
              "      <th>0</th>\n",
              "      <td>Action</td>\n",
              "      <td>2574</td>\n",
              "      <td>1202.04</td>\n",
              "    </tr>\n",
              "    <tr>\n",
              "      <th>10</th>\n",
              "      <td>Sports</td>\n",
              "      <td>1383</td>\n",
              "      <td>853.34</td>\n",
              "    </tr>\n",
              "    <tr>\n",
              "      <th>8</th>\n",
              "      <td>Shooter</td>\n",
              "      <td>833</td>\n",
              "      <td>758.56</td>\n",
              "    </tr>\n",
              "    <tr>\n",
              "      <th>3</th>\n",
              "      <td>Misc</td>\n",
              "      <td>1368</td>\n",
              "      <td>615.83</td>\n",
              "    </tr>\n",
              "    <tr>\n",
              "      <th>7</th>\n",
              "      <td>Role-Playing</td>\n",
              "      <td>1067</td>\n",
              "      <td>550.78</td>\n",
              "    </tr>\n",
              "    <tr>\n",
              "      <th>6</th>\n",
              "      <td>Racing</td>\n",
              "      <td>638</td>\n",
              "      <td>355.03</td>\n",
              "    </tr>\n",
              "    <tr>\n",
              "      <th>4</th>\n",
              "      <td>Platform</td>\n",
              "      <td>423</td>\n",
              "      <td>303.06</td>\n",
              "    </tr>\n",
              "    <tr>\n",
              "      <th>9</th>\n",
              "      <td>Simulation</td>\n",
              "      <td>644</td>\n",
              "      <td>269.62</td>\n",
              "    </tr>\n",
              "    <tr>\n",
              "      <th>2</th>\n",
              "      <td>Fighting</td>\n",
              "      <td>456</td>\n",
              "      <td>208.07</td>\n",
              "    </tr>\n",
              "    <tr>\n",
              "      <th>1</th>\n",
              "      <td>Adventure</td>\n",
              "      <td>1065</td>\n",
              "      <td>149.81</td>\n",
              "    </tr>\n",
              "    <tr>\n",
              "      <th>5</th>\n",
              "      <td>Puzzle</td>\n",
              "      <td>399</td>\n",
              "      <td>110.28</td>\n",
              "    </tr>\n",
              "    <tr>\n",
              "      <th>11</th>\n",
              "      <td>Strategy</td>\n",
              "      <td>422</td>\n",
              "      <td>78.42</td>\n",
              "    </tr>\n",
              "  </tbody>\n",
              "</table>\n",
              "</div>"
            ],
            "text/plain": [
              "           genre  count  total_sales\n",
              "0         Action   2574      1202.04\n",
              "10        Sports   1383       853.34\n",
              "8        Shooter    833       758.56\n",
              "3           Misc   1368       615.83\n",
              "7   Role-Playing   1067       550.78\n",
              "6         Racing    638       355.03\n",
              "4       Platform    423       303.06\n",
              "9     Simulation    644       269.62\n",
              "2       Fighting    456       208.07\n",
              "1      Adventure   1065       149.81\n",
              "5         Puzzle    399       110.28\n",
              "11      Strategy    422        78.42"
            ]
          },
          "metadata": {},
          "execution_count": 74
        }
      ]
    },
    {
      "cell_type": "markdown",
      "metadata": {
        "id": "uHijzPasheAf"
      },
      "source": [
        "Тройка лидеров продаж (по убыванию): Action, Sports, Shooter\n",
        "\n",
        "Посмотрим на средние сборы по играм и математическое ожидание по каждому жанру.\n"
      ]
    },
    {
      "cell_type": "code",
      "metadata": {
        "id": "yTN8aTinheAg",
        "colab": {
          "base_uri": "https://localhost:8080/",
          "height": 426
        },
        "outputId": "f9a0cd44-3a29-40ed-f8b0-5570d0ac7431"
      },
      "source": [
        "# создадим сводную таблицу по жанрам, посчитаем средние сборы и медиану\n",
        "\n",
        "genre_pivot = df.pivot_table(index ='genre', values = 'total_sales' , aggfunc = ['mean', 'median']).reset_index()\n",
        "genre_pivot.columns = ['genre', 'mean', 'median']\n",
        "genre_pivot.sort_values(by = 'mean', ascending = False)\n"
      ],
      "execution_count": null,
      "outputs": [
        {
          "output_type": "execute_result",
          "data": {
            "text/html": [
              "<div>\n",
              "<style scoped>\n",
              "    .dataframe tbody tr th:only-of-type {\n",
              "        vertical-align: middle;\n",
              "    }\n",
              "\n",
              "    .dataframe tbody tr th {\n",
              "        vertical-align: top;\n",
              "    }\n",
              "\n",
              "    .dataframe thead th {\n",
              "        text-align: right;\n",
              "    }\n",
              "</style>\n",
              "<table border=\"1\" class=\"dataframe\">\n",
              "  <thead>\n",
              "    <tr style=\"text-align: right;\">\n",
              "      <th></th>\n",
              "      <th>genre</th>\n",
              "      <th>mean</th>\n",
              "      <th>median</th>\n",
              "    </tr>\n",
              "  </thead>\n",
              "  <tbody>\n",
              "    <tr>\n",
              "      <th>8</th>\n",
              "      <td>Shooter</td>\n",
              "      <td>0.910636</td>\n",
              "      <td>0.290</td>\n",
              "    </tr>\n",
              "    <tr>\n",
              "      <th>4</th>\n",
              "      <td>Platform</td>\n",
              "      <td>0.716454</td>\n",
              "      <td>0.180</td>\n",
              "    </tr>\n",
              "    <tr>\n",
              "      <th>10</th>\n",
              "      <td>Sports</td>\n",
              "      <td>0.617021</td>\n",
              "      <td>0.200</td>\n",
              "    </tr>\n",
              "    <tr>\n",
              "      <th>6</th>\n",
              "      <td>Racing</td>\n",
              "      <td>0.556473</td>\n",
              "      <td>0.170</td>\n",
              "    </tr>\n",
              "    <tr>\n",
              "      <th>7</th>\n",
              "      <td>Role-Playing</td>\n",
              "      <td>0.516195</td>\n",
              "      <td>0.150</td>\n",
              "    </tr>\n",
              "    <tr>\n",
              "      <th>0</th>\n",
              "      <td>Action</td>\n",
              "      <td>0.466993</td>\n",
              "      <td>0.170</td>\n",
              "    </tr>\n",
              "    <tr>\n",
              "      <th>2</th>\n",
              "      <td>Fighting</td>\n",
              "      <td>0.456294</td>\n",
              "      <td>0.160</td>\n",
              "    </tr>\n",
              "    <tr>\n",
              "      <th>3</th>\n",
              "      <td>Misc</td>\n",
              "      <td>0.450168</td>\n",
              "      <td>0.130</td>\n",
              "    </tr>\n",
              "    <tr>\n",
              "      <th>9</th>\n",
              "      <td>Simulation</td>\n",
              "      <td>0.418665</td>\n",
              "      <td>0.130</td>\n",
              "    </tr>\n",
              "    <tr>\n",
              "      <th>5</th>\n",
              "      <td>Puzzle</td>\n",
              "      <td>0.276391</td>\n",
              "      <td>0.090</td>\n",
              "    </tr>\n",
              "    <tr>\n",
              "      <th>11</th>\n",
              "      <td>Strategy</td>\n",
              "      <td>0.185829</td>\n",
              "      <td>0.075</td>\n",
              "    </tr>\n",
              "    <tr>\n",
              "      <th>1</th>\n",
              "      <td>Adventure</td>\n",
              "      <td>0.140667</td>\n",
              "      <td>0.040</td>\n",
              "    </tr>\n",
              "  </tbody>\n",
              "</table>\n",
              "</div>"
            ],
            "text/plain": [
              "           genre      mean  median\n",
              "8        Shooter  0.910636   0.290\n",
              "4       Platform  0.716454   0.180\n",
              "10        Sports  0.617021   0.200\n",
              "6         Racing  0.556473   0.170\n",
              "7   Role-Playing  0.516195   0.150\n",
              "0         Action  0.466993   0.170\n",
              "2       Fighting  0.456294   0.160\n",
              "3           Misc  0.450168   0.130\n",
              "9     Simulation  0.418665   0.130\n",
              "5         Puzzle  0.276391   0.090\n",
              "11      Strategy  0.185829   0.075\n",
              "1      Adventure  0.140667   0.040"
            ]
          },
          "metadata": {},
          "execution_count": 75
        }
      ]
    },
    {
      "cell_type": "markdown",
      "metadata": {
        "id": "0V7z24f9heAg"
      },
      "source": [
        "Тройка лидеров c учетом мат ожидания, (т.е. по средним значениям) по играм (по убыванию): Shooter, Platform, Sports.\n",
        "По средним сборам лидируют Shooter, однако по сумарным сборам лидирует жанр Action.\n",
        "Жанры Sports и Shooter - входят в топ тройки обоих рейтингов. "
      ]
    },
    {
      "cell_type": "markdown",
      "metadata": {
        "id": "xe3OgMldheAg"
      },
      "source": [
        "ВЫВОДЫ ПО ЖАНРАМ.\n",
        "\n",
        "    Жанр Action - лидер по количеству выпущенных игр (2574) и по совокупным продажам, средний сбор за игру тоже хороший - 0.46 млн дол. \n",
        "    \n",
        "    Тройка лидеров по средним сборам за игру и включает Shooter, Platform, Sports. На первом месте Shooter. В среднем одна игра приносит платформе 0.91 млн дол, медиана в этом жанре тоже самая высокая - 0.29 млн дол.   \n",
        "    \n",
        "    Явный аутсайдер срежи жанров - Adventure. При достаточно большом количестве выпущенных игр - 1065, жанр показывает одни из самых низких показателей по совокупным продажам, и средним сборам за игру и замыкает списки рейтингов.\n"
      ]
    },
    {
      "cell_type": "markdown",
      "metadata": {
        "id": "3-klMvqsheAh"
      },
      "source": [
        "## Составим портрет пользователя каждого региона"
      ]
    },
    {
      "cell_type": "markdown",
      "metadata": {
        "id": "5Nr6kK3_heAi"
      },
      "source": [
        "Определим для пользователя каждого региона (NA, EU, JP):\n",
        "\n",
        "     Самые популярные платформы (топ-5). Опишите различия в долях продаж.\n",
        "     Самые популярные жанры (топ-5). Поясните разницу.\n",
        "     Влияет ли рейтинг ESRB на продажи в отдельном регионе?"
      ]
    },
    {
      "cell_type": "code",
      "metadata": {
        "id": "KEBeghNaheAi",
        "colab": {
          "base_uri": "https://localhost:8080/",
          "height": 206
        },
        "outputId": "6b986042-96e6-4cb7-9fc8-64ac0610c832"
      },
      "source": [
        "# выведем таблицу\n",
        "\n",
        "df.head()"
      ],
      "execution_count": null,
      "outputs": [
        {
          "output_type": "execute_result",
          "data": {
            "text/html": [
              "<div>\n",
              "<style scoped>\n",
              "    .dataframe tbody tr th:only-of-type {\n",
              "        vertical-align: middle;\n",
              "    }\n",
              "\n",
              "    .dataframe tbody tr th {\n",
              "        vertical-align: top;\n",
              "    }\n",
              "\n",
              "    .dataframe thead th {\n",
              "        text-align: right;\n",
              "    }\n",
              "</style>\n",
              "<table border=\"1\" class=\"dataframe\">\n",
              "  <thead>\n",
              "    <tr style=\"text-align: right;\">\n",
              "      <th></th>\n",
              "      <th>name</th>\n",
              "      <th>platform</th>\n",
              "      <th>year_of_release</th>\n",
              "      <th>genre</th>\n",
              "      <th>na_sales</th>\n",
              "      <th>eu_sales</th>\n",
              "      <th>jp_sales</th>\n",
              "      <th>other_sales</th>\n",
              "      <th>critic_score</th>\n",
              "      <th>user_score</th>\n",
              "      <th>rating</th>\n",
              "      <th>total_sales</th>\n",
              "    </tr>\n",
              "  </thead>\n",
              "  <tbody>\n",
              "    <tr>\n",
              "      <th>0</th>\n",
              "      <td>Wii Sports</td>\n",
              "      <td>Wii</td>\n",
              "      <td>2006</td>\n",
              "      <td>Sports</td>\n",
              "      <td>41.36</td>\n",
              "      <td>28.96</td>\n",
              "      <td>3.77</td>\n",
              "      <td>8.45</td>\n",
              "      <td>76.0</td>\n",
              "      <td>8.0</td>\n",
              "      <td>E</td>\n",
              "      <td>82.54</td>\n",
              "    </tr>\n",
              "    <tr>\n",
              "      <th>2</th>\n",
              "      <td>Mario Kart Wii</td>\n",
              "      <td>Wii</td>\n",
              "      <td>2008</td>\n",
              "      <td>Racing</td>\n",
              "      <td>15.68</td>\n",
              "      <td>12.76</td>\n",
              "      <td>3.79</td>\n",
              "      <td>3.29</td>\n",
              "      <td>82.0</td>\n",
              "      <td>8.3</td>\n",
              "      <td>E</td>\n",
              "      <td>35.52</td>\n",
              "    </tr>\n",
              "    <tr>\n",
              "      <th>3</th>\n",
              "      <td>Wii Sports Resort</td>\n",
              "      <td>Wii</td>\n",
              "      <td>2009</td>\n",
              "      <td>Sports</td>\n",
              "      <td>15.61</td>\n",
              "      <td>10.93</td>\n",
              "      <td>3.28</td>\n",
              "      <td>2.95</td>\n",
              "      <td>80.0</td>\n",
              "      <td>8.0</td>\n",
              "      <td>E</td>\n",
              "      <td>32.77</td>\n",
              "    </tr>\n",
              "    <tr>\n",
              "      <th>6</th>\n",
              "      <td>New Super Mario Bros.</td>\n",
              "      <td>DS</td>\n",
              "      <td>2006</td>\n",
              "      <td>Platform</td>\n",
              "      <td>11.28</td>\n",
              "      <td>9.14</td>\n",
              "      <td>6.50</td>\n",
              "      <td>2.88</td>\n",
              "      <td>89.0</td>\n",
              "      <td>8.5</td>\n",
              "      <td>E</td>\n",
              "      <td>29.80</td>\n",
              "    </tr>\n",
              "    <tr>\n",
              "      <th>7</th>\n",
              "      <td>Wii Play</td>\n",
              "      <td>Wii</td>\n",
              "      <td>2006</td>\n",
              "      <td>Misc</td>\n",
              "      <td>13.96</td>\n",
              "      <td>9.18</td>\n",
              "      <td>2.93</td>\n",
              "      <td>2.84</td>\n",
              "      <td>58.0</td>\n",
              "      <td>6.6</td>\n",
              "      <td>E</td>\n",
              "      <td>28.91</td>\n",
              "    </tr>\n",
              "  </tbody>\n",
              "</table>\n",
              "</div>"
            ],
            "text/plain": [
              "                    name platform  ...  rating total_sales\n",
              "0             Wii Sports      Wii  ...       E       82.54\n",
              "2         Mario Kart Wii      Wii  ...       E       35.52\n",
              "3      Wii Sports Resort      Wii  ...       E       32.77\n",
              "6  New Super Mario Bros.       DS  ...       E       29.80\n",
              "7               Wii Play      Wii  ...       E       28.91\n",
              "\n",
              "[5 rows x 12 columns]"
            ]
          },
          "metadata": {},
          "execution_count": 76
        }
      ]
    },
    {
      "cell_type": "markdown",
      "metadata": {
        "id": "l8C9N5taheAi"
      },
      "source": [
        "### Проанализируем рынок в Северной Америке"
      ]
    },
    {
      "cell_type": "markdown",
      "metadata": {
        "id": "2-mEgI4theAj"
      },
      "source": [
        "Для актуальности исследований возьмем срез данных за последние 5 лет, который мы определили на шаге 3.5"
      ]
    },
    {
      "cell_type": "code",
      "metadata": {
        "id": "zxKTwA-cheAj",
        "colab": {
          "base_uri": "https://localhost:8080/",
          "height": 363
        },
        "outputId": "6b8e275a-1351-44fe-c493-b0276e8fecce"
      },
      "source": [
        "# сформируем таблицу продаж по платформам в Северной Америке\n",
        "\n",
        "sales_na = df.query('year_of_release>=2012').pivot_table(index='platform', values='na_sales', aggfunc='sum').reset_index()\n",
        "sales_na.columns = ['platform','sales']\n",
        "sales_na = sales_na.sort_values(by='sales', ascending = False)\n",
        "sales_na.head(10)"
      ],
      "execution_count": null,
      "outputs": [
        {
          "output_type": "execute_result",
          "data": {
            "text/html": [
              "<div>\n",
              "<style scoped>\n",
              "    .dataframe tbody tr th:only-of-type {\n",
              "        vertical-align: middle;\n",
              "    }\n",
              "\n",
              "    .dataframe tbody tr th {\n",
              "        vertical-align: top;\n",
              "    }\n",
              "\n",
              "    .dataframe thead th {\n",
              "        text-align: right;\n",
              "    }\n",
              "</style>\n",
              "<table border=\"1\" class=\"dataframe\">\n",
              "  <thead>\n",
              "    <tr style=\"text-align: right;\">\n",
              "      <th></th>\n",
              "      <th>platform</th>\n",
              "      <th>sales</th>\n",
              "    </tr>\n",
              "  </thead>\n",
              "  <tbody>\n",
              "    <tr>\n",
              "      <th>9</th>\n",
              "      <td>X360</td>\n",
              "      <td>140.05</td>\n",
              "    </tr>\n",
              "    <tr>\n",
              "      <th>4</th>\n",
              "      <td>PS4</td>\n",
              "      <td>108.74</td>\n",
              "    </tr>\n",
              "    <tr>\n",
              "      <th>3</th>\n",
              "      <td>PS3</td>\n",
              "      <td>103.38</td>\n",
              "    </tr>\n",
              "    <tr>\n",
              "      <th>10</th>\n",
              "      <td>XOne</td>\n",
              "      <td>93.12</td>\n",
              "    </tr>\n",
              "    <tr>\n",
              "      <th>0</th>\n",
              "      <td>3DS</td>\n",
              "      <td>55.31</td>\n",
              "    </tr>\n",
              "    <tr>\n",
              "      <th>8</th>\n",
              "      <td>WiiU</td>\n",
              "      <td>38.10</td>\n",
              "    </tr>\n",
              "    <tr>\n",
              "      <th>2</th>\n",
              "      <td>PC</td>\n",
              "      <td>19.12</td>\n",
              "    </tr>\n",
              "    <tr>\n",
              "      <th>7</th>\n",
              "      <td>Wii</td>\n",
              "      <td>17.45</td>\n",
              "    </tr>\n",
              "    <tr>\n",
              "      <th>6</th>\n",
              "      <td>PSV</td>\n",
              "      <td>10.98</td>\n",
              "    </tr>\n",
              "    <tr>\n",
              "      <th>1</th>\n",
              "      <td>DS</td>\n",
              "      <td>4.59</td>\n",
              "    </tr>\n",
              "  </tbody>\n",
              "</table>\n",
              "</div>"
            ],
            "text/plain": [
              "   platform   sales\n",
              "9      X360  140.05\n",
              "4       PS4  108.74\n",
              "3       PS3  103.38\n",
              "10     XOne   93.12\n",
              "0       3DS   55.31\n",
              "8      WiiU   38.10\n",
              "2        PC   19.12\n",
              "7       Wii   17.45\n",
              "6       PSV   10.98\n",
              "1        DS    4.59"
            ]
          },
          "metadata": {},
          "execution_count": 77
        }
      ]
    },
    {
      "cell_type": "code",
      "metadata": {
        "id": "FNa6_jpuheAj",
        "colab": {
          "base_uri": "https://localhost:8080/",
          "height": 269
        },
        "outputId": "7345c453-dcb1-4ca3-edc9-bc79ee179b25"
      },
      "source": [
        "# найдем ТОП 5 по продажам\n",
        "\n",
        "sales_na_top = sales_na.query('sales > 50')\n",
        "\n",
        "# выделим платформы с продажами менее 50 в группу Другие\n",
        "\n",
        "sales_na_grouped = sales_na\n",
        "sales_na_grouped['group_name'] = sales_na['platform'].where(\n",
        "    sales_na['platform'].isin(sales_na_top.platform), 'Другие')\n",
        "\n",
        "sales_na_grouped = sales_na_grouped.pivot_table(index='group_name', values= 'sales', aggfunc='sum')\n",
        "sales_na_grouped = sales_na_grouped.sort_values(by='sales', ascending=False)\n",
        "sales_na_grouped\n"
      ],
      "execution_count": null,
      "outputs": [
        {
          "output_type": "execute_result",
          "data": {
            "text/html": [
              "<div>\n",
              "<style scoped>\n",
              "    .dataframe tbody tr th:only-of-type {\n",
              "        vertical-align: middle;\n",
              "    }\n",
              "\n",
              "    .dataframe tbody tr th {\n",
              "        vertical-align: top;\n",
              "    }\n",
              "\n",
              "    .dataframe thead th {\n",
              "        text-align: right;\n",
              "    }\n",
              "</style>\n",
              "<table border=\"1\" class=\"dataframe\">\n",
              "  <thead>\n",
              "    <tr style=\"text-align: right;\">\n",
              "      <th></th>\n",
              "      <th>sales</th>\n",
              "    </tr>\n",
              "    <tr>\n",
              "      <th>group_name</th>\n",
              "      <th></th>\n",
              "    </tr>\n",
              "  </thead>\n",
              "  <tbody>\n",
              "    <tr>\n",
              "      <th>X360</th>\n",
              "      <td>140.05</td>\n",
              "    </tr>\n",
              "    <tr>\n",
              "      <th>PS4</th>\n",
              "      <td>108.74</td>\n",
              "    </tr>\n",
              "    <tr>\n",
              "      <th>PS3</th>\n",
              "      <td>103.38</td>\n",
              "    </tr>\n",
              "    <tr>\n",
              "      <th>XOne</th>\n",
              "      <td>93.12</td>\n",
              "    </tr>\n",
              "    <tr>\n",
              "      <th>Другие</th>\n",
              "      <td>90.37</td>\n",
              "    </tr>\n",
              "    <tr>\n",
              "      <th>3DS</th>\n",
              "      <td>55.31</td>\n",
              "    </tr>\n",
              "  </tbody>\n",
              "</table>\n",
              "</div>"
            ],
            "text/plain": [
              "             sales\n",
              "group_name        \n",
              "X360        140.05\n",
              "PS4         108.74\n",
              "PS3         103.38\n",
              "XOne         93.12\n",
              "Другие       90.37\n",
              "3DS          55.31"
            ]
          },
          "metadata": {},
          "execution_count": 78
        }
      ]
    },
    {
      "cell_type": "code",
      "metadata": {
        "id": "EiJz81QPheAk",
        "colab": {
          "base_uri": "https://localhost:8080/",
          "height": 559
        },
        "outputId": "f77b4013-9121-43e9-d2fd-1c856c4cd843"
      },
      "source": [
        "# построим chart\n",
        "\n",
        "sales_na_grouped.plot(y='sales', kind='bar', figsize=(8, 8))\n",
        "plt.title('Распределение продаж по платформам в Северной Америке')"
      ],
      "execution_count": null,
      "outputs": [
        {
          "output_type": "execute_result",
          "data": {
            "text/plain": [
              "Text(0.5, 1.0, 'Распределение продаж по платформам в Северной Америке')"
            ]
          },
          "metadata": {},
          "execution_count": 79
        },
        {
          "output_type": "display_data",
          "data": {
            "image/png": "[encoded data removed]",
            "text/plain": [
              "<Figure size 576x576 with 1 Axes>"
            ]
          },
          "metadata": {
            "needs_background": "light"
          }
        }
      ]
    },
    {
      "cell_type": "markdown",
      "metadata": {
        "id": "uavvWx43heAk"
      },
      "source": [
        "В лидерах по объему продаж в Северной Америке следующие игровые платформы с соответствующим распределением доли рынка:\n",
        "    \n",
        "    X360 - 24%, PS4 - 18%, PS3 - 17%, XOne - 16%, 3DS - 9%\n"
      ]
    },
    {
      "cell_type": "markdown",
      "metadata": {
        "id": "pMO7vahaheAm"
      },
      "source": [
        "Посмотрим на самые популярные жанры в Северной Америке"
      ]
    },
    {
      "cell_type": "code",
      "metadata": {
        "id": "XpyCxwXiheAn",
        "colab": {
          "base_uri": "https://localhost:8080/",
          "height": 206
        },
        "outputId": "de3db3f0-46ce-4920-b0a9-b4db2f40bfc1"
      },
      "source": [
        "# популярные жанры\n",
        "\n",
        "sales_na_genre = df.query('year_of_release>=2012').pivot_table(index ='genre', values = 'na_sales', aggfunc = ['sum', 'count']).reset_index()\n",
        "#sales_na_genre\n",
        "sales_na_genre.columns = ['genre', 'sales', 'count']\n",
        "sales_na_genre = sales_na_genre.sort_values(by='sales', ascending = False)\n",
        "sales_na_genre.head()"
      ],
      "execution_count": null,
      "outputs": [
        {
          "output_type": "execute_result",
          "data": {
            "text/html": [
              "<div>\n",
              "<style scoped>\n",
              "    .dataframe tbody tr th:only-of-type {\n",
              "        vertical-align: middle;\n",
              "    }\n",
              "\n",
              "    .dataframe tbody tr th {\n",
              "        vertical-align: top;\n",
              "    }\n",
              "\n",
              "    .dataframe thead th {\n",
              "        text-align: right;\n",
              "    }\n",
              "</style>\n",
              "<table border=\"1\" class=\"dataframe\">\n",
              "  <thead>\n",
              "    <tr style=\"text-align: right;\">\n",
              "      <th></th>\n",
              "      <th>genre</th>\n",
              "      <th>sales</th>\n",
              "      <th>count</th>\n",
              "    </tr>\n",
              "  </thead>\n",
              "  <tbody>\n",
              "    <tr>\n",
              "      <th>0</th>\n",
              "      <td>Action</td>\n",
              "      <td>177.84</td>\n",
              "      <td>1031</td>\n",
              "    </tr>\n",
              "    <tr>\n",
              "      <th>8</th>\n",
              "      <td>Shooter</td>\n",
              "      <td>144.77</td>\n",
              "      <td>235</td>\n",
              "    </tr>\n",
              "    <tr>\n",
              "      <th>10</th>\n",
              "      <td>Sports</td>\n",
              "      <td>81.53</td>\n",
              "      <td>268</td>\n",
              "    </tr>\n",
              "    <tr>\n",
              "      <th>7</th>\n",
              "      <td>Role-Playing</td>\n",
              "      <td>64.00</td>\n",
              "      <td>370</td>\n",
              "    </tr>\n",
              "    <tr>\n",
              "      <th>3</th>\n",
              "      <td>Misc</td>\n",
              "      <td>38.19</td>\n",
              "      <td>192</td>\n",
              "    </tr>\n",
              "  </tbody>\n",
              "</table>\n",
              "</div>"
            ],
            "text/plain": [
              "           genre   sales  count\n",
              "0         Action  177.84   1031\n",
              "8        Shooter  144.77    235\n",
              "10        Sports   81.53    268\n",
              "7   Role-Playing   64.00    370\n",
              "3           Misc   38.19    192"
            ]
          },
          "metadata": {},
          "execution_count": 80
        }
      ]
    },
    {
      "cell_type": "markdown",
      "metadata": {
        "id": "udEvU5oTheAn"
      },
      "source": [
        "По жанрам в Северной Америке лидируют Action, Shooter, Sports, Role-Playing, Misc\n",
        "\n",
        "Посмотрим влияет ли на продажи рейтинг ESRB.\n",
        "\n",
        "    «E» («Everyone») — «Для всех»: Содержание вполне подходит для возрастной категории от 6 лет и старше.\n",
        "    «E10+» («Everyone 10 and older») — «Для всех от 10 лет и старше».\n",
        "    «T» («Teen») — «Подросткам»: Игра подходит для лиц от 13 лет и старше. \n",
        "    «M» («Mature») — «Для взрослых»: Материалы игры не подходят для подростков младше 17 лет. "
      ]
    },
    {
      "cell_type": "code",
      "metadata": {
        "id": "w7rEPmfJheAn",
        "colab": {
          "base_uri": "https://localhost:8080/",
          "height": 206
        },
        "outputId": "1264c705-fb7c-4a74-e79c-6bcef3fbc37f"
      },
      "source": [
        "sales_na_ESRB_dep = df.query('year_of_release>=2012').pivot_table(index='rating', values = 'na_sales', aggfunc = 'sum').reset_index()\n",
        "sales_na_ESRB_dep.columns = ['rating', 'sales']\n",
        "sales_na_ESRB_dep = sales_na_ESRB_dep.sort_values(by='sales', ascending = False )\n",
        "sales_na_ESRB_dep"
      ],
      "execution_count": null,
      "outputs": [
        {
          "output_type": "execute_result",
          "data": {
            "text/html": [
              "<div>\n",
              "<style scoped>\n",
              "    .dataframe tbody tr th:only-of-type {\n",
              "        vertical-align: middle;\n",
              "    }\n",
              "\n",
              "    .dataframe tbody tr th {\n",
              "        vertical-align: top;\n",
              "    }\n",
              "\n",
              "    .dataframe thead th {\n",
              "        text-align: right;\n",
              "    }\n",
              "</style>\n",
              "<table border=\"1\" class=\"dataframe\">\n",
              "  <thead>\n",
              "    <tr style=\"text-align: right;\">\n",
              "      <th></th>\n",
              "      <th>rating</th>\n",
              "      <th>sales</th>\n",
              "    </tr>\n",
              "  </thead>\n",
              "  <tbody>\n",
              "    <tr>\n",
              "      <th>2</th>\n",
              "      <td>M</td>\n",
              "      <td>231.57</td>\n",
              "    </tr>\n",
              "    <tr>\n",
              "      <th>0</th>\n",
              "      <td>E</td>\n",
              "      <td>114.37</td>\n",
              "    </tr>\n",
              "    <tr>\n",
              "      <th>4</th>\n",
              "      <td>Unknown</td>\n",
              "      <td>103.31</td>\n",
              "    </tr>\n",
              "    <tr>\n",
              "      <th>1</th>\n",
              "      <td>E10+</td>\n",
              "      <td>75.70</td>\n",
              "    </tr>\n",
              "    <tr>\n",
              "      <th>3</th>\n",
              "      <td>T</td>\n",
              "      <td>66.02</td>\n",
              "    </tr>\n",
              "  </tbody>\n",
              "</table>\n",
              "</div>"
            ],
            "text/plain": [
              "    rating   sales\n",
              "2        M  231.57\n",
              "0        E  114.37\n",
              "4  Unknown  103.31\n",
              "1     E10+   75.70\n",
              "3        T   66.02"
            ]
          },
          "metadata": {},
          "execution_count": 81
        }
      ]
    },
    {
      "cell_type": "markdown",
      "metadata": {
        "id": "9e3uDvOJheAo"
      },
      "source": [
        "В Северной Америке в топе продукция категории \"Для взрослых\", затем \"Для всех\" и следом распологаются остальные категории."
      ]
    },
    {
      "cell_type": "markdown",
      "metadata": {
        "id": "TvCf4TQ7heAo"
      },
      "source": [
        "### Проанализируем рынок в Европе"
      ]
    },
    {
      "cell_type": "code",
      "metadata": {
        "id": "2Y4S6MarheAp",
        "colab": {
          "base_uri": "https://localhost:8080/",
          "height": 363
        },
        "outputId": "77902058-6e3d-4050-d0e1-4d2928467ed3"
      },
      "source": [
        "# сформируем таблицу продаж по платформам в Европе\n",
        "\n",
        "sales_eu = df.query('year_of_release>=2012').pivot_table(index='platform', values='eu_sales', aggfunc='sum').reset_index()\n",
        "sales_eu.columns = ['platform','sales']\n",
        "sales_eu = sales_eu.sort_values(by='sales', ascending = False)\n",
        "sales_eu.head(10)"
      ],
      "execution_count": null,
      "outputs": [
        {
          "output_type": "execute_result",
          "data": {
            "text/html": [
              "<div>\n",
              "<style scoped>\n",
              "    .dataframe tbody tr th:only-of-type {\n",
              "        vertical-align: middle;\n",
              "    }\n",
              "\n",
              "    .dataframe tbody tr th {\n",
              "        vertical-align: top;\n",
              "    }\n",
              "\n",
              "    .dataframe thead th {\n",
              "        text-align: right;\n",
              "    }\n",
              "</style>\n",
              "<table border=\"1\" class=\"dataframe\">\n",
              "  <thead>\n",
              "    <tr style=\"text-align: right;\">\n",
              "      <th></th>\n",
              "      <th>platform</th>\n",
              "      <th>sales</th>\n",
              "    </tr>\n",
              "  </thead>\n",
              "  <tbody>\n",
              "    <tr>\n",
              "      <th>4</th>\n",
              "      <td>PS4</td>\n",
              "      <td>141.09</td>\n",
              "    </tr>\n",
              "    <tr>\n",
              "      <th>3</th>\n",
              "      <td>PS3</td>\n",
              "      <td>106.86</td>\n",
              "    </tr>\n",
              "    <tr>\n",
              "      <th>9</th>\n",
              "      <td>X360</td>\n",
              "      <td>74.52</td>\n",
              "    </tr>\n",
              "    <tr>\n",
              "      <th>10</th>\n",
              "      <td>XOne</td>\n",
              "      <td>51.59</td>\n",
              "    </tr>\n",
              "    <tr>\n",
              "      <th>0</th>\n",
              "      <td>3DS</td>\n",
              "      <td>42.64</td>\n",
              "    </tr>\n",
              "    <tr>\n",
              "      <th>2</th>\n",
              "      <td>PC</td>\n",
              "      <td>37.76</td>\n",
              "    </tr>\n",
              "    <tr>\n",
              "      <th>8</th>\n",
              "      <td>WiiU</td>\n",
              "      <td>25.13</td>\n",
              "    </tr>\n",
              "    <tr>\n",
              "      <th>7</th>\n",
              "      <td>Wii</td>\n",
              "      <td>11.92</td>\n",
              "    </tr>\n",
              "    <tr>\n",
              "      <th>6</th>\n",
              "      <td>PSV</td>\n",
              "      <td>11.36</td>\n",
              "    </tr>\n",
              "    <tr>\n",
              "      <th>1</th>\n",
              "      <td>DS</td>\n",
              "      <td>3.53</td>\n",
              "    </tr>\n",
              "  </tbody>\n",
              "</table>\n",
              "</div>"
            ],
            "text/plain": [
              "   platform   sales\n",
              "4       PS4  141.09\n",
              "3       PS3  106.86\n",
              "9      X360   74.52\n",
              "10     XOne   51.59\n",
              "0       3DS   42.64\n",
              "2        PC   37.76\n",
              "8      WiiU   25.13\n",
              "7       Wii   11.92\n",
              "6       PSV   11.36\n",
              "1        DS    3.53"
            ]
          },
          "metadata": {},
          "execution_count": 82
        }
      ]
    },
    {
      "cell_type": "code",
      "metadata": {
        "id": "Dij2Xrw3heAp",
        "colab": {
          "base_uri": "https://localhost:8080/",
          "height": 269
        },
        "outputId": "b2e8bc3e-5434-45fd-f2e4-7e16d7a6cfda"
      },
      "source": [
        "# найдем ТОП 5 по продажам\n",
        "\n",
        "sales_eu_top = sales_eu.query('sales > 40')\n",
        "\n",
        "# выделим платформы с продажами менее 50 в группу Другие\n",
        "\n",
        "sales_eu_grouped = sales_eu\n",
        "sales_eu_grouped['group_name'] = sales_eu['platform'].where(\n",
        "    sales_eu['platform'].isin(sales_eu_top.platform), 'Другие'  \n",
        ")\n",
        "sales_eu_grouped = sales_eu_grouped.pivot_table(index='group_name', values= 'sales', aggfunc='sum')\n",
        "sales_eu_grouped = sales_eu_grouped.sort_values(by='sales', ascending=False)\n",
        "sales_eu_grouped"
      ],
      "execution_count": null,
      "outputs": [
        {
          "output_type": "execute_result",
          "data": {
            "text/html": [
              "<div>\n",
              "<style scoped>\n",
              "    .dataframe tbody tr th:only-of-type {\n",
              "        vertical-align: middle;\n",
              "    }\n",
              "\n",
              "    .dataframe tbody tr th {\n",
              "        vertical-align: top;\n",
              "    }\n",
              "\n",
              "    .dataframe thead th {\n",
              "        text-align: right;\n",
              "    }\n",
              "</style>\n",
              "<table border=\"1\" class=\"dataframe\">\n",
              "  <thead>\n",
              "    <tr style=\"text-align: right;\">\n",
              "      <th></th>\n",
              "      <th>sales</th>\n",
              "    </tr>\n",
              "    <tr>\n",
              "      <th>group_name</th>\n",
              "      <th></th>\n",
              "    </tr>\n",
              "  </thead>\n",
              "  <tbody>\n",
              "    <tr>\n",
              "      <th>PS4</th>\n",
              "      <td>141.09</td>\n",
              "    </tr>\n",
              "    <tr>\n",
              "      <th>PS3</th>\n",
              "      <td>106.86</td>\n",
              "    </tr>\n",
              "    <tr>\n",
              "      <th>Другие</th>\n",
              "      <td>90.12</td>\n",
              "    </tr>\n",
              "    <tr>\n",
              "      <th>X360</th>\n",
              "      <td>74.52</td>\n",
              "    </tr>\n",
              "    <tr>\n",
              "      <th>XOne</th>\n",
              "      <td>51.59</td>\n",
              "    </tr>\n",
              "    <tr>\n",
              "      <th>3DS</th>\n",
              "      <td>42.64</td>\n",
              "    </tr>\n",
              "  </tbody>\n",
              "</table>\n",
              "</div>"
            ],
            "text/plain": [
              "             sales\n",
              "group_name        \n",
              "PS4         141.09\n",
              "PS3         106.86\n",
              "Другие       90.12\n",
              "X360         74.52\n",
              "XOne         51.59\n",
              "3DS          42.64"
            ]
          },
          "metadata": {},
          "execution_count": 83
        }
      ]
    },
    {
      "cell_type": "code",
      "metadata": {
        "id": "kl92eA35heAp",
        "colab": {
          "base_uri": "https://localhost:8080/",
          "height": 559
        },
        "outputId": "21937e62-9016-430c-cfcd-83f96ba02cf0"
      },
      "source": [
        "# построим chart\n",
        "\n",
        "sales_eu_grouped.plot(y='sales', kind='bar', figsize=(8, 8))\n",
        "plt.title('Распределение продаж по платформам в Европе')"
      ],
      "execution_count": null,
      "outputs": [
        {
          "output_type": "execute_result",
          "data": {
            "text/plain": [
              "Text(0.5, 1.0, 'Распределение продаж по платформам в Европе')"
            ]
          },
          "metadata": {},
          "execution_count": 84
        },
        {
          "output_type": "display_data",
          "data": {
            "image/png": "[encoded data removed]",
            "text/plain": [
              "<Figure size 576x576 with 1 Axes>"
            ]
          },
          "metadata": {
            "needs_background": "light"
          }
        }
      ]
    },
    {
      "cell_type": "markdown",
      "metadata": {
        "id": "R_wLq2gBheAp"
      },
      "source": [
        "По объему продаж в Европе лидируют следующие платформы:\n",
        "\n",
        "PS4 - 28%, PS3 - 21%, X360 - 15%, XOne - 10%, 3DC - 8%.\n"
      ]
    },
    {
      "cell_type": "markdown",
      "metadata": {
        "id": "5Y2U8LmMheAq"
      },
      "source": [
        "Посмотрим на самые популярные жанры в Европе\n"
      ]
    },
    {
      "cell_type": "code",
      "metadata": {
        "id": "T-cW1jA6heAq",
        "colab": {
          "base_uri": "https://localhost:8080/",
          "height": 206
        },
        "outputId": "6362e22e-b4cd-4519-8c4f-571c51f1c26c"
      },
      "source": [
        "# популярные жанры\n",
        "\n",
        "sales_eu_genre = df.query('year_of_release>=2012').pivot_table(index ='genre', values = 'eu_sales', aggfunc = ['sum', 'count']).reset_index()\n",
        "#sales_eu_genre\n",
        "sales_eu_genre.columns = ['genre', 'sales', 'count']\n",
        "sales_eu_genre = sales_eu_genre.sort_values(by='sales', ascending = False)\n",
        "sales_eu_genre.head()"
      ],
      "execution_count": null,
      "outputs": [
        {
          "output_type": "execute_result",
          "data": {
            "text/html": [
              "<div>\n",
              "<style scoped>\n",
              "    .dataframe tbody tr th:only-of-type {\n",
              "        vertical-align: middle;\n",
              "    }\n",
              "\n",
              "    .dataframe tbody tr th {\n",
              "        vertical-align: top;\n",
              "    }\n",
              "\n",
              "    .dataframe thead th {\n",
              "        text-align: right;\n",
              "    }\n",
              "</style>\n",
              "<table border=\"1\" class=\"dataframe\">\n",
              "  <thead>\n",
              "    <tr style=\"text-align: right;\">\n",
              "      <th></th>\n",
              "      <th>genre</th>\n",
              "      <th>sales</th>\n",
              "      <th>count</th>\n",
              "    </tr>\n",
              "  </thead>\n",
              "  <tbody>\n",
              "    <tr>\n",
              "      <th>0</th>\n",
              "      <td>Action</td>\n",
              "      <td>159.34</td>\n",
              "      <td>1031</td>\n",
              "    </tr>\n",
              "    <tr>\n",
              "      <th>8</th>\n",
              "      <td>Shooter</td>\n",
              "      <td>113.47</td>\n",
              "      <td>235</td>\n",
              "    </tr>\n",
              "    <tr>\n",
              "      <th>10</th>\n",
              "      <td>Sports</td>\n",
              "      <td>69.09</td>\n",
              "      <td>268</td>\n",
              "    </tr>\n",
              "    <tr>\n",
              "      <th>7</th>\n",
              "      <td>Role-Playing</td>\n",
              "      <td>48.53</td>\n",
              "      <td>370</td>\n",
              "    </tr>\n",
              "    <tr>\n",
              "      <th>6</th>\n",
              "      <td>Racing</td>\n",
              "      <td>27.29</td>\n",
              "      <td>115</td>\n",
              "    </tr>\n",
              "  </tbody>\n",
              "</table>\n",
              "</div>"
            ],
            "text/plain": [
              "           genre   sales  count\n",
              "0         Action  159.34   1031\n",
              "8        Shooter  113.47    235\n",
              "10        Sports   69.09    268\n",
              "7   Role-Playing   48.53    370\n",
              "6         Racing   27.29    115"
            ]
          },
          "metadata": {},
          "execution_count": 85
        }
      ]
    },
    {
      "cell_type": "markdown",
      "metadata": {
        "id": "eqP4TZB4heAq"
      },
      "source": [
        "По жанрам в Европе лидируют Action, Shooter, Sports, Role-Playing, Misc\n",
        "\n",
        "Рейтинг ESRB:\n",
        "\n",
        "    «E» («Everyone») — «Для всех»: Содержание вполне подходит для возрастной категории от 6 лет и старше.\n",
        "    «E10+» («Everyone 10 and older») — «Для всех от 10 лет и старше».\n",
        "    «T» («Teen») — «Подросткам»: Игра подходит для лиц от 13 лет и старше. \n",
        "    «M» («Mature») — «Для взрослых»: Материалы игры не подходят для подростков младше 17 лет."
      ]
    },
    {
      "cell_type": "code",
      "metadata": {
        "id": "YoHSUN79heAr",
        "colab": {
          "base_uri": "https://localhost:8080/",
          "height": 206
        },
        "outputId": "9ac55886-4e23-48ee-9aa1-399dfd13e6a9"
      },
      "source": [
        "sales_eu_ESRB_dep = df.query('year_of_release>=2012').pivot_table(index='rating', values = 'eu_sales', aggfunc = 'sum').reset_index()\n",
        "sales_eu_ESRB_dep.columns = ['rating', 'sales']\n",
        "sales_eu_ESRB_dep = sales_eu_ESRB_dep.sort_values(by='sales', ascending = False )\n",
        "sales_eu_ESRB_dep"
      ],
      "execution_count": null,
      "outputs": [
        {
          "output_type": "execute_result",
          "data": {
            "text/html": [
              "<div>\n",
              "<style scoped>\n",
              "    .dataframe tbody tr th:only-of-type {\n",
              "        vertical-align: middle;\n",
              "    }\n",
              "\n",
              "    .dataframe tbody tr th {\n",
              "        vertical-align: top;\n",
              "    }\n",
              "\n",
              "    .dataframe thead th {\n",
              "        text-align: right;\n",
              "    }\n",
              "</style>\n",
              "<table border=\"1\" class=\"dataframe\">\n",
              "  <thead>\n",
              "    <tr style=\"text-align: right;\">\n",
              "      <th></th>\n",
              "      <th>rating</th>\n",
              "      <th>sales</th>\n",
              "    </tr>\n",
              "  </thead>\n",
              "  <tbody>\n",
              "    <tr>\n",
              "      <th>2</th>\n",
              "      <td>M</td>\n",
              "      <td>193.96</td>\n",
              "    </tr>\n",
              "    <tr>\n",
              "      <th>0</th>\n",
              "      <td>E</td>\n",
              "      <td>113.03</td>\n",
              "    </tr>\n",
              "    <tr>\n",
              "      <th>4</th>\n",
              "      <td>Unknown</td>\n",
              "      <td>91.50</td>\n",
              "    </tr>\n",
              "    <tr>\n",
              "      <th>1</th>\n",
              "      <td>E10+</td>\n",
              "      <td>55.37</td>\n",
              "    </tr>\n",
              "    <tr>\n",
              "      <th>3</th>\n",
              "      <td>T</td>\n",
              "      <td>52.96</td>\n",
              "    </tr>\n",
              "  </tbody>\n",
              "</table>\n",
              "</div>"
            ],
            "text/plain": [
              "    rating   sales\n",
              "2        M  193.96\n",
              "0        E  113.03\n",
              "4  Unknown   91.50\n",
              "1     E10+   55.37\n",
              "3        T   52.96"
            ]
          },
          "metadata": {},
          "execution_count": 86
        }
      ]
    },
    {
      "cell_type": "markdown",
      "metadata": {
        "id": "67XOISNiheAs"
      },
      "source": [
        "В Европе, как и в Северной Америке, в топе продукция категории \"Для взрослых\", затем \"Для всех\" и следом располагаются остальные категории."
      ]
    },
    {
      "cell_type": "markdown",
      "metadata": {
        "id": "q5Szy99ZheAs"
      },
      "source": [
        "### Проанализируем рынок в Японии"
      ]
    },
    {
      "cell_type": "code",
      "metadata": {
        "id": "E-gPLhCIheAt",
        "colab": {
          "base_uri": "https://localhost:8080/",
          "height": 363
        },
        "outputId": "f8834972-69c4-41c2-f067-e93661b922f7"
      },
      "source": [
        "# сформируем таблицу продаж по платформам в Японии\n",
        "\n",
        "sales_jp = df.query('year_of_release>=2012').pivot_table(index='platform', values='jp_sales', aggfunc='sum').reset_index()\n",
        "sales_jp.columns = ['platform','sales']\n",
        "sales_jp = sales_jp.sort_values(by='sales', ascending = False)\n",
        "sales_jp.head(10)"
      ],
      "execution_count": null,
      "outputs": [
        {
          "output_type": "execute_result",
          "data": {
            "text/html": [
              "<div>\n",
              "<style scoped>\n",
              "    .dataframe tbody tr th:only-of-type {\n",
              "        vertical-align: middle;\n",
              "    }\n",
              "\n",
              "    .dataframe tbody tr th {\n",
              "        vertical-align: top;\n",
              "    }\n",
              "\n",
              "    .dataframe thead th {\n",
              "        text-align: right;\n",
              "    }\n",
              "</style>\n",
              "<table border=\"1\" class=\"dataframe\">\n",
              "  <thead>\n",
              "    <tr style=\"text-align: right;\">\n",
              "      <th></th>\n",
              "      <th>platform</th>\n",
              "      <th>sales</th>\n",
              "    </tr>\n",
              "  </thead>\n",
              "  <tbody>\n",
              "    <tr>\n",
              "      <th>0</th>\n",
              "      <td>3DS</td>\n",
              "      <td>87.79</td>\n",
              "    </tr>\n",
              "    <tr>\n",
              "      <th>3</th>\n",
              "      <td>PS3</td>\n",
              "      <td>35.29</td>\n",
              "    </tr>\n",
              "    <tr>\n",
              "      <th>6</th>\n",
              "      <td>PSV</td>\n",
              "      <td>21.04</td>\n",
              "    </tr>\n",
              "    <tr>\n",
              "      <th>4</th>\n",
              "      <td>PS4</td>\n",
              "      <td>15.96</td>\n",
              "    </tr>\n",
              "    <tr>\n",
              "      <th>8</th>\n",
              "      <td>WiiU</td>\n",
              "      <td>13.01</td>\n",
              "    </tr>\n",
              "    <tr>\n",
              "      <th>5</th>\n",
              "      <td>PSP</td>\n",
              "      <td>10.47</td>\n",
              "    </tr>\n",
              "    <tr>\n",
              "      <th>1</th>\n",
              "      <td>DS</td>\n",
              "      <td>3.72</td>\n",
              "    </tr>\n",
              "    <tr>\n",
              "      <th>7</th>\n",
              "      <td>Wii</td>\n",
              "      <td>3.39</td>\n",
              "    </tr>\n",
              "    <tr>\n",
              "      <th>9</th>\n",
              "      <td>X360</td>\n",
              "      <td>1.57</td>\n",
              "    </tr>\n",
              "    <tr>\n",
              "      <th>10</th>\n",
              "      <td>XOne</td>\n",
              "      <td>0.34</td>\n",
              "    </tr>\n",
              "  </tbody>\n",
              "</table>\n",
              "</div>"
            ],
            "text/plain": [
              "   platform  sales\n",
              "0       3DS  87.79\n",
              "3       PS3  35.29\n",
              "6       PSV  21.04\n",
              "4       PS4  15.96\n",
              "8      WiiU  13.01\n",
              "5       PSP  10.47\n",
              "1        DS   3.72\n",
              "7       Wii   3.39\n",
              "9      X360   1.57\n",
              "10     XOne   0.34"
            ]
          },
          "metadata": {},
          "execution_count": 87
        }
      ]
    },
    {
      "cell_type": "code",
      "metadata": {
        "id": "XVyVCnVuheAt",
        "colab": {
          "base_uri": "https://localhost:8080/",
          "height": 269
        },
        "outputId": "e40d8f3b-ec7e-4f96-e9e6-ddf388fe42fc"
      },
      "source": [
        "# найдем ТОП 5 по продажам\n",
        "\n",
        "sales_jp_top = sales_jp.query('sales > 11')\n",
        "\n",
        "# выделим платформы с продажами менее 50 в группу Другие\n",
        "\n",
        "sales_jp_grouped = sales_jp\n",
        "sales_jp_grouped['group_name'] = sales_jp['platform'].where(\n",
        "    sales_jp['platform'].isin(sales_jp_top.platform), 'Другие'  \n",
        ")\n",
        "sales_jp_grouped = sales_jp_grouped.pivot_table(index='group_name', values= 'sales', aggfunc='sum')\n",
        "sales_jp_grouped = sales_jp_grouped.sort_values(by='sales', ascending=False)\n",
        "sales_jp_grouped"
      ],
      "execution_count": null,
      "outputs": [
        {
          "output_type": "execute_result",
          "data": {
            "text/html": [
              "<div>\n",
              "<style scoped>\n",
              "    .dataframe tbody tr th:only-of-type {\n",
              "        vertical-align: middle;\n",
              "    }\n",
              "\n",
              "    .dataframe tbody tr th {\n",
              "        vertical-align: top;\n",
              "    }\n",
              "\n",
              "    .dataframe thead th {\n",
              "        text-align: right;\n",
              "    }\n",
              "</style>\n",
              "<table border=\"1\" class=\"dataframe\">\n",
              "  <thead>\n",
              "    <tr style=\"text-align: right;\">\n",
              "      <th></th>\n",
              "      <th>sales</th>\n",
              "    </tr>\n",
              "    <tr>\n",
              "      <th>group_name</th>\n",
              "      <th></th>\n",
              "    </tr>\n",
              "  </thead>\n",
              "  <tbody>\n",
              "    <tr>\n",
              "      <th>3DS</th>\n",
              "      <td>87.79</td>\n",
              "    </tr>\n",
              "    <tr>\n",
              "      <th>PS3</th>\n",
              "      <td>35.29</td>\n",
              "    </tr>\n",
              "    <tr>\n",
              "      <th>PSV</th>\n",
              "      <td>21.04</td>\n",
              "    </tr>\n",
              "    <tr>\n",
              "      <th>Другие</th>\n",
              "      <td>19.49</td>\n",
              "    </tr>\n",
              "    <tr>\n",
              "      <th>PS4</th>\n",
              "      <td>15.96</td>\n",
              "    </tr>\n",
              "    <tr>\n",
              "      <th>WiiU</th>\n",
              "      <td>13.01</td>\n",
              "    </tr>\n",
              "  </tbody>\n",
              "</table>\n",
              "</div>"
            ],
            "text/plain": [
              "            sales\n",
              "group_name       \n",
              "3DS         87.79\n",
              "PS3         35.29\n",
              "PSV         21.04\n",
              "Другие      19.49\n",
              "PS4         15.96\n",
              "WiiU        13.01"
            ]
          },
          "metadata": {},
          "execution_count": 88
        }
      ]
    },
    {
      "cell_type": "code",
      "metadata": {
        "id": "_aQEIDlrheAt",
        "colab": {
          "base_uri": "https://localhost:8080/",
          "height": 559
        },
        "outputId": "8ed470e7-593b-4347-89f2-76ffdec704a6"
      },
      "source": [
        "# построим chart\n",
        "\n",
        "sales_jp_grouped.plot(y='sales', kind='bar', figsize=(8, 8))\n",
        "plt.title('Распределение продаж по платформам в Японии')"
      ],
      "execution_count": null,
      "outputs": [
        {
          "output_type": "execute_result",
          "data": {
            "text/plain": [
              "Text(0.5, 1.0, 'Распределение продаж по платформам в Японии')"
            ]
          },
          "metadata": {},
          "execution_count": 89
        },
        {
          "output_type": "display_data",
          "data": {
            "image/png": "[encoded data removed]",
            "text/plain": [
              "<Figure size 576x576 with 1 Axes>"
            ]
          },
          "metadata": {
            "needs_background": "light"
          }
        }
      ]
    },
    {
      "cell_type": "markdown",
      "metadata": {
        "id": "_ZxmS2lOheAu"
      },
      "source": [
        "В Японии следующие лидеры по объему продаж:\n",
        "\n",
        "3DC - 46%, PS3 - 18%, PSV - 11%, PS4 - 8%, WiiU - 7% \n"
      ]
    },
    {
      "cell_type": "markdown",
      "metadata": {
        "id": "VE1rLvurheAx"
      },
      "source": [
        "Посмотрим на самые популярные жанры"
      ]
    },
    {
      "cell_type": "code",
      "metadata": {
        "id": "f4Ceg99gheAy",
        "colab": {
          "base_uri": "https://localhost:8080/",
          "height": 206
        },
        "outputId": "18e3b73f-5783-40b7-e579-adb9a0e23e31"
      },
      "source": [
        "# популярные жанры\n",
        "\n",
        "sales_jp_genre = df.query('year_of_release>=2012').pivot_table(index ='genre', values = 'jp_sales', aggfunc = ['sum', 'count']).reset_index()\n",
        "#sales_jp_genre\n",
        "sales_jp_genre.columns = ['genre', 'sales', 'count']\n",
        "sales_jp_genre = sales_jp_genre.sort_values(by='sales', ascending = False)\n",
        "sales_jp_genre.head()"
      ],
      "execution_count": null,
      "outputs": [
        {
          "output_type": "execute_result",
          "data": {
            "text/html": [
              "<div>\n",
              "<style scoped>\n",
              "    .dataframe tbody tr th:only-of-type {\n",
              "        vertical-align: middle;\n",
              "    }\n",
              "\n",
              "    .dataframe tbody tr th {\n",
              "        vertical-align: top;\n",
              "    }\n",
              "\n",
              "    .dataframe thead th {\n",
              "        text-align: right;\n",
              "    }\n",
              "</style>\n",
              "<table border=\"1\" class=\"dataframe\">\n",
              "  <thead>\n",
              "    <tr style=\"text-align: right;\">\n",
              "      <th></th>\n",
              "      <th>genre</th>\n",
              "      <th>sales</th>\n",
              "      <th>count</th>\n",
              "    </tr>\n",
              "  </thead>\n",
              "  <tbody>\n",
              "    <tr>\n",
              "      <th>7</th>\n",
              "      <td>Role-Playing</td>\n",
              "      <td>65.44</td>\n",
              "      <td>370</td>\n",
              "    </tr>\n",
              "    <tr>\n",
              "      <th>0</th>\n",
              "      <td>Action</td>\n",
              "      <td>52.80</td>\n",
              "      <td>1031</td>\n",
              "    </tr>\n",
              "    <tr>\n",
              "      <th>3</th>\n",
              "      <td>Misc</td>\n",
              "      <td>12.86</td>\n",
              "      <td>192</td>\n",
              "    </tr>\n",
              "    <tr>\n",
              "      <th>9</th>\n",
              "      <td>Simulation</td>\n",
              "      <td>10.41</td>\n",
              "      <td>80</td>\n",
              "    </tr>\n",
              "    <tr>\n",
              "      <th>2</th>\n",
              "      <td>Fighting</td>\n",
              "      <td>9.44</td>\n",
              "      <td>109</td>\n",
              "    </tr>\n",
              "  </tbody>\n",
              "</table>\n",
              "</div>"
            ],
            "text/plain": [
              "          genre  sales  count\n",
              "7  Role-Playing  65.44    370\n",
              "0        Action  52.80   1031\n",
              "3          Misc  12.86    192\n",
              "9    Simulation  10.41     80\n",
              "2      Fighting   9.44    109"
            ]
          },
          "metadata": {},
          "execution_count": 90
        }
      ]
    },
    {
      "cell_type": "markdown",
      "metadata": {
        "id": "niqWZcOHheAy"
      },
      "source": [
        "<div style=\"background-color: RoyalBlue;\">\n",
        "Похоже сыграл еще один фактор (помимо открытости/закрытости) платформы. Этот фактор: мобильность. 3DS карманное устройство, в отличии от других ТОП платформ в нашем анализе. \n",
        "Похоже необходимо добавить в список игр еще поля Закрытость/Открытость платформы и поле Мобильная ли платформа. \n",
        "    Но почему эта же платформа на последних позициях по продажам в Северной Америке и Европе. Возможно есть страновый фактор. Особенность культуры и страны о которой пока нельзя судить исходя из имеющихся у нас данных. Можно предположить что в Японии мобильные игры более распространены в сравнении с другими регионами.\n",
        "</div>"
      ]
    },
    {
      "cell_type": "markdown",
      "metadata": {
        "id": "IG_4NZ7_heAz"
      },
      "source": [
        "В Японии по жанрам лидируют Role-Playing, Action, Misc, Simulation, Fighting\n",
        "\n",
        "Рейтинг ESRB:\n",
        "\n",
        "    «E» («Everyone») — «Для всех»: Содержание вполне подходит для возрастной категории от 6 лет и старше.\n",
        "    «E10+» («Everyone 10 and older») — «Для всех от 10 лет и старше».\n",
        "    «T» («Teen») — «Подросткам»: Игра подходит для лиц от 13 лет и старше. \n",
        "    «M» («Mature») — «Для взрослых»: Материалы игры не подходят для подростков младше 17 лет."
      ]
    },
    {
      "cell_type": "code",
      "metadata": {
        "id": "qJnOfqXqheAz",
        "colab": {
          "base_uri": "https://localhost:8080/",
          "height": 206
        },
        "outputId": "44e3454b-3d76-49c4-f3a7-341f24e77166"
      },
      "source": [
        "sales_jp_ESRB_dep = df.query('year_of_release>=2012').pivot_table(index='rating', values = 'jp_sales', aggfunc = 'sum').reset_index()\n",
        "sales_jp_ESRB_dep.columns = ['rating', 'sales']\n",
        "sales_jp_ESRB_dep = sales_jp_ESRB_dep.sort_values(by='sales', ascending = False )\n",
        "sales_jp_ESRB_dep"
      ],
      "execution_count": null,
      "outputs": [
        {
          "output_type": "execute_result",
          "data": {
            "text/html": [
              "<div>\n",
              "<style scoped>\n",
              "    .dataframe tbody tr th:only-of-type {\n",
              "        vertical-align: middle;\n",
              "    }\n",
              "\n",
              "    .dataframe tbody tr th {\n",
              "        vertical-align: top;\n",
              "    }\n",
              "\n",
              "    .dataframe thead th {\n",
              "        text-align: right;\n",
              "    }\n",
              "</style>\n",
              "<table border=\"1\" class=\"dataframe\">\n",
              "  <thead>\n",
              "    <tr style=\"text-align: right;\">\n",
              "      <th></th>\n",
              "      <th>rating</th>\n",
              "      <th>sales</th>\n",
              "    </tr>\n",
              "  </thead>\n",
              "  <tbody>\n",
              "    <tr>\n",
              "      <th>4</th>\n",
              "      <td>Unknown</td>\n",
              "      <td>108.84</td>\n",
              "    </tr>\n",
              "    <tr>\n",
              "      <th>0</th>\n",
              "      <td>E</td>\n",
              "      <td>28.33</td>\n",
              "    </tr>\n",
              "    <tr>\n",
              "      <th>3</th>\n",
              "      <td>T</td>\n",
              "      <td>26.02</td>\n",
              "    </tr>\n",
              "    <tr>\n",
              "      <th>2</th>\n",
              "      <td>M</td>\n",
              "      <td>21.20</td>\n",
              "    </tr>\n",
              "    <tr>\n",
              "      <th>1</th>\n",
              "      <td>E10+</td>\n",
              "      <td>8.19</td>\n",
              "    </tr>\n",
              "  </tbody>\n",
              "</table>\n",
              "</div>"
            ],
            "text/plain": [
              "    rating   sales\n",
              "4  Unknown  108.84\n",
              "0        E   28.33\n",
              "3        T   26.02\n",
              "2        M   21.20\n",
              "1     E10+    8.19"
            ]
          },
          "metadata": {},
          "execution_count": 91
        }
      ]
    },
    {
      "cell_type": "markdown",
      "metadata": {
        "id": "F047QIQkheA0"
      },
      "source": [
        "<div style=\"background-color: RoyalBlue;\">\n",
        " \n",
        "Рейтинги нужны чтобы регулировать дистрибуцию по целевым аудиториям. Рейтинговая организация в Японии основана в 2002 году. Старые классические игры до периода рейтингов, вероятно, продаются суммарно больше.\n",
        "</div>"
      ]
    },
    {
      "cell_type": "markdown",
      "metadata": {
        "id": "OMxTMc2nheA1"
      },
      "source": [
        "сравним регионы между собой посмотрим и сравним популярные платформы и жанры игр"
      ]
    },
    {
      "cell_type": "code",
      "metadata": {
        "id": "nFEJBX2wheA1",
        "colab": {
          "base_uri": "https://localhost:8080/"
        },
        "outputId": "7bd23980-a373-4771-f574-3bc1fdbe2f0e"
      },
      "source": [
        "print('Популярные платформы Северной Америки:')\n",
        "print(sales_na_grouped.head())\n",
        "print()\n",
        "print('Популярные платформы Европы:')\n",
        "print(sales_eu_grouped.head())\n",
        "print()\n",
        "print('Популярные платформы Японии:')\n",
        "print(sales_jp_grouped.head())\n",
        "print()"
      ],
      "execution_count": null,
      "outputs": [
        {
          "output_type": "stream",
          "text": [
            "Популярные платформы Северной Америки:\n",
            "             sales\n",
            "group_name        \n",
            "X360        140.05\n",
            "PS4         108.74\n",
            "PS3         103.38\n",
            "XOne         93.12\n",
            "Другие       90.37\n",
            "\n",
            "Популярные платформы Европы:\n",
            "             sales\n",
            "group_name        \n",
            "PS4         141.09\n",
            "PS3         106.86\n",
            "Другие       90.12\n",
            "X360         74.52\n",
            "XOne         51.59\n",
            "\n",
            "Популярные платформы Японии:\n",
            "            sales\n",
            "group_name       \n",
            "3DS         87.79\n",
            "PS3         35.29\n",
            "PSV         21.04\n",
            "Другие      19.49\n",
            "PS4         15.96\n",
            "\n"
          ],
          "name": "stdout"
        }
      ]
    },
    {
      "cell_type": "code",
      "metadata": {
        "id": "7-R6VnOxheA2",
        "colab": {
          "base_uri": "https://localhost:8080/"
        },
        "outputId": "28eb50d1-9b2a-40fb-9260-98cca6b5c6e2"
      },
      "source": [
        "# популярные жанры в разных регионах\n",
        "\n",
        "print('Популярные жанры Северной Америки:')\n",
        "print(sales_na_genre.head())\n",
        "print()\n",
        "print('Популярные жанры Европы:')\n",
        "print(sales_eu_genre.head())\n",
        "print()\n",
        "print('Популярные жанры Японии:')\n",
        "print(sales_jp_genre.head())\n",
        "print()"
      ],
      "execution_count": null,
      "outputs": [
        {
          "output_type": "stream",
          "text": [
            "Популярные жанры Северной Америки:\n",
            "           genre   sales  count\n",
            "0         Action  177.84   1031\n",
            "8        Shooter  144.77    235\n",
            "10        Sports   81.53    268\n",
            "7   Role-Playing   64.00    370\n",
            "3           Misc   38.19    192\n",
            "\n",
            "Популярные жанры Европы:\n",
            "           genre   sales  count\n",
            "0         Action  159.34   1031\n",
            "8        Shooter  113.47    235\n",
            "10        Sports   69.09    268\n",
            "7   Role-Playing   48.53    370\n",
            "6         Racing   27.29    115\n",
            "\n",
            "Популярные жанры Японии:\n",
            "          genre  sales  count\n",
            "7  Role-Playing  65.44    370\n",
            "0        Action  52.80   1031\n",
            "3          Misc  12.86    192\n",
            "9    Simulation  10.41     80\n",
            "2      Fighting   9.44    109\n",
            "\n"
          ],
          "name": "stdout"
        }
      ]
    },
    {
      "cell_type": "markdown",
      "metadata": {
        "id": "Pmum4Qz8heA3"
      },
      "source": [
        "ВЫВОДЫ:\n",
        "\n",
        "Пользовательский портрет Северной Америки и Европы похожи. Популярны одни и те же игровые платформы. К тому же ТОП4 популярных жанров полностью идентичны.\n",
        "\n",
        "Япония отличается по лидерам популярных платформ. Самая популярная площадка тут 3DS (не входит в ТОП5 других регионов) и занимает 46% рынка! Из жанров тут популярнее всего Role-Playing, Simulation и Fighting."
      ]
    },
    {
      "cell_type": "markdown",
      "metadata": {
        "id": "BMYF0GIAheA3"
      },
      "source": [
        "## Исследование статистических показателей"
      ]
    },
    {
      "cell_type": "markdown",
      "metadata": {
        "id": "7A-UnId_heA3"
      },
      "source": [
        "Посмотрим как изменяется пользовательский рейтинг и рейтинг критиков в различных жанрах? Посчитаем среднее количество, дисперсию и стандартное отклонение. Построим гистограммы. Опишим распределения"
      ]
    },
    {
      "cell_type": "markdown",
      "metadata": {
        "id": "ZM0_thKzheA4"
      },
      "source": [
        "### Посмотрим как изменяется пользовательский рейтинг и рейтинг критиков в различных жанрах"
      ]
    },
    {
      "cell_type": "code",
      "metadata": {
        "id": "T2Rilcb1heA4",
        "colab": {
          "base_uri": "https://localhost:8080/",
          "height": 426
        },
        "outputId": "4cb6c43f-63ff-41bb-e01b-ad9c4c6d3cbc"
      },
      "source": [
        "# также берем данные за последние 5 лет, чтобы исключить значимое искажение распределения по платформам\n",
        "\n",
        "genre_score_pivot = df.query('year_of_release>=2012').pivot_table(index='genre', values=['critic_score', 'user_score'] , aggfunc='mean').reset_index()\n",
        "genre_score_pivot.columns = ['genre', 'critic_score', 'user_score']\n",
        "genre_score_pivot = genre_score_pivot.sort_values(by = 'critic_score', ascending = False)\n",
        "genre_score_pivot\n"
      ],
      "execution_count": null,
      "outputs": [
        {
          "output_type": "execute_result",
          "data": {
            "text/html": [
              "<div>\n",
              "<style scoped>\n",
              "    .dataframe tbody tr th:only-of-type {\n",
              "        vertical-align: middle;\n",
              "    }\n",
              "\n",
              "    .dataframe tbody tr th {\n",
              "        vertical-align: top;\n",
              "    }\n",
              "\n",
              "    .dataframe thead th {\n",
              "        text-align: right;\n",
              "    }\n",
              "</style>\n",
              "<table border=\"1\" class=\"dataframe\">\n",
              "  <thead>\n",
              "    <tr style=\"text-align: right;\">\n",
              "      <th></th>\n",
              "      <th>genre</th>\n",
              "      <th>critic_score</th>\n",
              "      <th>user_score</th>\n",
              "    </tr>\n",
              "  </thead>\n",
              "  <tbody>\n",
              "    <tr>\n",
              "      <th>11</th>\n",
              "      <td>Strategy</td>\n",
              "      <td>75.870968</td>\n",
              "      <td>6.420000</td>\n",
              "    </tr>\n",
              "    <tr>\n",
              "      <th>5</th>\n",
              "      <td>Puzzle</td>\n",
              "      <td>75.444444</td>\n",
              "      <td>7.633333</td>\n",
              "    </tr>\n",
              "    <tr>\n",
              "      <th>4</th>\n",
              "      <td>Platform</td>\n",
              "      <td>74.610169</td>\n",
              "      <td>6.806061</td>\n",
              "    </tr>\n",
              "    <tr>\n",
              "      <th>8</th>\n",
              "      <td>Shooter</td>\n",
              "      <td>73.421965</td>\n",
              "      <td>6.435897</td>\n",
              "    </tr>\n",
              "    <tr>\n",
              "      <th>7</th>\n",
              "      <td>Role-Playing</td>\n",
              "      <td>73.049689</td>\n",
              "      <td>7.258480</td>\n",
              "    </tr>\n",
              "    <tr>\n",
              "      <th>10</th>\n",
              "      <td>Sports</td>\n",
              "      <td>72.895105</td>\n",
              "      <td>5.455897</td>\n",
              "    </tr>\n",
              "    <tr>\n",
              "      <th>3</th>\n",
              "      <td>Misc</td>\n",
              "      <td>72.807018</td>\n",
              "      <td>6.938806</td>\n",
              "    </tr>\n",
              "    <tr>\n",
              "      <th>1</th>\n",
              "      <td>Adventure</td>\n",
              "      <td>72.661017</td>\n",
              "      <td>7.466667</td>\n",
              "    </tr>\n",
              "    <tr>\n",
              "      <th>6</th>\n",
              "      <td>Racing</td>\n",
              "      <td>71.864198</td>\n",
              "      <td>6.151163</td>\n",
              "    </tr>\n",
              "    <tr>\n",
              "      <th>0</th>\n",
              "      <td>Action</td>\n",
              "      <td>71.378440</td>\n",
              "      <td>6.825048</td>\n",
              "    </tr>\n",
              "    <tr>\n",
              "      <th>2</th>\n",
              "      <td>Fighting</td>\n",
              "      <td>70.406250</td>\n",
              "      <td>6.895714</td>\n",
              "    </tr>\n",
              "    <tr>\n",
              "      <th>9</th>\n",
              "      <td>Simulation</td>\n",
              "      <td>66.615385</td>\n",
              "      <td>6.511905</td>\n",
              "    </tr>\n",
              "  </tbody>\n",
              "</table>\n",
              "</div>"
            ],
            "text/plain": [
              "           genre  critic_score  user_score\n",
              "11      Strategy     75.870968    6.420000\n",
              "5         Puzzle     75.444444    7.633333\n",
              "4       Platform     74.610169    6.806061\n",
              "8        Shooter     73.421965    6.435897\n",
              "7   Role-Playing     73.049689    7.258480\n",
              "10        Sports     72.895105    5.455897\n",
              "3           Misc     72.807018    6.938806\n",
              "1      Adventure     72.661017    7.466667\n",
              "6         Racing     71.864198    6.151163\n",
              "0         Action     71.378440    6.825048\n",
              "2       Fighting     70.406250    6.895714\n",
              "9     Simulation     66.615385    6.511905"
            ]
          },
          "metadata": {},
          "execution_count": 94
        }
      ]
    },
    {
      "cell_type": "markdown",
      "metadata": {
        "id": "i0PJRYzGheA5"
      },
      "source": [
        "ВЫВОД:\n",
        "Как правило оценки критиков выше оценок пользователей. Исключения в двух жанрах: Puzzle и Adventure.\n"
      ]
    },
    {
      "cell_type": "markdown",
      "metadata": {
        "id": "d92peOcvheA5"
      },
      "source": [
        "Посчитаем среднее количество, дисперсию и стандартное отклонение"
      ]
    },
    {
      "cell_type": "code",
      "metadata": {
        "id": "8xRxNXL2heA5",
        "colab": {
          "base_uri": "https://localhost:8080/",
          "height": 426
        },
        "outputId": "5ac35af8-57b0-485c-d0a2-727aa8459eb4"
      },
      "source": [
        "# сформируем сводную таблицу с аггрегирующими функциями mean, np.var, np.std\n",
        "\n",
        "genres_mean_var_std = df.query('year_of_release>=2012').pivot_table(index='genre', values=['critic_score', 'user_score'] , aggfunc = ['mean', np.var, np.std]).reset_index()\n",
        "genres_mean_var_std.columns = ['genre', 'mean_critic_score', 'mean_user_score', 'var_critic_score', 'var_user_score','std_critic_score', 'std_user_score']\n",
        "genres_mean_var_std = genres_mean_var_std.sort_values(by = 'genre', ascending = True)\n",
        "genres_mean_var_std\n"
      ],
      "execution_count": null,
      "outputs": [
        {
          "output_type": "execute_result",
          "data": {
            "text/html": [
              "<div>\n",
              "<style scoped>\n",
              "    .dataframe tbody tr th:only-of-type {\n",
              "        vertical-align: middle;\n",
              "    }\n",
              "\n",
              "    .dataframe tbody tr th {\n",
              "        vertical-align: top;\n",
              "    }\n",
              "\n",
              "    .dataframe thead th {\n",
              "        text-align: right;\n",
              "    }\n",
              "</style>\n",
              "<table border=\"1\" class=\"dataframe\">\n",
              "  <thead>\n",
              "    <tr style=\"text-align: right;\">\n",
              "      <th></th>\n",
              "      <th>genre</th>\n",
              "      <th>mean_critic_score</th>\n",
              "      <th>mean_user_score</th>\n",
              "      <th>var_critic_score</th>\n",
              "      <th>var_user_score</th>\n",
              "      <th>std_critic_score</th>\n",
              "      <th>std_user_score</th>\n",
              "    </tr>\n",
              "  </thead>\n",
              "  <tbody>\n",
              "    <tr>\n",
              "      <th>0</th>\n",
              "      <td>Action</td>\n",
              "      <td>71.378440</td>\n",
              "      <td>6.825048</td>\n",
              "      <td>146.258753</td>\n",
              "      <td>1.889084</td>\n",
              "      <td>12.093748</td>\n",
              "      <td>1.374440</td>\n",
              "    </tr>\n",
              "    <tr>\n",
              "      <th>1</th>\n",
              "      <td>Adventure</td>\n",
              "      <td>72.661017</td>\n",
              "      <td>7.466667</td>\n",
              "      <td>121.021040</td>\n",
              "      <td>1.632394</td>\n",
              "      <td>11.000956</td>\n",
              "      <td>1.277652</td>\n",
              "    </tr>\n",
              "    <tr>\n",
              "      <th>2</th>\n",
              "      <td>Fighting</td>\n",
              "      <td>70.406250</td>\n",
              "      <td>6.895714</td>\n",
              "      <td>179.768849</td>\n",
              "      <td>2.048532</td>\n",
              "      <td>13.407791</td>\n",
              "      <td>1.431269</td>\n",
              "    </tr>\n",
              "    <tr>\n",
              "      <th>3</th>\n",
              "      <td>Misc</td>\n",
              "      <td>72.807018</td>\n",
              "      <td>6.938806</td>\n",
              "      <td>101.087093</td>\n",
              "      <td>1.582411</td>\n",
              "      <td>10.054208</td>\n",
              "      <td>1.257939</td>\n",
              "    </tr>\n",
              "    <tr>\n",
              "      <th>4</th>\n",
              "      <td>Platform</td>\n",
              "      <td>74.610169</td>\n",
              "      <td>6.806061</td>\n",
              "      <td>188.069550</td>\n",
              "      <td>2.737193</td>\n",
              "      <td>13.713845</td>\n",
              "      <td>1.654447</td>\n",
              "    </tr>\n",
              "    <tr>\n",
              "      <th>5</th>\n",
              "      <td>Puzzle</td>\n",
              "      <td>75.444444</td>\n",
              "      <td>7.633333</td>\n",
              "      <td>48.277778</td>\n",
              "      <td>0.790000</td>\n",
              "      <td>6.948221</td>\n",
              "      <td>0.888819</td>\n",
              "    </tr>\n",
              "    <tr>\n",
              "      <th>6</th>\n",
              "      <td>Racing</td>\n",
              "      <td>71.864198</td>\n",
              "      <td>6.151163</td>\n",
              "      <td>157.343827</td>\n",
              "      <td>2.780881</td>\n",
              "      <td>12.543677</td>\n",
              "      <td>1.667597</td>\n",
              "    </tr>\n",
              "    <tr>\n",
              "      <th>7</th>\n",
              "      <td>Role-Playing</td>\n",
              "      <td>73.049689</td>\n",
              "      <td>7.258480</td>\n",
              "      <td>150.860016</td>\n",
              "      <td>1.634913</td>\n",
              "      <td>12.282509</td>\n",
              "      <td>1.278637</td>\n",
              "    </tr>\n",
              "    <tr>\n",
              "      <th>8</th>\n",
              "      <td>Shooter</td>\n",
              "      <td>73.421965</td>\n",
              "      <td>6.435897</td>\n",
              "      <td>154.884864</td>\n",
              "      <td>2.065509</td>\n",
              "      <td>12.445275</td>\n",
              "      <td>1.437188</td>\n",
              "    </tr>\n",
              "    <tr>\n",
              "      <th>9</th>\n",
              "      <td>Simulation</td>\n",
              "      <td>66.615385</td>\n",
              "      <td>6.511905</td>\n",
              "      <td>183.769231</td>\n",
              "      <td>3.285465</td>\n",
              "      <td>13.556151</td>\n",
              "      <td>1.812585</td>\n",
              "    </tr>\n",
              "    <tr>\n",
              "      <th>10</th>\n",
              "      <td>Sports</td>\n",
              "      <td>72.895105</td>\n",
              "      <td>5.455897</td>\n",
              "      <td>239.418497</td>\n",
              "      <td>3.022890</td>\n",
              "      <td>15.473154</td>\n",
              "      <td>1.738646</td>\n",
              "    </tr>\n",
              "    <tr>\n",
              "      <th>11</th>\n",
              "      <td>Strategy</td>\n",
              "      <td>75.870968</td>\n",
              "      <td>6.420000</td>\n",
              "      <td>156.649462</td>\n",
              "      <td>4.124588</td>\n",
              "      <td>12.515968</td>\n",
              "      <td>2.030908</td>\n",
              "    </tr>\n",
              "  </tbody>\n",
              "</table>\n",
              "</div>"
            ],
            "text/plain": [
              "           genre  mean_critic_score  ...  std_critic_score  std_user_score\n",
              "0         Action          71.378440  ...         12.093748        1.374440\n",
              "1      Adventure          72.661017  ...         11.000956        1.277652\n",
              "2       Fighting          70.406250  ...         13.407791        1.431269\n",
              "3           Misc          72.807018  ...         10.054208        1.257939\n",
              "4       Platform          74.610169  ...         13.713845        1.654447\n",
              "5         Puzzle          75.444444  ...          6.948221        0.888819\n",
              "6         Racing          71.864198  ...         12.543677        1.667597\n",
              "7   Role-Playing          73.049689  ...         12.282509        1.278637\n",
              "8        Shooter          73.421965  ...         12.445275        1.437188\n",
              "9     Simulation          66.615385  ...         13.556151        1.812585\n",
              "10        Sports          72.895105  ...         15.473154        1.738646\n",
              "11      Strategy          75.870968  ...         12.515968        2.030908\n",
              "\n",
              "[12 rows x 7 columns]"
            ]
          },
          "metadata": {},
          "execution_count": 95
        }
      ]
    },
    {
      "cell_type": "code",
      "metadata": {
        "id": "qvPDkBKfheA6",
        "colab": {
          "base_uri": "https://localhost:8080/",
          "height": 426
        },
        "outputId": "f1b43748-531d-4f6e-9b0e-fc4997666c8b"
      },
      "source": [
        "# добавим столбец разницы между средними оценками критиков и пользователей\n",
        "# чтобы найти те жанры у которых больше всех отличаются средние оценки от критиков и пользователей\n",
        "\n",
        "genres_mean_var_std['delta_critic_user'] = genres_mean_var_std['mean_critic_score'] - (genres_mean_var_std['mean_user_score']*10)\n",
        "genres_mean_var_std = genres_mean_var_std.sort_values(by='delta_critic_user', ascending=False)\n",
        "genres_mean_var_std\n"
      ],
      "execution_count": null,
      "outputs": [
        {
          "output_type": "execute_result",
          "data": {
            "text/html": [
              "<div>\n",
              "<style scoped>\n",
              "    .dataframe tbody tr th:only-of-type {\n",
              "        vertical-align: middle;\n",
              "    }\n",
              "\n",
              "    .dataframe tbody tr th {\n",
              "        vertical-align: top;\n",
              "    }\n",
              "\n",
              "    .dataframe thead th {\n",
              "        text-align: right;\n",
              "    }\n",
              "</style>\n",
              "<table border=\"1\" class=\"dataframe\">\n",
              "  <thead>\n",
              "    <tr style=\"text-align: right;\">\n",
              "      <th></th>\n",
              "      <th>genre</th>\n",
              "      <th>mean_critic_score</th>\n",
              "      <th>mean_user_score</th>\n",
              "      <th>var_critic_score</th>\n",
              "      <th>var_user_score</th>\n",
              "      <th>std_critic_score</th>\n",
              "      <th>std_user_score</th>\n",
              "      <th>delta_critic_user</th>\n",
              "    </tr>\n",
              "  </thead>\n",
              "  <tbody>\n",
              "    <tr>\n",
              "      <th>10</th>\n",
              "      <td>Sports</td>\n",
              "      <td>72.895105</td>\n",
              "      <td>5.455897</td>\n",
              "      <td>239.418497</td>\n",
              "      <td>3.022890</td>\n",
              "      <td>15.473154</td>\n",
              "      <td>1.738646</td>\n",
              "      <td>18.336131</td>\n",
              "    </tr>\n",
              "    <tr>\n",
              "      <th>11</th>\n",
              "      <td>Strategy</td>\n",
              "      <td>75.870968</td>\n",
              "      <td>6.420000</td>\n",
              "      <td>156.649462</td>\n",
              "      <td>4.124588</td>\n",
              "      <td>12.515968</td>\n",
              "      <td>2.030908</td>\n",
              "      <td>11.670968</td>\n",
              "    </tr>\n",
              "    <tr>\n",
              "      <th>6</th>\n",
              "      <td>Racing</td>\n",
              "      <td>71.864198</td>\n",
              "      <td>6.151163</td>\n",
              "      <td>157.343827</td>\n",
              "      <td>2.780881</td>\n",
              "      <td>12.543677</td>\n",
              "      <td>1.667597</td>\n",
              "      <td>10.352570</td>\n",
              "    </tr>\n",
              "    <tr>\n",
              "      <th>8</th>\n",
              "      <td>Shooter</td>\n",
              "      <td>73.421965</td>\n",
              "      <td>6.435897</td>\n",
              "      <td>154.884864</td>\n",
              "      <td>2.065509</td>\n",
              "      <td>12.445275</td>\n",
              "      <td>1.437188</td>\n",
              "      <td>9.062991</td>\n",
              "    </tr>\n",
              "    <tr>\n",
              "      <th>4</th>\n",
              "      <td>Platform</td>\n",
              "      <td>74.610169</td>\n",
              "      <td>6.806061</td>\n",
              "      <td>188.069550</td>\n",
              "      <td>2.737193</td>\n",
              "      <td>13.713845</td>\n",
              "      <td>1.654447</td>\n",
              "      <td>6.549563</td>\n",
              "    </tr>\n",
              "    <tr>\n",
              "      <th>3</th>\n",
              "      <td>Misc</td>\n",
              "      <td>72.807018</td>\n",
              "      <td>6.938806</td>\n",
              "      <td>101.087093</td>\n",
              "      <td>1.582411</td>\n",
              "      <td>10.054208</td>\n",
              "      <td>1.257939</td>\n",
              "      <td>3.418958</td>\n",
              "    </tr>\n",
              "    <tr>\n",
              "      <th>0</th>\n",
              "      <td>Action</td>\n",
              "      <td>71.378440</td>\n",
              "      <td>6.825048</td>\n",
              "      <td>146.258753</td>\n",
              "      <td>1.889084</td>\n",
              "      <td>12.093748</td>\n",
              "      <td>1.374440</td>\n",
              "      <td>3.127962</td>\n",
              "    </tr>\n",
              "    <tr>\n",
              "      <th>9</th>\n",
              "      <td>Simulation</td>\n",
              "      <td>66.615385</td>\n",
              "      <td>6.511905</td>\n",
              "      <td>183.769231</td>\n",
              "      <td>3.285465</td>\n",
              "      <td>13.556151</td>\n",
              "      <td>1.812585</td>\n",
              "      <td>1.496337</td>\n",
              "    </tr>\n",
              "    <tr>\n",
              "      <th>2</th>\n",
              "      <td>Fighting</td>\n",
              "      <td>70.406250</td>\n",
              "      <td>6.895714</td>\n",
              "      <td>179.768849</td>\n",
              "      <td>2.048532</td>\n",
              "      <td>13.407791</td>\n",
              "      <td>1.431269</td>\n",
              "      <td>1.449107</td>\n",
              "    </tr>\n",
              "    <tr>\n",
              "      <th>7</th>\n",
              "      <td>Role-Playing</td>\n",
              "      <td>73.049689</td>\n",
              "      <td>7.258480</td>\n",
              "      <td>150.860016</td>\n",
              "      <td>1.634913</td>\n",
              "      <td>12.282509</td>\n",
              "      <td>1.278637</td>\n",
              "      <td>0.464894</td>\n",
              "    </tr>\n",
              "    <tr>\n",
              "      <th>5</th>\n",
              "      <td>Puzzle</td>\n",
              "      <td>75.444444</td>\n",
              "      <td>7.633333</td>\n",
              "      <td>48.277778</td>\n",
              "      <td>0.790000</td>\n",
              "      <td>6.948221</td>\n",
              "      <td>0.888819</td>\n",
              "      <td>-0.888889</td>\n",
              "    </tr>\n",
              "    <tr>\n",
              "      <th>1</th>\n",
              "      <td>Adventure</td>\n",
              "      <td>72.661017</td>\n",
              "      <td>7.466667</td>\n",
              "      <td>121.021040</td>\n",
              "      <td>1.632394</td>\n",
              "      <td>11.000956</td>\n",
              "      <td>1.277652</td>\n",
              "      <td>-2.005650</td>\n",
              "    </tr>\n",
              "  </tbody>\n",
              "</table>\n",
              "</div>"
            ],
            "text/plain": [
              "           genre  mean_critic_score  ...  std_user_score  delta_critic_user\n",
              "10        Sports          72.895105  ...        1.738646          18.336131\n",
              "11      Strategy          75.870968  ...        2.030908          11.670968\n",
              "6         Racing          71.864198  ...        1.667597          10.352570\n",
              "8        Shooter          73.421965  ...        1.437188           9.062991\n",
              "4       Platform          74.610169  ...        1.654447           6.549563\n",
              "3           Misc          72.807018  ...        1.257939           3.418958\n",
              "0         Action          71.378440  ...        1.374440           3.127962\n",
              "9     Simulation          66.615385  ...        1.812585           1.496337\n",
              "2       Fighting          70.406250  ...        1.431269           1.449107\n",
              "7   Role-Playing          73.049689  ...        1.278637           0.464894\n",
              "5         Puzzle          75.444444  ...        0.888819          -0.888889\n",
              "1      Adventure          72.661017  ...        1.277652          -2.005650\n",
              "\n",
              "[12 rows x 8 columns]"
            ]
          },
          "metadata": {},
          "execution_count": 96
        }
      ]
    },
    {
      "cell_type": "markdown",
      "metadata": {
        "id": "je3vnhYjheA6"
      },
      "source": [
        "Таковым является жанр Sports"
      ]
    },
    {
      "cell_type": "markdown",
      "metadata": {
        "id": "vuteX63GheA6"
      },
      "source": [
        "Построим гистограммы распределения средних оценок критиков и пользователей для жанра Sports"
      ]
    },
    {
      "cell_type": "code",
      "metadata": {
        "id": "MX4Vyso6heA6",
        "colab": {
          "base_uri": "https://localhost:8080/",
          "height": 283
        },
        "outputId": "2b95f66b-a886-41ac-dc37-433e4503f174"
      },
      "source": [
        "# гистограмма оценок критиков для жанра Sports\n",
        "\n",
        "df.query('year_of_release>=2012').query('genre == \"Sports\"')['critic_score'].plot(\n",
        "    kind='hist',\n",
        "    histtype='step',\n",
        "    range = (0, 100),\n",
        "    bins = 10,\n",
        "    linewidth=2,\n",
        "    grid=True,\n",
        "    legend=True\n",
        ")"
      ],
      "execution_count": null,
      "outputs": [
        {
          "output_type": "execute_result",
          "data": {
            "text/plain": [
              "<matplotlib.axes._subplots.AxesSubplot at 0x7ff8bf1a19d0>"
            ]
          },
          "metadata": {},
          "execution_count": 97
        },
        {
          "output_type": "display_data",
          "data": {
            "image/png": "[encoded data removed]",
            "text/plain": [
              "<Figure size 432x288 with 1 Axes>"
            ]
          },
          "metadata": {
            "needs_background": "light"
          }
        }
      ]
    },
    {
      "cell_type": "code",
      "metadata": {
        "id": "elB85D8JheA7",
        "colab": {
          "base_uri": "https://localhost:8080/",
          "height": 283
        },
        "outputId": "fe67c0f5-286a-4aa2-b19c-a49177d5bca5"
      },
      "source": [
        "# гистограмма оценок пользователей для жанра Sports\n",
        "\n",
        "df.query('year_of_release>=2012').query('genre == \"Sports\"')['user_score'].plot(\n",
        "    kind='hist',\n",
        "    histtype='step',\n",
        "    range = (0, 10),\n",
        "    bins = 10,\n",
        "    linewidth=2,\n",
        "    grid=True,\n",
        "    legend=True\n",
        ")"
      ],
      "execution_count": null,
      "outputs": [
        {
          "output_type": "execute_result",
          "data": {
            "text/plain": [
              "<matplotlib.axes._subplots.AxesSubplot at 0x7ff8be99d090>"
            ]
          },
          "metadata": {},
          "execution_count": 98
        },
        {
          "output_type": "display_data",
          "data": {
            "image/png": "[encoded data removed]",
            "text/plain": [
              "<Figure size 432x288 with 1 Axes>"
            ]
          },
          "metadata": {
            "needs_background": "light"
          }
        }
      ]
    },
    {
      "cell_type": "markdown",
      "metadata": {
        "id": "5ze0ujO2heA7"
      },
      "source": [
        "ИТОГИ по игровому жанру Sports\n",
        "\n",
        "Как мы видим, в общей массе игроки более критичны(6 из 10) к данному жанру, чем критики(80 из 100). \n",
        "Средняя оценка критиков составляет 72.8 из 100 возможных, а игроки поставили 5.4 из 10.\n",
        "\n",
        "При этом эксперты голосовали более согласовано, стандартное отклонение по их оценкам составило 15.47 против 1.73 у пользователей. "
      ]
    },
    {
      "cell_type": "markdown",
      "metadata": {
        "id": "B3q81R8-heA8"
      },
      "source": [
        "Теперь исследуем данные по самому популярному жанру в Северной Америке и Европе - жанру Action"
      ]
    },
    {
      "cell_type": "markdown",
      "metadata": {
        "id": "-v2nfVrEheA8"
      },
      "source": [
        "Построим гистограммы распределения средних оценок критиков и пользователей для жанра Action"
      ]
    },
    {
      "cell_type": "code",
      "metadata": {
        "id": "xC_4kimcheA8",
        "colab": {
          "base_uri": "https://localhost:8080/",
          "height": 283
        },
        "outputId": "0da8c33d-6611-4110-cf03-87fd042bb69d"
      },
      "source": [
        "# гистограмма оценок критиков для жанра Action\n",
        "\n",
        "df.query('year_of_release>=2012').query('genre == \"Action\"')['critic_score'].plot(\n",
        "    kind='hist',\n",
        "    histtype='step',\n",
        "    range = (0, 100),\n",
        "    bins = 10,\n",
        "    linewidth=2,\n",
        "    grid=True,\n",
        "    legend=True\n",
        ")"
      ],
      "execution_count": null,
      "outputs": [
        {
          "output_type": "execute_result",
          "data": {
            "text/plain": [
              "<matplotlib.axes._subplots.AxesSubplot at 0x7ff8be9cc450>"
            ]
          },
          "metadata": {},
          "execution_count": 99
        },
        {
          "output_type": "display_data",
          "data": {
            "image/png": "[encoded data removed]",
            "text/plain": [
              "<Figure size 432x288 with 1 Axes>"
            ]
          },
          "metadata": {
            "needs_background": "light"
          }
        }
      ]
    },
    {
      "cell_type": "code",
      "metadata": {
        "id": "rYvn0PDwheA8",
        "colab": {
          "base_uri": "https://localhost:8080/",
          "height": 283
        },
        "outputId": "6053c652-1d62-4802-b112-bd6f6b5e9e0d"
      },
      "source": [
        "# гистограмма оценок пользователей для жанра Action\n",
        "\n",
        "df.query('year_of_release>=2012').query('genre == \"Action\"')['user_score'].plot(\n",
        "    kind='hist',\n",
        "    histtype='step',\n",
        "    range = (0, 10),\n",
        "    bins = 10,\n",
        "    linewidth=2,\n",
        "    grid=True,\n",
        "    legend=True\n",
        ")"
      ],
      "execution_count": null,
      "outputs": [
        {
          "output_type": "execute_result",
          "data": {
            "text/plain": [
              "<matplotlib.axes._subplots.AxesSubplot at 0x7ff8bf25de10>"
            ]
          },
          "metadata": {},
          "execution_count": 100
        },
        {
          "output_type": "display_data",
          "data": {
            "image/png": "[encoded data removed]",
            "text/plain": [
              "<Figure size 432x288 with 1 Axes>"
            ]
          },
          "metadata": {
            "needs_background": "light"
          }
        }
      ]
    },
    {
      "cell_type": "markdown",
      "metadata": {
        "id": "Fj8pLOexheA9"
      },
      "source": [
        "ИТОГИ по игровому жанру Action\n",
        "\n",
        "Можно отметить, что оценки критиков и игроков в жанре \"Экшн\" довольно близки друг другу(80 из 100 и соотв. 8 из 10). Но критики в целом ставят более высокую отметку(средняя критиков 71.3 из 100, против средней пользователей 6.8 из 10). \n",
        "\n",
        "И снова эксперты оказались чуть дружнее в своем голосовании, чем пользователи. Стандартное отклонение из таблицы выше дает нам их оценки 12.09 и 1,37. соответственно."
      ]
    },
    {
      "cell_type": "markdown",
      "metadata": {
        "id": "r5VyIB5HheA-"
      },
      "source": [
        "<div style=\"background-color: RoyalBlue;\">\n",
        "\n",
        "Скошенность влево говорит либо о длинном хвосте из слабых оценок, либо о наличии нескольких нулей в пользовательских рейтингах игр этого жанра. Также, как упоминалось ранее, жанр Action дороже в производстве и претензий к нему будет больше, поэтому вероятность провала игры в рейтингах очень велика.\n",
        "</div>"
      ]
    },
    {
      "cell_type": "markdown",
      "metadata": {
        "id": "nGcRVQqIheA-"
      },
      "source": [
        "## Проверка гипотез"
      ]
    },
    {
      "cell_type": "markdown",
      "metadata": {
        "id": "ugbOarV-heA-"
      },
      "source": [
        "### Проверим гипотезу, что средние пользовательские рейтинги платформ Xbox One и PC одинаковые"
      ]
    },
    {
      "cell_type": "markdown",
      "metadata": {
        "id": "fRoGl0qEheA-"
      },
      "source": [
        "Сформулируем нулевую гипотезу:\n",
        "\n",
        "    Средние пользовательские рейтинги платформ XOne и PC равны.\n",
        "\n",
        "Сформулируем альтернативную гипотезу:\n",
        "\n",
        "    Средние пользовательские рейтинги платформ XOne и PC отличаются.\n",
        "\n",
        "За критический уровень статистической значимости примем 5%, если p-value окажется меньше него - отвергнем гипотезу\n"
      ]
    },
    {
      "cell_type": "code",
      "metadata": {
        "id": "YIcEVJiwheA_",
        "colab": {
          "base_uri": "https://localhost:8080/"
        },
        "outputId": "ec08253f-7b5c-4e9c-d51c-9d2c0b395d28"
      },
      "source": [
        "# сформируем две совокупности для проверки нулевой гипотезы, возьмем данные за последние 5 лет\n",
        "\n",
        "user_score_xone = df.query('year_of_release>=2012').query('platform == \"XOne\"')['user_score'].dropna()\n",
        "user_score_pc = df.query('year_of_release>=2012').query('platform == \"PC\"')['user_score'].dropna()\n",
        "alpha = 0.05  # критический уровень статистической значимости, если p-value окажется меньше него - отвергнем гипотезу\n",
        "\n",
        "results = st.ttest_ind(user_score_xone, user_score_pc)\n",
        "\n",
        "print('p-значение:', results.pvalue)\n",
        "\n",
        "if results.pvalue < alpha:\n",
        "    print('Отвергаем нулевую гипотезу')\n",
        "else:\n",
        "    print('Не получилось отвергнуть нулевую гипотезу') "
      ],
      "execution_count": null,
      "outputs": [
        {
          "output_type": "stream",
          "text": [
            "p-значение: 0.5535080500643661\n",
            "Не получилось отвергнуть нулевую гипотезу\n"
          ],
          "name": "stdout"
        }
      ]
    },
    {
      "cell_type": "markdown",
      "metadata": {
        "id": "39_DBI2oheBC"
      },
      "source": [
        "Итак, нулевую гипотезу отвергнуть не получилось, отсюда следует, что мы не можем сказать, что средние пользовательские рейтинги платформ XOne и PC не равны.\n",
        "\n",
        "Полученное значение p-value говорит о том, что хотя средняя оценка пользовательских рейтингов двух платформ и не равна, с вероятностью в 55% такое или большее различие можно получить случайно.\n",
        "\n",
        "Это слишком большая вероятность, чтобы делать вывод о значимом различии между средними пользовательскими рейтингами платформ XOne и PC.\n"
      ]
    },
    {
      "cell_type": "markdown",
      "metadata": {
        "id": "rNwLnf_IheBC"
      },
      "source": [
        "### Проверим гипотезу, что средние пользовательские рейтинги жанров Action и Sports разные."
      ]
    },
    {
      "cell_type": "markdown",
      "metadata": {
        "id": "Kesoxxh6heBD"
      },
      "source": [
        "Сформулируем нулевую гипотезу:\n",
        "\n",
        "    Средние пользовательские рейтинги жанров Action и Sports равны.\n",
        "\n",
        "Сформулируем альтернативную гипотезу:\n",
        "\n",
        "    Средние пользовательские рейтинги жанров Action и Sports отличаются.\n",
        "\n",
        "За критический уровень статистической значимости примем 5%, если p-value окажется меньше него - отвергнем гипотезу гипотезу и подтвердим наше утверждение.\n"
      ]
    },
    {
      "cell_type": "code",
      "metadata": {
        "id": "SkDoBdeuheBE",
        "colab": {
          "base_uri": "https://localhost:8080/"
        },
        "outputId": "caf5813b-f722-4610-a48b-126fe257750f"
      },
      "source": [
        "# сформируем две совокупности для проверки нулевой гипотезы\n",
        "\n",
        "user_score_action = df.query('year_of_release>=2012').query('genre == \"Action\"')['user_score'].dropna()\n",
        "user_score_sports = df.query('year_of_release>=2012').query('genre == \"Sports\"')['user_score'].dropna()\n",
        "alpha = 0.05  # критический уровень статистической значимости, если p-value окажется меньше него - отвергнем гипотезу\n",
        "\n",
        "results = st.ttest_ind(user_score_action, user_score_sports)\n",
        "\n",
        "print('p-значение:', results.pvalue)\n",
        "\n",
        "if results.pvalue < alpha:\n",
        "    print('Отвергаем нулевую гипотезу')\n",
        "else:\n",
        "    print('Не получилось отвергнуть нулевую гипотезу') "
      ],
      "execution_count": null,
      "outputs": [
        {
          "output_type": "stream",
          "text": [
            "p-значение: 3.7163089460934874e-26\n",
            "Отвергаем нулевую гипотезу\n"
          ],
          "name": "stdout"
        }
      ]
    },
    {
      "cell_type": "markdown",
      "metadata": {
        "id": "Gd7YYKWPheBE"
      },
      "source": [
        "Нулевая гипотеза отвергнута, утверждение о том, что средние пользовательские рейтинги жанров Action и Sports разные - верно."
      ]
    },
    {
      "cell_type": "markdown",
      "metadata": {
        "id": "UQNizt1pheBF"
      },
      "source": [
        "## Выводы"
      ]
    },
    {
      "cell_type": "markdown",
      "metadata": {
        "id": "cqYdEd-WheBF"
      },
      "source": [
        "В данной работе мы проанализировали данные из открытых источников. Использовали исторические данные о продажах игр, оценки пользователей и экспертов, жанры и платформы. \n",
        "\n",
        "Поставленная задача заключалась в выявлении определяющих успешность игры закономерностей, которые позволят сделать ставку на потенциально популярный продукт и спланировать рекламные кампании на следующий год.\n",
        "\n",
        "Проделанные шаги:\n",
        "     \n",
        "1. Подготовка данных\n",
        "     \n",
        "    - Замена названия столбцов и названий игр.\n",
        "    - Преобразование типов данных в столбцах. \n",
        "    - Поиск и обработка пропусков.\n",
        "    - Определены данные и их период для исключения искажения при анализе.\n",
        "        \n",
        "2. Проведение исследовательского анализ данных\n",
        "\n",
        "    - Проведен анализ игр, сколько игр выпускалось в разные годы. \n",
        "    - Рассмотрены данные по изменениям продаж по платформам. Выбраны платформы с наибольшими суммарными продажами, построено распределение по годам. \n",
        "    - Мы нашли популярные в прошлом платформы, у которых сейчас продажи на нуле. За какой характерный период появляются новые и исчезают старые платформы?\n",
        "    - Определен период, данные за который нужно взять для исключения значимого искажения распределения по платформам в 2016 году.\n",
        "    - Выяснили какие платформы лидируют по продажам, растут и падают. Выбрали несколько потенциально прибыльных платформ.\n",
        "    - Построили график «ящик с усами» по глобальным продажам каждой игры и разбивкой по платформам. \n",
        "    - Выяснили велика ли разница в абсолютных продажах и в средних на разных платформах? \n",
        "    - Посмотрели, как влияют на продажи внутри одной популярной платформы отзывы пользователей и критиков. \n",
        "    - Построили диаграмму рассеяния и посчитали корреляцию между отзывами и продажами. \n",
        "    - Посмотрели на общее распределение игр по жанрам. Нашли самые прибыльные жанры.\n",
        "    \n",
        "3. Составили портрет пользователя каждого региона \n",
        "\n",
        "    - Северной Америке\n",
        "    - Европе\n",
        "    - Японии\n",
        "    - Нашли самые популярные платформы (топ-5) в каждом регионе. Нашли их доли рынка. \n",
        "    - Выяснили самые популярные жанры (топ-5) в каждом регионе.\n",
        "    - изучили влияет ли рейтинг ESRB на продажи в отдельном регионе?\n",
        "\n",
        "4. Провели исследования статистических показателей\n",
        "\n",
        "    - Посмотрели как изменяется пользовательский рейтинг и рейтинг критиков в различных жанрах. \n",
        "    - Посчитайте среднее, дисперсию и стандартное отклонение. \n",
        "    - Построили гистограммы.\n",
        "\n",
        "5. Проверили гипотезы\n",
        "\n",
        "    - Средние пользовательские рейтинги платформ Xbox One и PC одинаковые;\n",
        "    - Средние пользовательские рейтинги жанров Action и Sports разные.\n",
        "\n",
        "6. Полученные результаты\n",
        "    \n",
        "    Исходя из поставленой задачи, даются следующие рекомендации о том на какой потенциально популярный продукт следует обратить внимание и как спланировать рекламные кампании на следующий год:\n",
        "    \n",
        "    1. Для рекламные кампании по Северной Америке следует обратить внимание на следующие моменты:   \n",
        "    Платформы: лидер рынка X360 - 24%. Далее по убыванию: PS4 - 18%, PS3 - 17%, XOne - 16%, 3DS - 9%.\n",
        "    Самые популярные жанры в регионе: Action и Shooter, которые лидируют с большим отрывом от других игр. \n",
        "    \n",
        "    2. Для рекламные кампании по Европе следует обратить внимание на следующие моменты: \n",
        "    Платформы: лидеры рынка:  PS4 - 28%, PS3 - 21%, далее идут: X360 - 15%, XOne - 10%, 3DC - 8%.\n",
        "    Самые популярные жанры в Европе: Action и Shooter, которые лидируют с большим отрывом от других игр\n",
        "    \n",
        "    3. Для рекламные кампании по Японии следует обратить внимание на следующие моменты: \n",
        "    Платформы: лидер рынка  3DC - 46%, далее идут: PS3 - 18% и PSV - 11%.\n",
        "    Самые популярные жанры в Японии: Role-Playing и Action.\n",
        "    Предпочтение публика отдает мобильным платформам. \n",
        "    \n",
        "    4. Продажи во всех регионах в большей степени зависят от оценок экспертов, нежели от пользовательских рейтингов. Закрытость платформы является плюсом при учете доходов с продаж.\n",
        "    \n",
        "    5. Также нужно иметь ввиду, что\n",
        "    Есть большая вероятность, что нет существенного различия между средними пользовательскими рейтингами платформ XOne и PC.\n",
        "    Вероятно, что средние пользовательские рейтинги жанров Action и Sports разные. \n"
      ]
    }
  ]
}